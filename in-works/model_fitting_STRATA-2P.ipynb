{
 "cells": [
  {
   "cell_type": "markdown",
   "id": "64d9670a",
   "metadata": {},
   "source": [
    "If you're running this in Google Colab, you can click \"Copy to Drive\" (above &#8593;) or go to **File > Save a Copy in Drive** so you'll have your own version to work on. That requires a Google login.  \n",
    "<hr/>\n",
    "\n",
    "# Model Fitting with STRATA-2P Data\n",
    "This Jupyter notebook is a template for fitting a model function to a data set and comparing which models fit better. If you've ever used a trendline, that's an example of a model. Python is good for doing that with all sorts of functions, not just lines, and will allow you to later analyze data sets too big for a spreadsheet.      \n",
    "\n",
    "## Instructions  \n",
    "Run each block of code below and discuss the self-check questions at the end of each **Part**. If you need to start over from scratch, open a [clean copy of this activity](https://colab.research.google.com/github/adamlamee/CODINGinK12/blob/main/in-works/model_fitting_STRATA-2P.ipynb). If you'd like a refresher on how to work with Python notebooks, try the [intro activity](https://colab.research.google.com/github/adamlamee/CODINGinK12/blob/main/intro.ipynb).  \n",
    "\n",
    "## Part 1: Examine a data set  (grades 6-8)  \n",
    "This notebook starts by reading in a set measurements from UCF's STRATA-2P experiment led by [Dr. Addie Dove](https://planets.ucf.edu/people/faculty/adrienne-dove/) and describes the temperature of lunar regolith simulant (i.e., lab-made moon dust) just after it was heated up in a lunar gravity environment on a parabolic flight. Cool, right?"
   ]
  },
  {
   "cell_type": "code",
   "execution_count": null,
   "id": "3ed91b07",
   "metadata": {},
   "outputs": [],
   "source": [
    "# run this code to import the libraries of functions (aka 'modules') used later\n",
    "import pandas as pd                  # pandas handles data tables\n",
    "import numpy as np                   # numpy does math\n",
    "import matplotlib.pyplot as plt      # pyplot makes plots\n",
    "from scipy.optimize import curve_fit  # scipy has functions for model fitting"
   ]
  },
  {
   "cell_type": "code",
   "execution_count": null,
   "id": "9b035155",
   "metadata": {},
   "outputs": [],
   "source": [
    "# read in data\n",
    "data = pd.read_csv('https://github.com/adamlamee/UCF_labs/raw/main/data/STRATA-2P_cooling.csv')\n",
    "\n",
    "# the .head() command gives a preview of the first few rows of the dataframe\n",
    "data.head(3)"
   ]
  },
  {
   "cell_type": "code",
   "execution_count": null,
   "id": "319bbcb6",
   "metadata": {},
   "outputs": [],
   "source": [
    "# displays the number of (rows,columns) in the data set\n",
    "data.shape"
   ]
  },
  {
   "cell_type": "markdown",
   "id": "682593ad",
   "metadata": {},
   "source": [
    "### Self-check for Part 1  \n",
    "See the output of the code above to answer these questions.\n",
    "- How big in this data set?\n",
    "- Try editing the data.head( ) line to dipslay 10 rows.\n",
    "- What can you determine so far the relationship between time and temperature from data table above?  \n",
    "\n",
    "## Part 2: Make a scatterplot (grades 6-8)  \n",
    "The code below shows how to make a scatterplot of the data above.  "
   ]
  },
  {
   "cell_type": "code",
   "execution_count": null,
   "id": "f5ce612d",
   "metadata": {},
   "outputs": [],
   "source": [
    "# a scatterplot fo the entire data set can help get an idea of what we're dealing with\n",
    "# scatterplots take two columns (x, then y) follwed by additional parameters you can set\n",
    "plt.scatter(data['Time (s)'], data['Temp sensor (deg C)'], color='blue', marker='o', s=.1)\n",
    "plt.xlabel(\"label me\")\n",
    "plt.ylabel(\"Temperature (deg C)\")\n",
    "plt.title(\"titles are hard\")\n",
    "plt.show()"
   ]
  },
  {
   "cell_type": "markdown",
   "id": "759cf8e7",
   "metadata": {},
   "source": [
    "### Self-check  for Part 2\n",
    "Try editing the code above to do the following.  \n",
    "- Change the title to \"Regolith Cooling\" and re-run the code to see your new graph.\n",
    "- Change the color of the points. You can try guessing another color name or check out the list of [matplotlib named colors](https://matplotlib.org/stable/gallery/color/named_colors.html).\n",
    "- Give the x-axis a better label.\n",
    "- What was the duration of this data collection?  \n",
    "- What might be a good type of function to fit to this data? \n",
    "\n",
    "## Part 3: Fit a model function (grades 9-12)  \n",
    "Next, we'll define a function to model the pattern in the data. That function will take x-values (time) as inputs and output model y-values (temperature) that are close to the measured y-values.  "
   ]
  },
  {
   "cell_type": "code",
   "execution_count": null,
   "id": "8da697b1",
   "metadata": {},
   "outputs": [],
   "source": [
    "# define the function you'll fit\n",
    "def model(x, a, b):   # first argument (x) is input data, followed by coefficients of the model function\n",
    "    y = a * x + b        # that's just a line equation\n",
    "    return(y)\n",
    "\n",
    "# the function curve_fit() takes three arguments: (model function, x-values, y-values)\n",
    "# then calculates the optimized coefficients for your model function (called popt)\n",
    "popt, pcov = curve_fit(model, data['Time (s)'], data['Temp sensor (deg C)'])\n",
    "\n",
    "# makes a new column and fills it with values using the 'my_model' function above\n",
    "data['model'] = model(data['Time (s)'], *popt)\n",
    "\n",
    "# look at the first few rows to see if the code did what we wanted it to\n",
    "data.head(3)"
   ]
  },
  {
   "cell_type": "markdown",
   "id": "872b9059",
   "metadata": {},
   "source": [
    "### Self-check  \n",
    "- What **name** did the code above give to the model function?  \n",
    "- What type of function is being used to calculate the model values?  "
   ]
  },
  {
   "cell_type": "code",
   "execution_count": null,
   "id": "e56b9e5f",
   "metadata": {},
   "outputs": [],
   "source": [
    "# this outputs the optimized model coefficients\n",
    "popt   # these are in the order they appear in your model function .. slope (a) and y-int (b) in the example"
   ]
  },
  {
   "cell_type": "code",
   "execution_count": null,
   "id": "2b28979b",
   "metadata": {},
   "outputs": [],
   "source": [
    "# makes a scatterplot of the measured data the model's y-values\n",
    "plt.scatter(data['Time (s)'], data['Temp sensor (deg C)'], s=.1, color='darkorchid')    # plots time (x) and temp (y)\n",
    "plt.scatter(data['Time (s)'], data['model'], s=.1, color='goldenrod')  # plots time (x) and model values (y)\n",
    "plt.show()"
   ]
  },
  {
   "cell_type": "markdown",
   "id": "8028141a",
   "metadata": {},
   "source": [
    "### Self-Check for Part 3  \n",
    "- What's the slope of that tendline? *hint: look for \"popt\" aboce, the optimized parameters*.  \n",
    "- What is the equation of this line of best fit?  \n",
    "- What are the signs that this data isn't quite linear? Can you think of any functions that might be a better fit?  \n",
    "- Can you set the labels and axis limits for this new scatterplot? A common practice is to copy/paste from other working code instead of writing everyting from scratch.  \n",
    "\n",
    "## Part 4: Extension  \n",
    "Add some blank code cells below to accomplish the following:  \n",
    "- Add a column to the data table called \"residual\" and fill is with the difference between the measured temperatures and the model values.  \n",
    "- Make a 'residual plot', a scatterplot of residuals vs. time to show any patterns in how well the trendline fits the data.  \n",
    "- Try fitting a different model function that may be a better fit based on relveant physical principles fo rthis scenario.\n",
    "\n",
    "\n",
    "<hr/>  \n",
    "\n",
    "# Credits\n",
    "This notebook was written by [Adam LaMee](http://www.adamlamee.com). Thanks to the great folks at [Binder](https://mybinder.org/) and [Google Colaboratory](https://colab.research.google.com/notebooks/intro.ipynb) for making this notebook interactive without you needing to download it or install [Jupyter](https://jupyter.org/) on your own device.  "
   ]
  }
 ],
 "metadata": {
  "kernelspec": {
   "display_name": "Python 3 (ipykernel)",
   "language": "python",
   "name": "python3"
  },
  "language_info": {
   "codemirror_mode": {
    "name": "ipython",
    "version": 3
   },
   "file_extension": ".py",
   "mimetype": "text/x-python",
   "name": "python",
   "nbconvert_exporter": "python",
   "pygments_lexer": "ipython3",
   "version": "3.9.15"
  }
 },
 "nbformat": 4,
 "nbformat_minor": 5
}
