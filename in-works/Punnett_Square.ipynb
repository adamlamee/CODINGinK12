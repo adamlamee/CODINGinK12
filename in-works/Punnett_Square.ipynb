{
 "cells": [
  {
   "cell_type": "markdown",
   "metadata": {
    "colab_type": "text",
    "id": "7DIwQmBcebog"
   },
   "source": [
    "# Punnett Square\n",
    "In this activity, you'll use a punnett square to discover the likelihood of children inheriting certain genotypes based on the genotypes of their parents.\n",
    "\n",
    "To get started,\n",
    "- You won't hurt anything by experimenting. If you break it, close the tab and open the activity again to start over.\n",
    "- Is this your first time? Need a refresher? Try the 5-minute [Intro to Jupyter activity](./Intro_to_Jupyter.ipynb) and come back here. \n",
    "\n",
    "When you're ready, run each code cell until you get down to **Part One**.\n"
   ]
  },
  {
   "cell_type": "code",
   "execution_count": 1,
   "metadata": {
    "colab": {},
    "colab_type": "code",
    "id": "H-BzqjZxdS2T"
   },
   "outputs": [],
   "source": [
    "#We first have to import all the software packages that we'll need.\n",
    "import pandas as pd\n",
    "import numpy as np\n",
    "%matplotlib inline\n",
    "import matplotlib as mpl\n",
    "import matplotlib.pyplot as plt"
   ]
  },
  {
   "cell_type": "code",
   "execution_count": 2,
   "metadata": {
    "colab": {},
    "colab_type": "code",
    "id": "ktlQ--4JQ4sA"
   },
   "outputs": [],
   "source": [
    "#The block of code below that says show code gives us the ability to check our combinations and fix \n",
    "#the order of the letters later on."
   ]
  },
  {
   "cell_type": "code",
   "execution_count": 3,
   "metadata": {
    "cellView": "form",
    "colab": {},
    "colab_type": "code",
    "id": "6Xne0ppX_TKM"
   },
   "outputs": [],
   "source": [
    "#@title\n",
    "#This will allow us to check if the genotype is reccesive or dominant\n",
    "def checker(gene):\n",
    "  checker = False\n",
    "  if len(gene) == 2:\n",
    "    if gene[0].isupper() or gene[1].isupper():\n",
    "      color = 'red'\n",
    "      return 'color: %s' % color\n",
    "    else:\n",
    "      color = 'blue'\n",
    "      return 'color: %s' % color\n",
    "  else:\n",
    "    return gene\n",
    "  \n",
    "def fix(gene):\n",
    "  if gene[1].isupper() and gene[0].islower():\n",
    "    gene = gene.lower().capitalize()\n",
    "    return gene\n",
    "  else:\n",
    "    return gene"
   ]
  },
  {
   "cell_type": "code",
   "execution_count": 4,
   "metadata": {
    "colab": {},
    "colab_type": "code",
    "id": "4KZ3j-aKQZeq"
   },
   "outputs": [],
   "source": [
    "#Information for both the parents\n",
    "parent_one = \"AA\"\n",
    "parent_two = \"AA\"\n",
    "\n",
    "#This will pair the genes together into their possible combinations\n",
    "combo_one = fix(parent_one[0]+parent_two[0])\n",
    "combo_two = fix(parent_one[1] + parent_two[0])\n",
    "combo_three = fix(parent_one[0]+parent_two[1])\n",
    "combo_four = fix(parent_one[1]+parent_two[1]) "
   ]
  },
  {
   "cell_type": "markdown",
   "metadata": {
    "colab_type": "text",
    "id": "ZT2ll0mgFVsT"
   },
   "source": [
    "#Part 1"
   ]
  },
  {
   "cell_type": "markdown",
   "metadata": {
    "colab_type": "text",
    "id": "yU5d2vlDQv_h"
   },
   "source": [
    "Take a look at the two parents information above.\n",
    "\n",
    "*   What do the combination of numbers after the words parent_one and parent_two represent? What do the individual letters represent?\n",
    "*   Everything with 0 in the brackets is the first letter of that parent and the ones with 1 mean the second letter of that parent. Knowing this, what is happening on the lines that say combo?\n",
    "\n",
    "When your ready, scroll down to **Part 3**"
   ]
  },
  {
   "cell_type": "code",
   "execution_count": 5,
   "metadata": {
    "colab": {
     "base_uri": "https://localhost:8080/",
     "height": 146
    },
    "colab_type": "code",
    "id": "ben8GE8Ud2vl",
    "outputId": "a3a585c3-49e3-4419-88c5-aa06d4aa2734"
   },
   "outputs": [
    {
     "data": {
      "text/html": [
       "<style  type=\"text/css\" >\n",
       "    #T_889b9336_2bab_11e9_9691_acbc328f4601 th {\n",
       "          color: white;\n",
       "          font-size: 0%;\n",
       "    }    #T_889b9336_2bab_11e9_9691_acbc328f4601row0_col0 {\n",
       "            font-size:  20pt;\n",
       "            text-align:  center;\n",
       "        }    #T_889b9336_2bab_11e9_9691_acbc328f4601row0_col1 {\n",
       "            : ;\n",
       "            font-size:  20pt;\n",
       "            text-align:  center;\n",
       "        }    #T_889b9336_2bab_11e9_9691_acbc328f4601row0_col2 {\n",
       "            : ;\n",
       "            font-size:  20pt;\n",
       "            text-align:  center;\n",
       "        }    #T_889b9336_2bab_11e9_9691_acbc328f4601row1_col0 {\n",
       "            font-size:  20pt;\n",
       "            text-align:  center;\n",
       "        }    #T_889b9336_2bab_11e9_9691_acbc328f4601row1_col1 {\n",
       "            color:  red;\n",
       "            font-size:  20pt;\n",
       "            text-align:  center;\n",
       "        }    #T_889b9336_2bab_11e9_9691_acbc328f4601row1_col2 {\n",
       "            color:  red;\n",
       "            font-size:  20pt;\n",
       "            text-align:  center;\n",
       "        }    #T_889b9336_2bab_11e9_9691_acbc328f4601row2_col0 {\n",
       "            font-size:  20pt;\n",
       "            text-align:  center;\n",
       "        }    #T_889b9336_2bab_11e9_9691_acbc328f4601row2_col1 {\n",
       "            color:  red;\n",
       "            font-size:  20pt;\n",
       "            text-align:  center;\n",
       "        }    #T_889b9336_2bab_11e9_9691_acbc328f4601row2_col2 {\n",
       "            color:  red;\n",
       "            font-size:  20pt;\n",
       "            text-align:  center;\n",
       "        }</style>  \n",
       "<table id=\"T_889b9336_2bab_11e9_9691_acbc328f4601\" ><caption>Red: Blue: </caption> \n",
       "<thead>    <tr> \n",
       "        <th class=\"blank level0\" ></th> \n",
       "        <th class=\"col_heading level0 col0\" >1</th> \n",
       "        <th class=\"col_heading level0 col1\" >2</th> \n",
       "        <th class=\"col_heading level0 col2\" >3</th> \n",
       "    </tr></thead> \n",
       "<tbody>    <tr> \n",
       "        <th id=\"T_889b9336_2bab_11e9_9691_acbc328f4601level0_row0\" class=\"row_heading level0 row0\" >1</th> \n",
       "        <td id=\"T_889b9336_2bab_11e9_9691_acbc328f4601row0_col0\" class=\"data row0 col0\" > </td> \n",
       "        <td id=\"T_889b9336_2bab_11e9_9691_acbc328f4601row0_col1\" class=\"data row0 col1\" >A</td> \n",
       "        <td id=\"T_889b9336_2bab_11e9_9691_acbc328f4601row0_col2\" class=\"data row0 col2\" >A</td> \n",
       "    </tr>    <tr> \n",
       "        <th id=\"T_889b9336_2bab_11e9_9691_acbc328f4601level0_row1\" class=\"row_heading level0 row1\" >2</th> \n",
       "        <td id=\"T_889b9336_2bab_11e9_9691_acbc328f4601row1_col0\" class=\"data row1 col0\" >A</td> \n",
       "        <td id=\"T_889b9336_2bab_11e9_9691_acbc328f4601row1_col1\" class=\"data row1 col1\" >AA</td> \n",
       "        <td id=\"T_889b9336_2bab_11e9_9691_acbc328f4601row1_col2\" class=\"data row1 col2\" >AA</td> \n",
       "    </tr>    <tr> \n",
       "        <th id=\"T_889b9336_2bab_11e9_9691_acbc328f4601level0_row2\" class=\"row_heading level0 row2\" >3</th> \n",
       "        <td id=\"T_889b9336_2bab_11e9_9691_acbc328f4601row2_col0\" class=\"data row2 col0\" >A</td> \n",
       "        <td id=\"T_889b9336_2bab_11e9_9691_acbc328f4601row2_col1\" class=\"data row2 col1\" >AA</td> \n",
       "        <td id=\"T_889b9336_2bab_11e9_9691_acbc328f4601row2_col2\" class=\"data row2 col2\" >AA</td> \n",
       "    </tr></tbody> \n",
       "</table> "
      ],
      "text/plain": [
       "<pandas.io.formats.style.Styler at 0x121b551d0>"
      ]
     },
     "execution_count": 5,
     "metadata": {},
     "output_type": "execute_result"
    }
   ],
   "source": [
    "#Now we'll assemble a Punnett square with these values.\n",
    "data =  {1 : [\" \", parent_one[0], parent_one[1]],\n",
    "         2 : [parent_two[0],combo_one,combo_two],\n",
    "         3 : [parent_two[1], combo_three,combo_four]}\n",
    "index = [1,2,3]\n",
    "columns = [1,2,3]\n",
    "frame = pd.DataFrame(data,index=index, columns=columns)\n",
    "\n",
    "#Now lets format the Punnett square a little more to make it so \n",
    "#the color of our genotypes reveal something about the genotypes.\n",
    "styles = [dict(selector=\"th\", props=[(\"color\", \"white\"),\n",
    "                                     (\"font-size\", \"0%\")])]\n",
    "frame.style\\\n",
    "      .applymap(checker, subset=[2, 3])\\\n",
    "      .set_properties(**{'font-size': '20pt',\n",
    "                        'text-align': 'center'})\\\n",
    "      .set_table_styles(styles)\\\n",
    "      .set_caption(\"Red: Blue: \")"
   ]
  },
  {
   "cell_type": "markdown",
   "metadata": {
    "colab_type": "text",
    "id": "H-4Yu4BAjAsz"
   },
   "source": [
    "#Part 2"
   ]
  },
  {
   "cell_type": "markdown",
   "metadata": {
    "colab_type": "text",
    "id": "8jD6zaC2S3kO"
   },
   "source": [
    "Take a look at the square above.  Based on the information,\n",
    "\n",
    "\n",
    "*   What do you think the red and blue colored text indicates? (Assume the alelles have complete dominance)\n",
    "*   In the part of the code that sets the caption, indicate what you think those colors indicate. (If it's not apparent try changing the values of the parent_1 and parent_2 variable to different upper or lowercase letters and see what happens)\n",
    "\n",
    "When you're ready, scroll down to **Part Three.**"
   ]
  },
  {
   "cell_type": "code",
   "execution_count": 6,
   "metadata": {
    "colab": {
     "base_uri": "https://localhost:8080/",
     "height": 606
    },
    "colab_type": "code",
    "id": "ZLjUYujwzAfJ",
    "outputId": "20cffe71-8b69-4098-ff89-4598089e6018"
   },
   "outputs": [
    {
     "name": "stdout",
     "output_type": "stream",
     "text": [
      "Pie Chart Analysis \n",
      "      \n",
      "      Complete Dominance\n",
      "      Dominant: Reccesive: \n",
      "      \n",
      "      Types of Combinations\n",
      "      Heterozygous: Homozygous:\n",
      "      \n",
      "      Incomplete Dominance\n",
      "      Dominant: Reccesive: Mixture:\n",
      "\n"
     ]
    },
    {
     "data": {
      "image/png": "[encoded data removed]",
      "text/plain": [
       "<Figure size 504x1440 with 1 Axes>"
      ]
     },
     "metadata": {},
     "output_type": "display_data"
    }
   ],
   "source": [
    "#Plots the Punnett square in a pie chart\n",
    "original = [frame.get_values()[1][1],frame.get_values()[1][2],\\\n",
    "       frame.get_values()[2][1],frame.get_values()[2][2]]\n",
    "testcount = np.unique(original,return_counts = True)\n",
    "labels = testcount[0]\n",
    "values = testcount[1]\n",
    "df = pd.DataFrame({'label': values,},\n",
    "                  index=labels)\n",
    "plot = df.plot.pie(y='label', figsize=(7,20), fontsize=20)\n",
    "\n",
    "#Prints out our analysis of what is happening in the pie chart\n",
    "print(\"Pie Chart Analysis \\n\\\n",
    "      \\n\\\n",
    "      Complete Dominance\\n\\\n",
    "      Dominant: Reccesive: \\n\\\n",
    "      \\n\\\n",
    "      Types of Combinations\\n\\\n",
    "      Heterozygous: Homozygous:\\n\\\n",
    "      \\n\\\n",
    "      Incomplete Dominance\\n\\\n",
    "      Dominant: Reccesive: Mixture:\\n\")"
   ]
  },
  {
   "cell_type": "markdown",
   "metadata": {
    "colab_type": "text",
    "id": "ODVylcdFzBso"
   },
   "source": [
    "#Part 3"
   ]
  },
  {
   "cell_type": "markdown",
   "metadata": {
    "colab_type": "text",
    "id": "rgH3wh4ySaTV"
   },
   "source": [
    "The code above can be used to plot the different combinations of alelles in the Punnett square.\n",
    "\n",
    "* This pie graph is great, but the label seems to be incomplete. Try making the title a little more descriptive. (Hint: Make sure you change the label at both of the places that it is in the code or yoour code won't run and you'll get an error!)\n",
    "*   Look at the last line that says print and then look at what its printing. The / at the ned of each line is allowing us to write on more than one line. What do you think that the /n is doing?\n",
    "* How many Homozygous  and Heterozygous pairs are there? Update the print statement with this info.\n",
    "*   If the alelles have complete dominance, what is the percentage chance of the offspring getting the dominant and recessive traits? Update the print statement with this information.\n",
    "*   If the alelles have incomplete dominance, how many will get the dominant trait, the reccesive trait, or a mix of the two? Update the print statement with this information.\n",
    "\n",
    "\n",
    "\n"
   ]
  },
  {
   "cell_type": "markdown",
   "metadata": {
    "colab_type": "text",
    "id": "p-8PbR7vjRQZ"
   },
   "source": [
    "---\n",
    "## Saving Your Work\n",
    "This is running on a Google server on a distant planet and deletes what you've done when you close this tab. To save your work for later use or analysis you have a few options:\n",
    "- File > Download .ipynb to save to your computer (and run with Jupyter software)\n",
    "- File > Download .py to save to your computer (and run with any Python software)\n",
    "- File > Print to ... um ... print.\n",
    "- Save an image to your computer of a graph or chart, right-click on it and select Save Image as ...\n",
    "\n",
    "## Credits\n",
    "UCF undergraduate Dylan Skelly, who started the development of this notebook, was funded by Orange County Schools to make scientific computing a standard part of every middle school science class. Adam LaMee coordinated its development as the PhysTEC Teacher-in-residence in the University of Central Florida's Physics department.Thanks to the great folks at [Binder](https://mybinder.org/) and [Google Colaboratory](https://www.google.com/url?sa=t&rct=j&q=&esrc=s&source=web&cd=1&cad=rja&uact=8&ved=0ahUKEwjF96bdrO_bAhXD0FMKHUhAA-kQFggpMAA&url=https%3A%2F%2Fcolab.research.google.com%2F&usg=AOvVaw3A5aPK2kLFzKOzb6sOckVw) for making this notebook interactive without you needing to download it or install Jupyter on your own device. Find more activities and license info at [CODINGinK12.org](http://www.codingink12.org)."
   ]
  }
 ],
 "metadata": {
  "colab": {
   "collapsed_sections": [],
   "name": "Punnett Square",
   "provenance": [],
   "version": "0.3.2"
  },
  "kernelspec": {
   "display_name": "Python 3",
   "language": "python",
   "name": "python3"
  },
  "language_info": {
   "codemirror_mode": {
    "name": "ipython",
    "version": 3
   },
   "file_extension": ".py",
   "mimetype": "text/x-python",
   "name": "python",
   "nbconvert_exporter": "python",
   "pygments_lexer": "ipython3",
   "version": "3.7.1"
  }
 },
 "nbformat": 4,
 "nbformat_minor": 1
}
