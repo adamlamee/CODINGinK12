{
 "cells": [
  {
   "cell_type": "markdown",
   "metadata": {},
   "source": [
    "# Dichotomous Key\n",
    "\n",
    "A Dichotomous key is a tool to allow you to identify organisms such as animals, plants, and insects.\n",
    "You will usually have a question with two options in which your answer will help determine which organism you are trying to identify."
   ]
  },
  {
   "cell_type": "code",
   "execution_count": 1,
   "metadata": {
    "collapsed": true
   },
   "outputs": [],
   "source": [
    "# Import modules that contain functions we need\n",
    "import pandas as pd\n",
    "import numpy as np\n",
    "%matplotlib inline\n",
    "import matplotlib.pyplot as plt"
   ]
  },
  {
   "cell_type": "markdown",
   "metadata": {},
   "source": [
    "## Importing the Data"
   ]
  },
  {
   "cell_type": "code",
   "execution_count": 2,
   "metadata": {
    "collapsed": false
   },
   "outputs": [],
   "source": [
    "# Our data is the dichotomous key table and is defined as the word 'data'.\n",
    "# data is set equal to the .csv file that is read by pandas.\n",
    "# The .csv file must be in the same disrectory as the program.\n",
    "key = pd.read_csv(\"Dichotomous_key.csv\")\n",
    "\n",
    "# This sets Organism as the index instead of numbers\n",
    "#key = data.set_index(\"Organism\")"
   ]
  },
  {
   "cell_type": "markdown",
   "metadata": {},
   "source": [
    "## Animal Choices"
   ]
  },
  {
   "cell_type": "code",
   "execution_count": 3,
   "metadata": {
    "collapsed": false
   },
   "outputs": [
    {
     "data": {
      "text/plain": [
       "0             badger\n",
       "1                bat\n",
       "2               bear\n",
       "3             beaver\n",
       "4                bee\n",
       "5        black widow\n",
       "6             bobcat\n",
       "7          butterfly\n",
       "8                cat\n",
       "9            chicken\n",
       "10        chimpanzee\n",
       "11          chipmunk\n",
       "12         clownfish\n",
       "13               cow\n",
       "14         crocodile\n",
       "15         death cap\n",
       "16              deer\n",
       "17               dog\n",
       "18           dolphin\n",
       "19         dragonfly\n",
       "20              duck\n",
       "21             eagle\n",
       "22          flamingo\n",
       "23              flea\n",
       "24               fly\n",
       "25               fox\n",
       "26           giraffe\n",
       "27             goose\n",
       "28           hamster\n",
       "29      hippopotamus\n",
       "           ...      \n",
       "45               pig\n",
       "46         pine tree\n",
       "47        poison ivy\n",
       "48         porcupine\n",
       "49            rabbit\n",
       "50           raccoon\n",
       "51       rattlesnake\n",
       "52         red panda\n",
       "53        rhinoceros\n",
       "54        salamander\n",
       "55          scorpion\n",
       "56              seal\n",
       "57             shark\n",
       "58             skunk\n",
       "59             sloth\n",
       "60             snail\n",
       "61          squirrel\n",
       "62         tree frog\n",
       "63             tucan\n",
       "64            turkey\n",
       "65            turtle\n",
       "66           vulture\n",
       "67              wasp\n",
       "68            weasel\n",
       "69             whale\n",
       "70    white mushroom\n",
       "71              wolf\n",
       "72        woodpecker\n",
       "73              worm\n",
       "74             yeast\n",
       "Name: Organism, dtype: object"
      ]
     },
     "execution_count": 3,
     "metadata": {},
     "output_type": "execute_result"
    }
   ],
   "source": [
    "# Animal options in Dichotomous Key\n",
    "# Displays all row titles as an array\n",
    "key.Organism"
   ]
  },
  {
   "cell_type": "markdown",
   "metadata": {},
   "source": [
    "## Conditionals\n",
    "\n",
    "These are the conditions in which ceratin answers are categorized for certain organisms.\n",
    "Each question/condition has a yes/no or preset answer with three options at most such as cold/warm blooded/NA"
   ]
  },
  {
   "cell_type": "code",
   "execution_count": 4,
   "metadata": {
    "collapsed": false
   },
   "outputs": [
    {
     "data": {
      "text/plain": [
       "Index(['Organism', 'fur', 'marine', 'terrestrial', 'kingdom', 'feathers',\n",
       "       'scales', 'fins', 'carnivore', 'herbivore', 'omnivore', 'vertebrate',\n",
       "       'eggs', 'live young', 'photosynthesis', 'multicellular', 'wings',\n",
       "       '2 legs', '4 or more legs', 'no legs', 'autotroph', 'poisonous',\n",
       "       'cold blooded', 'Eukaryotic', 'Prokaryotic', 'decomposer', 'hooves',\n",
       "       'long tail', 'domesticated'],\n",
       "      dtype='object')"
      ]
     },
     "execution_count": 4,
     "metadata": {},
     "output_type": "execute_result"
    }
   ],
   "source": [
    "# Conditions/Questions for finding the correct animal\n",
    "# Displays all column titles as an array\n",
    "key.columns"
   ]
  },
  {
   "cell_type": "markdown",
   "metadata": {},
   "source": [
    "## Condition Query\n",
    "\n",
    "Change the conditionals in the code below to change what organism(s) are displayed.\n",
    "\n",
    "**Capitalization matters so be careful. You also must put in only allowed answers in every condition or the code will break!**"
   ]
  },
  {
   "cell_type": "code",
   "execution_count": 7,
   "metadata": {
    "collapsed": false
   },
   "outputs": [
    {
     "data": {
      "text/html": [
       "<div>\n",
       "<table border=\"1\" class=\"dataframe\">\n",
       "  <thead>\n",
       "    <tr style=\"text-align: right;\">\n",
       "      <th></th>\n",
       "      <th>Organism</th>\n",
       "      <th>fur</th>\n",
       "      <th>marine</th>\n",
       "      <th>terrestrial</th>\n",
       "      <th>kingdom</th>\n",
       "      <th>feathers</th>\n",
       "      <th>scales</th>\n",
       "      <th>fins</th>\n",
       "      <th>carnivore</th>\n",
       "      <th>herbivore</th>\n",
       "      <th>...</th>\n",
       "      <th>no legs</th>\n",
       "      <th>autotroph</th>\n",
       "      <th>poisonous</th>\n",
       "      <th>cold blooded</th>\n",
       "      <th>Eukaryotic</th>\n",
       "      <th>Prokaryotic</th>\n",
       "      <th>decomposer</th>\n",
       "      <th>hooves</th>\n",
       "      <th>long tail</th>\n",
       "      <th>domesticated</th>\n",
       "    </tr>\n",
       "  </thead>\n",
       "  <tbody>\n",
       "    <tr>\n",
       "      <th>69</th>\n",
       "      <td>whale</td>\n",
       "      <td>no</td>\n",
       "      <td>yes</td>\n",
       "      <td>no</td>\n",
       "      <td>animalia</td>\n",
       "      <td>no</td>\n",
       "      <td>no</td>\n",
       "      <td>yes</td>\n",
       "      <td>no</td>\n",
       "      <td>no</td>\n",
       "      <td>...</td>\n",
       "      <td>yes</td>\n",
       "      <td>no</td>\n",
       "      <td>no</td>\n",
       "      <td>no</td>\n",
       "      <td>yes</td>\n",
       "      <td>no</td>\n",
       "      <td>no</td>\n",
       "      <td>no</td>\n",
       "      <td>yes</td>\n",
       "      <td>no</td>\n",
       "    </tr>\n",
       "  </tbody>\n",
       "</table>\n",
       "<p>1 rows × 29 columns</p>\n",
       "</div>"
      ],
      "text/plain": [
       "   Organism fur marine terrestrial   kingdom feathers scales fins carnivore  \\\n",
       "69    whale  no    yes          no  animalia       no     no  yes        no   \n",
       "\n",
       "   herbivore     ...      no legs autotroph poisonous cold blooded Eukaryotic  \\\n",
       "69        no     ...          yes        no        no           no        yes   \n",
       "\n",
       "   Prokaryotic decomposer hooves long tail domesticated  \n",
       "69          no         no     no       yes           no  \n",
       "\n",
       "[1 rows x 29 columns]"
      ]
     },
     "execution_count": 7,
     "metadata": {},
     "output_type": "execute_result"
    }
   ],
   "source": [
    "# This conditional allows us to query a column and if the data within that cell matches,\n",
    "# it will display the corresponding animal(s)\n",
    "key[(key['fur'] == 'no') & \\\n",
    "    (key['marine'] == 'yes') & \\\n",
    "    (key['terrestrial'] == 'no') & \\\n",
    "    (key['kingdom'] == 'animalia') & \\\n",
    "    (key['feathers'] == 'no') & \\\n",
    "    (key['scales'] == 'no') & \\\n",
    "    (key['fins'] == 'yes') & \\\n",
    "    (key['carnivore'] == 'no') & \\\n",
    "    (key['herbivore'] == 'no') & \\\n",
    "    (key['omnivore'] == 'yes') & \\\n",
    "    (key['vertebrate'] == 'yes') & \\\n",
    "    (key['eggs'] == 'no') & \\\n",
    "    (key['live young'] == 'yes') & \\\n",
    "    (key['photosynthesis'] == 'no') & \\\n",
    "    (key['multicellular'] == 'yes') & \\\n",
    "    (key['wings'] == 'no') & \\\n",
    "    (key['2 legs'] == 'no') & \\\n",
    "    (key['4 or more legs'] == 'no') & \\\n",
    "    (key['no legs'] == 'yes') & \\\n",
    "    (key['autotroph'] == 'no') & \\\n",
    "    (key['poisonous'] == 'no') & \\\n",
    "    (key['cold blooded'] == 'no') & \\\n",
    "    (key['Eukaryotic'] == 'yes') & \\\n",
    "    (key['Prokaryotic'] == 'no') & \\\n",
    "    (key['decomposer'] == 'no') & \\\n",
    "    (key['hooves'] == 'no') & \\\n",
    "    (key['long tail'] == 'yes') & \\\n",
    "    (key['domesticated'] == 'no')]"
   ]
  },
  {
   "cell_type": "markdown",
   "metadata": {},
   "source": [
    "### Questions/Activities to Consider\n",
    "\n",
    "1.) Does a dolphin have scales or fins?\n",
    "\n",
    "2.) Do Dragonfly's have vertebrates?\n",
    "\n",
    "3.) What conditional statements would show you a cow? What would show you a squirrel?\n",
    "\n",
    "4.) Do porcupines have live young or lay eggs?\n",
    "\n",
    "5.) How many legs does a penguin have?\n",
    "\n",
    "6.) What are some examples of marine animals? Terrestrial animals? \n",
    "\n",
    "7.) Find a few poisonous animals by changing the conditional statements.\n",
    "\n",
    "8.) Are any animals unicellular? \n",
    "\n",
    "9.) What kingdom are animals classified under? What are some examples of plantae? What are some examples of fungi?"
   ]
  },
  {
   "cell_type": "markdown",
   "metadata": {},
   "source": [
    "# Still to do\n",
    "Add names and major for the students who developed this notebook. You can double-click on this cell to edit the text."
   ]
  }
 ],
 "metadata": {
  "kernelspec": {
   "display_name": "Python 3",
   "language": "python",
   "name": "python3"
  },
  "language_info": {
   "codemirror_mode": {
    "name": "ipython",
    "version": 3
   },
   "file_extension": ".py",
   "mimetype": "text/x-python",
   "name": "python",
   "nbconvert_exporter": "python",
   "pygments_lexer": "ipython3",
   "version": "3.5.2"
  }
 },
 "nbformat": 4,
 "nbformat_minor": 2
}
