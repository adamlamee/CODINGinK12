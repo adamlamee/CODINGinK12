{
 "cells": [
  {
   "cell_type": "code",
   "execution_count": 1,
   "metadata": {
    "collapsed": true
   },
   "outputs": [],
   "source": [
    "# Import modules that contain functions we need\n",
    "import pandas as pd\n",
    "import numpy as np\n",
    "%matplotlib inline\n",
    "import matplotlib.pyplot as plt"
   ]
  },
  {
   "cell_type": "code",
   "execution_count": 2,
   "metadata": {
    "collapsed": true
   },
   "outputs": [],
   "source": [
    "data = pd.read_csv(\"./exoplanets-2.csv\")"
   ]
  },
  {
   "cell_type": "code",
   "execution_count": 3,
   "metadata": {
    "collapsed": false
   },
   "outputs": [
    {
     "data": {
      "text/html": [
       "<div>\n",
       "<table border=\"1\" class=\"dataframe\">\n",
       "  <thead>\n",
       "    <tr style=\"text-align: right;\">\n",
       "      <th></th>\n",
       "      <th>﻿DEPTH</th>\n",
       "      <th>R</th>\n",
       "      <th>RSTAR</th>\n",
       "      <th>MASS</th>\n",
       "      <th>ECC</th>\n",
       "      <th>DATE</th>\n",
       "      <th>DENSITY</th>\n",
       "      <th>DIST</th>\n",
       "      <th>GRAVITY</th>\n",
       "      <th>STARDISCMETH</th>\n",
       "      <th>RA</th>\n",
       "      <th>DEC</th>\n",
       "    </tr>\n",
       "  </thead>\n",
       "  <tbody>\n",
       "    <tr>\n",
       "      <th>0</th>\n",
       "      <td>0.010000</td>\n",
       "      <td>0.000000</td>\n",
       "      <td>1.613</td>\n",
       "      <td>0.000000</td>\n",
       "      <td>0.0</td>\n",
       "      <td>NaN</td>\n",
       "      <td>NaN</td>\n",
       "      <td>NaN</td>\n",
       "      <td>NaN</td>\n",
       "      <td>NaN</td>\n",
       "      <td>NaN</td>\n",
       "      <td>NaN</td>\n",
       "    </tr>\n",
       "    <tr>\n",
       "      <th>1</th>\n",
       "      <td>66.100000</td>\n",
       "      <td>0.008101</td>\n",
       "      <td>0.109</td>\n",
       "      <td>0.000001</td>\n",
       "      <td>0.0</td>\n",
       "      <td>NaN</td>\n",
       "      <td>NaN</td>\n",
       "      <td>NaN</td>\n",
       "      <td>NaN</td>\n",
       "      <td>NaN</td>\n",
       "      <td>NaN</td>\n",
       "      <td>NaN</td>\n",
       "    </tr>\n",
       "    <tr>\n",
       "      <th>2</th>\n",
       "      <td>0.000012</td>\n",
       "      <td>0.027008</td>\n",
       "      <td>0.770</td>\n",
       "      <td>0.009587</td>\n",
       "      <td>0.0</td>\n",
       "      <td>2013.0</td>\n",
       "      <td>645.278</td>\n",
       "      <td>66.0</td>\n",
       "      <td>4.55299</td>\n",
       "      <td>Transit</td>\n",
       "      <td>18.937307</td>\n",
       "      <td>44.518139</td>\n",
       "    </tr>\n",
       "  </tbody>\n",
       "</table>\n",
       "</div>"
      ],
      "text/plain": [
       "      ﻿DEPTH         R  RSTAR      MASS  ECC    DATE  DENSITY  DIST  GRAVITY  \\\n",
       "0   0.010000  0.000000  1.613  0.000000  0.0     NaN      NaN   NaN      NaN   \n",
       "1  66.100000  0.008101  0.109  0.000001  0.0     NaN      NaN   NaN      NaN   \n",
       "2   0.000012  0.027008  0.770  0.009587  0.0  2013.0  645.278  66.0  4.55299   \n",
       "\n",
       "  STARDISCMETH         RA        DEC  \n",
       "0          NaN        NaN        NaN  \n",
       "1          NaN        NaN        NaN  \n",
       "2      Transit  18.937307  44.518139  "
      ]
     },
     "execution_count": 3,
     "metadata": {},
     "output_type": "execute_result"
    }
   ],
   "source": [
    "# list first 3 rows in table\n",
    "data.head(3)"
   ]
  },
  {
   "cell_type": "code",
   "execution_count": 14,
   "metadata": {
    "collapsed": false
   },
   "outputs": [
    {
     "data": {
      "text/plain": [
       "<matplotlib.text.Text at 0x113da1c18>"
      ]
     },
     "execution_count": 14,
     "metadata": {},
     "output_type": "execute_result"
    },
    {
     "data": {
      "image/png": "[encoded data removed]",
      "text/plain": [
       "<matplotlib.figure.Figure at 0x113dc8be0>"
      ]
     },
     "metadata": {},
     "output_type": "display_data"
    }
   ],
   "source": [
    "# make a histogram of a column\n",
    "plt.hist(data.MASS, bins=20, range=[0,100]);\n",
    "plt.title(\"title\")\n",
    "plt.xlabel(\"label\")\n",
    "plt.ylabel(\"label\")"
   ]
  },
  {
   "cell_type": "code",
   "execution_count": 16,
   "metadata": {
    "collapsed": false
   },
   "outputs": [
    {
     "data": {
      "image/png": "[encoded data removed]",
      "text/plain": [
       "<matplotlib.figure.Figure at 0x113a34518>"
      ]
     },
     "metadata": {},
     "output_type": "display_data"
    }
   ],
   "source": [
    "# scatterplot\n",
    "plt.scatter(data.R,data.RSTAR)\n",
    "plt.title('title')\n",
    "plt.xlabel('label')\n",
    "plt.ylabel('label')\n",
    "plt.show()"
   ]
  },
  {
   "cell_type": "markdown",
   "metadata": {},
   "source": [
    "For more ideas, see the notebooks at [the GitHub](https://github.com/adamlamee/CODINGinK12/tree/master/notebooks/v1).\n",
    "- the \"CMS mass plot\" notebook has examples of selecting a subset of the data based on ranges of values."
   ]
  },
  {
   "cell_type": "code",
   "execution_count": null,
   "metadata": {
    "collapsed": true
   },
   "outputs": [],
   "source": []
  }
 ],
 "metadata": {
  "kernelspec": {
   "display_name": "Python 3",
   "language": "python",
   "name": "python3"
  },
  "language_info": {
   "codemirror_mode": {
    "name": "ipython",
    "version": 3
   },
   "file_extension": ".py",
   "mimetype": "text/x-python",
   "name": "python",
   "nbconvert_exporter": "python",
   "pygments_lexer": "ipython3",
   "version": "3.5.2"
  }
 },
 "nbformat": 4,
 "nbformat_minor": 0
}
