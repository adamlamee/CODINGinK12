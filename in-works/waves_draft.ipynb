{
 "cells": [
  {
   "cell_type": "markdown",
   "metadata": {
    "colab_type": "text",
    "id": "TOs7h2XTJlP-"
   },
   "source": [
    "# **Wave Speeds in Different Media**"
   ]
  },
  {
   "cell_type": "markdown",
   "metadata": {
    "colab_type": "text",
    "id": "HTUAAgywJxAy"
   },
   "source": [
    "In this notebook we take a visualization approach in order to familiarize ourselves with coding in the Python language, as well as learning about wave speeds in different media."
   ]
  },
  {
   "cell_type": "markdown",
   "metadata": {
    "colab_type": "text",
    "id": "thU51Fv4LRRh"
   },
   "source": [
    "First of, let us start thinking about:\n",
    "# **WHAT IS SOUND?!?**"
   ]
  },
  {
   "cell_type": "markdown",
   "metadata": {
    "colab_type": "text",
    "id": "Bv0TvcJcLoBP"
   },
   "source": [
    "\n",
    "\n",
    "*   Why is it that when someone speaks to you from across a room, you can hear them?\n",
    "*   This applies as well to when we are submerged under the water. Do you have examples of this?\n",
    "*   Did you ever make a telephone with 2 cups and a string, and you could hear the other person at the other end?\n",
    "*   How about if you were in outer space and screamed, would someone hear you?\n"
   ]
  },
  {
   "cell_type": "markdown",
   "metadata": {
    "colab_type": "text",
    "id": "MUKQwh1DNjEV"
   },
   "source": [
    "Thinking about the last question gives us an important clue. This little video of an experiment might give you some insights."
   ]
  },
  {
   "cell_type": "markdown",
   "metadata": {
    "colab_type": "text",
    "id": "I78q40D4RDPI"
   },
   "source": [
    "Try playing with the height and width variables and see what happens when you play the video."
   ]
  },
  {
   "cell_type": "code",
   "execution_count": null,
   "metadata": {
    "colab": {},
    "colab_type": "code",
    "id": "lkzaU2onRXz3"
   },
   "outputs": [],
   "source": [
    "# Now try playing with the numbers in the line below, run this cell and the following to see what happens.\n",
    "height = 300\n",
    "width =  100\n",
    "# Recommended dimensions (1200, 600)\n",
    "\n",
    "from IPython.lib.display import YouTubeVideo\n",
    "id = 'h0L6YpWh0KM'\n",
    "YouTubeVideo(id=id,width=height,height=width)"
   ]
  },
  {
   "cell_type": "markdown",
   "metadata": {
    "colab_type": "text",
    "id": "gDqhgdAGQsnS"
   },
   "source": [
    "## **Interesting!**\n",
    "As air is taken out of the chamber, the ringing gets quiter and quiter until it stops!\n",
    "\n",
    "\n",
    "\n",
    "*   So it looks like sound can't travel in a vacuum, therefore to answer the question if you can hear someone yelling in outer space, the answer is **NO**.\n",
    "*   So it seems, that sound need a medium in order to travel, we can then claim that sounds needs matter in order to travel.\n",
    "* Which raises another question - what is basic building block of matter?\n",
    "\n",
    "\n",
    "## **ATOMS!**\n",
    "So is it posible that sound needs atoms in order to travel, and that the way it travels is by having atoms bump one into another?\n",
    "\n",
    "*   Something along the lines like dominoes!"
   ]
  },
  {
   "cell_type": "code",
   "execution_count": null,
   "metadata": {
    "colab": {
     "base_uri": "https://localhost:8080/",
     "height": 403
    },
    "colab_type": "code",
    "id": "uaAJjs-lSuRa",
    "outputId": "4876374d-8d68-491b-a636-a485d7164908"
   },
   "outputs": [],
   "source": [
    "from IPython.display import HTML\n",
    "HTML('<img src=\"https://www.exploratorium.edu/sites/default/files/DominoEffect_DSC_6311_H.gif\" width=\"400\">')\n",
    "# https://www.exploratorium.edu/snacks/domino-effect"
   ]
  },
  {
   "cell_type": "markdown",
   "metadata": {
    "colab_type": "text",
    "id": "Lsg0DGy2XLlp"
   },
   "source": [
    "* Or a Newton's craddle!"
   ]
  },
  {
   "cell_type": "code",
   "execution_count": null,
   "metadata": {
    "colab": {
     "base_uri": "https://localhost:8080/",
     "height": 246
    },
    "colab_type": "code",
    "id": "7uOA5w6EQiXb",
    "outputId": "09b4624d-2ffd-44ad-b2fa-3251a4a0ad61"
   },
   "outputs": [],
   "source": [
    "from IPython.display import HTML\n",
    "HTML('<img src=\"http://i.imgur.com/we7wI3m.gif\" width=\"400\">')\n",
    "# Credit http://i.imgur.com/we7wI3m.gif"
   ]
  },
  {
   "cell_type": "markdown",
   "metadata": {
    "colab_type": "text",
    "id": "AiVMRGlPYTIw"
   },
   "source": [
    "So it seems that sound could be energy disturbances that start somewhere (source) and travel by causing atoms to bumb into other atoms, until it reaches its destination (source)."
   ]
  },
  {
   "cell_type": "markdown",
   "metadata": {
    "colab_type": "text",
    "id": "LIHGwemDYhTc"
   },
   "source": [
    "Now let us think about how fast the sound waves can travel??? But before that, let us consider the following questions...\n",
    "\n",
    "####  (NOTE FOR MYSELF) Insert some Analogies to relate to the following equation. Sticky vs bouncy dominoes, and something with density."
   ]
  },
  {
   "cell_type": "markdown",
   "metadata": {
    "colab_type": "text",
    "id": "94vOfcFKLQhP"
   },
   "source": [
    "We thus introduce to you the following equation below, which determines the speed of sound in a gas."
   ]
  },
  {
   "cell_type": "markdown",
   "metadata": {
    "colab_type": "text",
    "id": "VVoAWp7SKCLg"
   },
   "source": [
    "\\begin{equation}\n",
    "\\nu_{gas} = \\sqrt{\\frac{C_{ij}}{\\rho}}\n",
    "\\end{equation}"
   ]
  },
  {
   "cell_type": "markdown",
   "metadata": {
    "colab_type": "text",
    "id": "nwyBojqJLfJ4"
   },
   "source": [
    "The term $C_{ij}$ represents the elastic properties, think of the stiffness of a spring, and the term $rho$ is the density of the medium, think of how heavy and closely packed the items are."
   ]
  },
  {
   "cell_type": "markdown",
   "metadata": {
    "colab_type": "text",
    "id": "vBQ7qtk9MN1B"
   },
   "source": [
    "So let us do now a small example. We can use the equation above and get rid of the square root, leaving us with:"
   ]
  },
  {
   "cell_type": "markdown",
   "metadata": {
    "colab_type": "text",
    "id": "t9xAyYQOMcx0"
   },
   "source": [
    "\\begin{equation}\n",
    "\\nu_{gas} \\propto \\frac{C_{ij}}{\\rho}\n",
    "\\end{equation}"
   ]
  },
  {
   "cell_type": "markdown",
   "metadata": {
    "colab_type": "text",
    "id": "i_A2Xm-vMpEe"
   },
   "source": [
    "*So if the elastic property is higher, what happens to the speed of sound?\n",
    "\n",
    "*If the density of the material is larger, what happens to the speed of sound?\n",
    "\n",
    "**Let us try it out!**"
   ]
  },
  {
   "cell_type": "markdown",
   "metadata": {
    "colab_type": "text",
    "id": "ntkHcLu8PbM_"
   },
   "source": [
    "First we will compute the speed of sound in air, then do a little cleaning, and then we can play with the numbers."
   ]
  },
  {
   "cell_type": "code",
   "execution_count": null,
   "metadata": {
    "colab": {
     "base_uri": "https://localhost:8080/",
     "height": 34
    },
    "colab_type": "code",
    "id": "pdvyCCmzM_9c",
    "outputId": "a87578a5-df83-4102-c568-e611b3734280"
   },
   "outputs": [],
   "source": [
    "import numpy as np\n",
    "import matplotlib.pyplot as plt\n",
    "import seaborn as sns\n",
    "sns.set()\n",
    "C = 142e3 # Units are Pa\n",
    "p = 1.225 # Units are kg/m^3\n",
    "speed = np.sqrt(C/p)\n",
    "print(\"The speed of sound in air is {} m/s\".format(speed))"
   ]
  },
  {
   "cell_type": "markdown",
   "metadata": {
    "colab_type": "text",
    "id": "yfVkKRpdOyxF"
   },
   "source": [
    "Hmmm, maybe it will be easier for us to read this if we have less trailing digits after the decimal. Try adding  removing speed and add the following function round(speed, n), where n is the number of decimal places, and run the cell and compare the output."
   ]
  },
  {
   "cell_type": "code",
   "execution_count": null,
   "metadata": {
    "colab": {
     "base_uri": "https://localhost:8080/",
     "height": 34
    },
    "colab_type": "code",
    "id": "Wif4b0xqJcPZ",
    "outputId": "294ce3e4-4074-441d-9297-5bae150aa4d5"
   },
   "outputs": [],
   "source": [
    "n = 2\n",
    "print(\"The speed of sound in air is {} m/s\".format(round(speed,2)))"
   ]
  },
  {
   "cell_type": "markdown",
   "metadata": {
    "colab_type": "text",
    "id": "F_7PMUejP7J8"
   },
   "source": [
    "# This is much nicer to read.\n",
    "So the speed of sound we calculated is 340.47 m/s. \n",
    "According to Wikipedia, the speed of sound in air is 343 m/s, so our calculations are pretty close! \n",
    "# Great job!\n",
    "\n"
   ]
  },
  {
   "cell_type": "markdown",
   "metadata": {
    "colab_type": "text",
    "id": "sr9UoltAQfRC"
   },
   "source": [
    "Now let us play with the variables, and see how the speed of sound changes. Feel free to change the values of the variables!"
   ]
  },
  {
   "cell_type": "code",
   "execution_count": null,
   "metadata": {
    "colab": {
     "base_uri": "https://localhost:8080/",
     "height": 34
    },
    "colab_type": "code",
    "id": "07VCEevhP03q",
    "outputId": "a4ed73c4-0b08-45b7-8ac8-081e438bb229"
   },
   "outputs": [],
   "source": [
    "C = 142e3 # Units are Pa   <- Change this value, to the left of the hashtag\n",
    "p = 3.2 # Units are kg/m^3 <- Change this value, to the left of the hashtag\n",
    "speed = np.sqrt(C/p)\n",
    "print(\"The speed of sound is {} m/s\".format(round(speed,2)))"
   ]
  },
  {
   "cell_type": "markdown",
   "metadata": {
    "colab_type": "text",
    "id": "3vlot7XZRK7z"
   },
   "source": [
    "## Question time!\n",
    "* So what is heavier, a block of aluminum or a block of lead, given that both blocks are of the same size?\n",
    "* So if one is heavier than the other, given the same size, which one has the highest or lowest density?\n",
    "* How will this the affect the speed of sound?"
   ]
  },
  {
   "cell_type": "markdown",
   "metadata": {
    "colab_type": "text",
    "id": "XKoz_-9N1lPQ"
   },
   "source": [
    "# Speed of sound in solids"
   ]
  },
  {
   "cell_type": "markdown",
   "metadata": {
    "colab_type": "text",
    "id": "vcm8v22s1Ohj"
   },
   "source": [
    "The equation of sound in solids is slightly different than that of in air. But in essence, they are almost the same. The numerator contains information on the elasticity of the material and the denominator remains the same. There are two types of waves in solids. Here we will still focus on compression waves. Below is equation for the speed of sound in a solid."
   ]
  },
  {
   "cell_type": "markdown",
   "metadata": {
    "colab_type": "text",
    "id": "AgimbDkq1q6k"
   },
   "source": [
    "\\begin{equation}\n",
    "\\nu_{solid} = \\sqrt{\\frac{K + \\frac{4}{3}G}{\\rho}}\n",
    "\\end{equation}"
   ]
  },
  {
   "cell_type": "markdown",
   "metadata": {
    "colab_type": "text",
    "id": "3KgpL1Li2riJ"
   },
   "source": [
    "where K is the bulk modulus and G is the shear modulus."
   ]
  },
  {
   "cell_type": "markdown",
   "metadata": {
    "colab_type": "text",
    "id": "cJi-xkxgcZZY"
   },
   "source": [
    "## Let us now try calculating the speed of sound in Aluminum and Lead."
   ]
  },
  {
   "cell_type": "code",
   "execution_count": null,
   "metadata": {
    "colab": {},
    "colab_type": "code",
    "id": "wr4ZDjn0Q--P"
   },
   "outputs": [],
   "source": [
    "density_Lead = 11340 # kg/m^3\n",
    "density_Aluminum = 2700 # kg/m^3\n",
    "\n",
    "G_Lead = 5.6e9 # Pa\n",
    "G_Aluminum =  26e9 # Pa\n",
    "\n",
    "K_Lead = 46e9 # Pa\n",
    "K_Aluminum = 76e9 # Pa"
   ]
  },
  {
   "cell_type": "markdown",
   "metadata": {
    "colab_type": "text",
    "id": "lIDGY8Ik4BYR"
   },
   "source": [
    "Let us now compare the value in the numerator and denominator for both Al and Pb."
   ]
  },
  {
   "cell_type": "code",
   "execution_count": null,
   "metadata": {
    "colab": {
     "base_uri": "https://localhost:8080/",
     "height": 51
    },
    "colab_type": "code",
    "id": "UvNpT6ZaV5xC",
    "outputId": "239e6576-9a28-4f1b-aa34-9f51fe7b32af"
   },
   "outputs": [],
   "source": [
    "# Now complete the following, delete the None part\n",
    "#num_Al = None\n",
    "#num_Pb = None\n",
    "\n",
    "#denom_Al = None\n",
    "#denom_Pb = None\n",
    "\n",
    "#ratio_num_Al_Pb = None \n",
    "#ratio_denom_Al_Pb = None\n",
    "\n",
    "#Answer\n",
    "\n",
    "num_Al = K_Aluminum + (4.0/3)*G_Aluminum\n",
    "num_Pb = K_Lead + (4.0/3)*G_Lead\n",
    "\n",
    "denom_Al = density_Aluminum\n",
    "denom_Pb = density_Lead\n",
    "\n",
    "ratio_num_Al_Pb = num_Al / num_Pb\n",
    "ratio_denom_Al_Pb = denom_Al / denom_Pb\n",
    "\n",
    "\n",
    "print(\"The ratio of the numerator of Al to Pb is: {}\".format(round(ratio_num_Al_Pb,1)))\n",
    "print(\"The ratio of the denominator of Al to Pb is: {}\".format(round(ratio_denom_Al_Pb,1)))\n"
   ]
  },
  {
   "cell_type": "markdown",
   "metadata": {
    "colab_type": "text",
    "id": "nYjALK4z5ygx"
   },
   "source": [
    "So compared to lead, the numerator for aluminum is larger, and the denominator is smaller. How do you think this will affect the speed of sound?"
   ]
  },
  {
   "cell_type": "markdown",
   "metadata": {
    "colab_type": "text",
    "id": "rK6SUj_EXnO8"
   },
   "source": [
    "\n",
    "## We will now let you compute both speeds!"
   ]
  },
  {
   "cell_type": "code",
   "execution_count": null,
   "metadata": {
    "colab": {
     "base_uri": "https://localhost:8080/",
     "height": 51
    },
    "colab_type": "code",
    "id": "Ad8uX0kMXlJl",
    "outputId": "6eebfa8f-1041-4a60-a93b-a3c32690461c"
   },
   "outputs": [],
   "source": [
    "# Fill in the values in the parenthesis\n",
    "#speed_Al = np.sqrt()\n",
    "#speed_Pb = np.sqrt()\n",
    "\n",
    "\n",
    "# Answer\n",
    "speed_Al = np.sqrt(num_Al/denom_Al)\n",
    "speed_Pb = np.sqrt(num_Pb/denom_Pb)\n",
    "\n",
    "print(\"The speed of sound in Aluminum is {} m/s\".format(round(speed_Al,1)))\n",
    "print(\"The speed of sound in Lead is {} m/s\".format(round(speed_Pb,1)))\n"
   ]
  },
  {
   "cell_type": "markdown",
   "metadata": {
    "colab_type": "text",
    "id": "dQtyLUM-6y-3"
   },
   "source": [
    "Let us compare our calculated values from theory with actual values ..."
   ]
  },
  {
   "cell_type": "markdown",
   "metadata": {
    "colab_type": "text",
    "id": "ZveXv4zx8cUe"
   },
   "source": [
    "\\begin{array}{|c|c|} \\hline\n",
    "Material &Our \\ Calculated \\ Value & Wikipedia's \\ Reported \\ Value \\\\ \\hline\n",
    "Aluminum & 6402 \\ m/s & 6420 \\ ms  \\\\ \\hline\n",
    "Lead & 2171 \\ m/s & 2160 \\ m/s \\\\ \\hline\n",
    "\\end{array}"
   ]
  },
  {
   "cell_type": "markdown",
   "metadata": {
    "colab_type": "text",
    "id": "7eMSfFoN8eiX"
   },
   "source": [
    "Wow, we did quite good!"
   ]
  },
  {
   "cell_type": "markdown",
   "metadata": {
    "colab_type": "text",
    "id": "Nb2lcESk9Evx"
   },
   "source": [
    "## Let us now compare the speed of sound for different materials in a table and plot them in a bar plot."
   ]
  },
  {
   "cell_type": "markdown",
   "metadata": {
    "colab_type": "text",
    "id": "Ey8QgKtT9RnC"
   },
   "source": [
    "\\begin{array}{|c|c|} \\hline\n",
    "Material  & Speed \\ of \\ Sound \\ (m/s) \\\\ \\hline\n",
    "Air & 343  \\\\ \\hline\n",
    "Air \\ at \\ -25^\\circ C & 316 \\\\ \\hline\n",
    "Argon_{gas} & 323 \\\\ \\hline\n",
    "Argon_{Liquid} & 813 \\\\ \\hline\n",
    "Helium & 965 \\\\ \\hline\n",
    "Water & 1480 \\\\ \\hline\n",
    "Seawater & 1500 \\\\ \\hline\n",
    "Gold & 3240 \\\\ \\hline\n",
    "Iron & 5210 \\\\ \\hline\n",
    "Diamond & 12000  \\\\ \\hline\n",
    "\\end{array}"
   ]
  },
  {
   "cell_type": "code",
   "execution_count": null,
   "metadata": {
    "colab": {},
    "colab_type": "code",
    "id": "0nhWqCInATXN"
   },
   "outputs": [],
   "source": [
    "# Adde the values above to the following variables (Delete None)\n",
    "\n",
    "air = None\n",
    "air_min25 = None\n",
    "argon_g = None\n",
    "argon_l = None\n",
    "helium = None\n",
    "water = None\n",
    "seawater = None\n",
    "gold = None\n",
    "iron = None\n",
    "diamond = None\n",
    "\n",
    "# Answer\n",
    "\n",
    "air = 343\n",
    "air_min25 = 316\n",
    "argon_g = 323\n",
    "argon_l = 813\n",
    "helium = 965\n",
    "water = 1480\n",
    "seawater = 1500\n",
    "gold = 3240\n",
    "iron = 5210\n",
    "diamond = 12000"
   ]
  },
  {
   "cell_type": "code",
   "execution_count": null,
   "metadata": {
    "colab": {
     "base_uri": "https://localhost:8080/",
     "height": 393
    },
    "colab_type": "code",
    "id": "lCmG_bvXBOYy",
    "outputId": "35df7d08-d72c-4f47-d48d-0c04713af885"
   },
   "outputs": [],
   "source": [
    " \n",
    "plt.barh((#\"diamond\",\n",
    "         \"air\", \n",
    "         \"air_min25\",\n",
    "         \"argon_l\",\n",
    "         \"seawater\",\n",
    "         \"gold\",\n",
    "         \"argon_g\",\n",
    "         \"iron\",\n",
    "         \"water\",\n",
    "         \"helium\"),\n",
    "        \n",
    "        (#diamond,\n",
    "         air, \n",
    "         air_min25,\n",
    "         argon_l,\n",
    "         seawater,\n",
    "         gold,\n",
    "         argon_g,\n",
    "         iron,\n",
    "         water,\n",
    "         helium),\n",
    "         \n",
    "        #color=\"grey\")\n",
    "        #color=\"rgb\")\n",
    "        color=sns.color_palette(\"colorblind\", 9))\n",
    "\n",
    "\n",
    "plt.title(\"None\")\n",
    "plt.xlabel(\"None\")\n",
    "plt.ylabel(\"None\")\n",
    "plt.xlim(0,12000)\n",
    "# Ok so we know the speed of sound in a diamond is ridicuously large. Let us\n",
    "# remove it so it is easire to compare the other values.\n",
    "\n",
    "# You can put this symbol # in front of diamond "
   ]
  },
  {
   "cell_type": "markdown",
   "metadata": {
    "colab_type": "text",
    "id": "DsaFWp3vaxxj"
   },
   "source": [
    "\n",
    "\n",
    "*ADD ANIMATION OF WAVE PULSE TRAVELING ON STRING ()\n",
    "\n",
    "*IF TIME PERMITS< SHOW ANIMATION OF LOGITUDINAL WAVE \n",
    "\n",
    "* GIVE Credit to equations (Fix the one for air) https://en.wikipedia.org/wiki/Speed_of_sound\n",
    "* Speed of sound values https://en.wikipedia.org/wiki/Speeds_of_sound_of_the_elements\n",
    "* Density, K, G, C https://www.ptable.com/"
   ]
  }
 ],
 "metadata": {
  "colab": {
   "collapsed_sections": [],
   "name": "waves_draft.ipynb",
   "provenance": [],
   "version": "0.3.2"
  },
  "kernelspec": {
   "display_name": "Python 3",
   "language": "python",
   "name": "python3"
  },
  "language_info": {
   "codemirror_mode": {
    "name": "ipython",
    "version": 3
   },
   "file_extension": ".py",
   "mimetype": "text/x-python",
   "name": "python",
   "nbconvert_exporter": "python",
   "pygments_lexer": "ipython3",
   "version": "3.7.1"
  }
 },
 "nbformat": 4,
 "nbformat_minor": 1
}
