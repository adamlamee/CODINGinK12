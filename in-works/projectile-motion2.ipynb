{
 "cells": [
  {
   "cell_type": "markdown",
   "metadata": {},
   "source": [
    "# Projectile Motion\n",
    "\n",
    "Your tasks are:\n",
    "- identify the kinematics equations in the program below and verify or correct them\n",
    "- edit the code to predict the motion of a Tesla roadster, launched at 8 m/s at an angle of 45 degrees up, off a 30 m  cliff using the drag equation:\n",
    "$$ F_{drag} =  -\\frac{1}{2} \\rho C_{drag} A v^{2}$$\n",
    "- add inline comments and or markdown cells to describe what the program does\n",
    "- share your working, annotated simulation with the class and describe the role iteration plays in the quality of the simulation"
   ]
  },
  {
   "cell_type": "code",
   "execution_count": 1,
   "metadata": {},
   "outputs": [],
   "source": [
    "# imports some software packages we'll use\n",
    "import pandas as pd\n",
    "import numpy as np\n",
    "from math import cos,sin,pi\n",
    "%matplotlib inline\n",
    "import matplotlib as mpl\n",
    "import matplotlib.pyplot as plt"
   ]
  },
  {
   "cell_type": "code",
   "execution_count": 2,
   "metadata": {},
   "outputs": [],
   "source": [
    "m = 1304 # 2877 lsb, in kg\n",
    "g = 9.81\n",
    "rho = 1.3 # air density, kg/m^3\n",
    "C_D = 0.25 # car's drag coefficient\n",
    "A = 2.11 # car's approx cross-sectional area, m^2\n",
    "xi = 0\n",
    "yi = 0\n",
    "t = 0\n",
    "tdelta = 1\n",
    "vi = 50\n",
    "theta = pi/3\n",
    "vx = vi * cos(theta)\n",
    "vy = vi * sin(theta)\n",
    "ax = 0\n",
    "ay = -g"
   ]
  },
  {
   "cell_type": "code",
   "execution_count": 3,
   "metadata": {},
   "outputs": [],
   "source": [
    "def Fdrag(v):\n",
    "    return -0.5*rho*C_D*A*abs(v)\n",
    "\n",
    "xlist = []\n",
    "ylist = []\n",
    "x=xi\n",
    "y=yi\n",
    "xlist.append(x)\n",
    "ylist.append(y)\n",
    "\n",
    "while y >= 0:\n",
    "    ax = Fdrag(vx)/m\n",
    "    vx = vx + ax*tdelta\n",
    "    x = .5*ax*tdelta + vx*tdelta + x\n",
    "    xlist.append(x)\n",
    "    \n",
    "    ay = (-m*g + Fdrag(vy))/m\n",
    "    vy = vy + ay*tdelta\n",
    "    y = .5*ay*tdelta*tdelta + vy*tdelta + y\n",
    "    ylist.append(y)\n",
    "    t = t +tdelta\n",
    "    \n",
    "#print (xlist)\n",
    "#print (ylist)"
   ]
  },
  {
   "cell_type": "code",
   "execution_count": 4,
   "metadata": {},
   "outputs": [
    {
     "data": {
      "image/png": "[encoded data removed]",
      "text/plain": [
       "<Figure size 432x288 with 1 Axes>"
      ]
     },
     "metadata": {
      "needs_background": "light"
     },
     "output_type": "display_data"
    }
   ],
   "source": [
    "plt.plot(xlist,ylist,linestyle='--', marker='o', color='b', markersize=10)\n",
    "plt.xlabel('so lonely')\n",
    "plt.ylabel('label me?')\n",
    "plt.title('something here')\n",
    "plt.grid()\n",
    "plt.axis([0, 100, 0, 100])\n",
    "plt.show()"
   ]
  }
 ],
 "metadata": {
  "kernelspec": {
   "display_name": "Python 3",
   "language": "python",
   "name": "python3"
  },
  "language_info": {
   "codemirror_mode": {
    "name": "ipython",
    "version": 3
   },
   "file_extension": ".py",
   "mimetype": "text/x-python",
   "name": "python",
   "nbconvert_exporter": "python",
   "pygments_lexer": "ipython3",
   "version": "3.7.1"
  }
 },
 "nbformat": 4,
 "nbformat_minor": 1
}
