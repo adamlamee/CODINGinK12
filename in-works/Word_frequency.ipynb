{
 "cells": [
  {
   "cell_type": "markdown",
   "metadata": {},
   "source": [
    "# Word Frequency in Literary Text\n",
    "\n",
    "Click on the *play* icon above to \"run\" each box of code.\n",
    "\n",
    "This program generates a table of how often words appear in a file and sorts them to show the ones the author used most frequently. This example uses Jane Eyre, but there are tons of books to choose from [here](http://www.textfiles.com/etext/FICTION/) with lots of books in .txt format."
   ]
  },
  {
   "cell_type": "code",
   "execution_count": null,
   "metadata": {
    "collapsed": false
   },
   "outputs": [],
   "source": [
    "import re\n",
    "import pandas as pd\n",
    "import urllib.request\n",
    "\n",
    "frequency = {}\n",
    "\n",
    "document_text = urllib.request.urlopen \\\n",
    "    ('http://www.textfiles.com/etext/FICTION/bronte-jane-178.txt') \\\n",
    "    .read().decode('utf-8')\n",
    "\n",
    "text_string = document_text.lower()\n",
    "match_pattern = re.findall(r'\\b[a-z]{3,15}\\b', text_string)\n",
    " \n",
    "for word in match_pattern:\n",
    "    count = frequency.get(word,0)\n",
    "    frequency[word] = count + 1\n",
    "     \n",
    "frequency_list = frequency.keys()\n",
    "\n",
    "d = []\n",
    "for word in frequency_list:\n",
    "    var = word + \",\" + str(frequency[word]) + \"\\r\"\n",
    "    d.append({'word':word, 'Frequency': frequency[word]})\n",
    "\n",
    "df = pd.DataFrame(d)"
   ]
  },
  {
   "cell_type": "markdown",
   "metadata": {},
   "source": [
    "## Word frequency list"
   ]
  },
  {
   "cell_type": "code",
   "execution_count": null,
   "metadata": {
    "collapsed": false
   },
   "outputs": [],
   "source": [
    "df1 = df.sort_values(by=\"Frequency\", ascending=False)\n",
    "\n",
    "# the next line displays the first number of rows you select\n",
    "df1.head(10)"
   ]
  },
  {
   "cell_type": "markdown",
   "metadata": {},
   "source": [
    "## Filtering the results\n",
    "This next part removes some of the less interesting words from the list."
   ]
  },
  {
   "cell_type": "code",
   "execution_count": null,
   "metadata": {
    "collapsed": false
   },
   "outputs": [],
   "source": [
    "df2 = df1.query('word not in \\\n",
    "    (\"the\",\"and\",\"it\",\"was\",\"for\",\"but\",\"that\") \\\n",
    "    ')\n",
    "df2.head(10)"
   ]
  },
  {
   "cell_type": "markdown",
   "metadata": {
    "collapsed": true
   },
   "source": [
    "Don't be afraid to edit the code display more or fewer results. Maybe add some words to the omitted list? Then go to **kernel** --> **restart and run all** in the menu at the top. You can paste in the URL for a different novel from [here](http://www.textfiles.com/etext/FICTION/).\n",
    "\n",
    "You can also start over by clicking **file** --> **revert to checkpoint**."
   ]
  },
  {
   "cell_type": "code",
   "execution_count": null,
   "metadata": {
    "collapsed": true
   },
   "outputs": [],
   "source": []
  }
 ],
 "metadata": {
  "kernelspec": {
   "display_name": "Python 3",
   "language": "python",
   "name": "python3"
  },
  "language_info": {
   "codemirror_mode": {
    "name": "ipython",
    "version": 3
   },
   "file_extension": ".py",
   "mimetype": "text/x-python",
   "name": "python",
   "nbconvert_exporter": "python",
   "pygments_lexer": "ipython3",
   "version": "3.5.1"
  }
 },
 "nbformat": 4,
 "nbformat_minor": 0
}
