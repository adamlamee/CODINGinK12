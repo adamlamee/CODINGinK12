{
 "cells": [
  {
   "cell_type": "markdown",
   "metadata": {
    "colab_type": "text",
    "id": "kEVLoKku1daG"
   },
   "source": [
    "# Manatees\n",
    "This activity let's you explore Florida's protected manatee population. \n",
    "\n",
    "To get started,\n",
    "- You won't hurt anything by experimenting. If you break it, close the tab and open the activity again to start over.\n",
    "- Is this your first time? Need a refresher? Try the 5-minute [Intro to Jupyter activity](./Intro_to_Jupyter.ipynb) and come back here. \n",
    "\n",
    "When you're ready, run each code cell until you get down to **Part One**."
   ]
  },
  {
   "cell_type": "code",
   "execution_count": 1,
   "metadata": {
    "colab": {},
    "colab_type": "code",
    "id": "rHPODnSV1daJ"
   },
   "outputs": [],
   "source": [
    "# The first pieces of code we need to start with are called 'modules'\n",
    "import numpy as np\n",
    "import pandas as pd\n",
    "%matplotlib inline\n",
    "import matplotlib.pyplot as plt\n",
    "from PIL import Image\n",
    "import requests\n",
    "from io import BytesIO"
   ]
  },
  {
   "cell_type": "code",
   "execution_count": 2,
   "metadata": {
    "colab": {},
    "colab_type": "code",
    "id": "2091PKlR1daO"
   },
   "outputs": [],
   "source": [
    "# We now need to read the data collected by aerial photos of manatee habitats. \n",
    "# Let's use our method \".read_csv\" located in the \"pd\" module.\n",
    "\n",
    "#data = pd.read_csv(\"https://raw.githubusercontent.com/huntergt116/Jupyter-Notebook-Manatees/master/manatees.csv\")\n",
    "data = pd.read_csv(\"./manatees.csv\")"
   ]
  },
  {
   "cell_type": "code",
   "execution_count": 3,
   "metadata": {
    "colab": {
     "base_uri": "https://localhost:8080/",
     "height": 359
    },
    "colab_type": "code",
    "id": "Y6FdrL5I1daj",
    "outputId": "c1237cac-7e6e-4d3f-c1c2-038beea68e4e"
   },
   "outputs": [
    {
     "data": {
      "text/html": [
       "<div>\n",
       "<style scoped>\n",
       "    .dataframe tbody tr th:only-of-type {\n",
       "        vertical-align: middle;\n",
       "    }\n",
       "\n",
       "    .dataframe tbody tr th {\n",
       "        vertical-align: top;\n",
       "    }\n",
       "\n",
       "    .dataframe thead th {\n",
       "        text-align: right;\n",
       "    }\n",
       "</style>\n",
       "<table border=\"1\" class=\"dataframe\">\n",
       "  <thead>\n",
       "    <tr style=\"text-align: right;\">\n",
       "      <th></th>\n",
       "      <th>Year</th>\n",
       "      <th>East</th>\n",
       "      <th>West</th>\n",
       "      <th>Total</th>\n",
       "    </tr>\n",
       "  </thead>\n",
       "  <tbody>\n",
       "    <tr>\n",
       "      <th>0</th>\n",
       "      <td>1991</td>\n",
       "      <td>687</td>\n",
       "      <td>580</td>\n",
       "      <td>1267</td>\n",
       "    </tr>\n",
       "    <tr>\n",
       "      <th>1</th>\n",
       "      <td>1991</td>\n",
       "      <td>828</td>\n",
       "      <td>650</td>\n",
       "      <td>1478</td>\n",
       "    </tr>\n",
       "    <tr>\n",
       "      <th>2</th>\n",
       "      <td>1992</td>\n",
       "      <td>904</td>\n",
       "      <td>940</td>\n",
       "      <td>1844</td>\n",
       "    </tr>\n",
       "    <tr>\n",
       "      <th>3</th>\n",
       "      <td>1995</td>\n",
       "      <td>669</td>\n",
       "      <td>787</td>\n",
       "      <td>1456</td>\n",
       "    </tr>\n",
       "    <tr>\n",
       "      <th>4</th>\n",
       "      <td>1995</td>\n",
       "      <td>917</td>\n",
       "      <td>906</td>\n",
       "      <td>1823</td>\n",
       "    </tr>\n",
       "    <tr>\n",
       "      <th>5</th>\n",
       "      <td>1996</td>\n",
       "      <td>1223</td>\n",
       "      <td>1054</td>\n",
       "      <td>2277</td>\n",
       "    </tr>\n",
       "    <tr>\n",
       "      <th>6</th>\n",
       "      <td>1996</td>\n",
       "      <td>1452</td>\n",
       "      <td>1178</td>\n",
       "      <td>2630</td>\n",
       "    </tr>\n",
       "    <tr>\n",
       "      <th>7</th>\n",
       "      <td>1997</td>\n",
       "      <td>906</td>\n",
       "      <td>1335</td>\n",
       "      <td>2241</td>\n",
       "    </tr>\n",
       "    <tr>\n",
       "      <th>8</th>\n",
       "      <td>1997</td>\n",
       "      <td>797</td>\n",
       "      <td>918</td>\n",
       "      <td>1715</td>\n",
       "    </tr>\n",
       "    <tr>\n",
       "      <th>9</th>\n",
       "      <td>1998</td>\n",
       "      <td>1110</td>\n",
       "      <td>908</td>\n",
       "      <td>2018</td>\n",
       "    </tr>\n",
       "  </tbody>\n",
       "</table>\n",
       "</div>"
      ],
      "text/plain": [
       "   Year  East  West  Total\n",
       "0  1991   687   580   1267\n",
       "1  1991   828   650   1478\n",
       "2  1992   904   940   1844\n",
       "3  1995   669   787   1456\n",
       "4  1995   917   906   1823\n",
       "5  1996  1223  1054   2277\n",
       "6  1996  1452  1178   2630\n",
       "7  1997   906  1335   2241\n",
       "8  1997   797   918   1715\n",
       "9  1998  1110   908   2018"
      ]
     },
     "execution_count": 3,
     "metadata": {},
     "output_type": "execute_result"
    }
   ],
   "source": [
    "# Take a peek at the first few rows of the data set \n",
    "data.head(10)\n",
    "\n",
    "# Bonus: remove the # on the next line if you want to see the whole thing instead)\n",
    "#print(data) "
   ]
  },
  {
   "cell_type": "code",
   "execution_count": 4,
   "metadata": {
    "colab": {
     "base_uri": "https://localhost:8080/",
     "height": 102
    },
    "colab_type": "code",
    "id": "Me8Z9-9E1dap",
    "outputId": "aa3415d4-5a16-449a-c285-14775859023f"
   },
   "outputs": [
    {
     "data": {
      "text/plain": [
       "Year     1991\n",
       "East      634\n",
       "West      580\n",
       "Total    1267\n",
       "dtype: int64"
      ]
     },
     "execution_count": 4,
     "metadata": {},
     "output_type": "execute_result"
    }
   ],
   "source": [
    "# The .min method displays the minimum value for each column (use axis=0) \n",
    "# or each row (use axis=1) \n",
    "data.min(axis=0)\n",
    "\n",
    "# Note: The \"dtype: int64\" at the bottom just tells us that these are numbers :)"
   ]
  },
  {
   "cell_type": "code",
   "execution_count": 5,
   "metadata": {
    "colab": {
     "base_uri": "https://localhost:8080/",
     "height": 34
    },
    "colab_type": "code",
    "id": "rJfBONELZKLA",
    "outputId": "d38ce1fb-02b2-4c1f-8a3a-14852ea0c6f6"
   },
   "outputs": [
    {
     "data": {
      "text/plain": [
       "(32, 4)"
      ]
     },
     "execution_count": 5,
     "metadata": {},
     "output_type": "execute_result"
    }
   ],
   "source": [
    "# The .shape method tells us how many (rows, columns) are in the data set\n",
    "data.shape"
   ]
  },
  {
   "cell_type": "markdown",
   "metadata": {
    "colab_type": "text",
    "id": "NC-Q1wkR1das"
   },
   "source": [
    "## Part One\n",
    "Look at the cells above to find the answers to the following questions:\n",
    "- What do you think each column in the data represents?\n",
    "- Why do you think there are two rows for the same year? (hint: refer back to the _data.head()_ results)\n",
    "- How many measurements are included in this data set?\n",
    "\n",
    "When you're ready, scroll down to **Part Two**."
   ]
  },
  {
   "cell_type": "markdown",
   "metadata": {
    "colab_type": "text",
    "id": "fDVQll-GM0AX"
   },
   "source": [
    "##As it turns out, the data represents the number of manatees spotted by plane each year!\n",
    "![alt text](https://farm5.staticflickr.com/4883/31364810537_3634aef0c4_z.jpg width=\"640\" height=\"427\")"
   ]
  },
  {
   "cell_type": "code",
   "execution_count": 6,
   "metadata": {
    "colab": {
     "base_uri": "https://localhost:8080/",
     "height": 294
    },
    "colab_type": "code",
    "id": "v39I-1lrYZ0O",
    "outputId": "e60d7929-c950-4a8c-e7e7-8e5ad95dc3d7"
   },
   "outputs": [
    {
     "data": {
      "image/png": "[encoded data removed]",
      "text/plain": [
       "<Figure size 432x288 with 1 Axes>"
      ]
     },
     "metadata": {
      "needs_background": "light"
     },
     "output_type": "display_data"
    }
   ],
   "source": [
    "# The .plot method, as you might guess, plots your data on a graph.\n",
    "# Let's plot the number of manatees counted in each year:\n",
    "\n",
    "data.plot(x='Year',y='Total',title=\"# of Manatees\",color='purple')\n",
    "plt.show()"
   ]
  },
  {
   "cell_type": "markdown",
   "metadata": {
    "colab_type": "text",
    "id": "aD3elt1wYo_q"
   },
   "source": [
    "## Part Two\n",
    "- Which years are plotted in the graph?\n",
    "- How many manatees were in the wild in 1991?\n",
    "- Roughly how many manatees must there be in the wild if the Florida Fish and Wildlife Conservation Commission reclassified the 'endangered' manatee as 'protected' in 2017?\n",
    "- What factors might explain the rising (and sometimes falling) of the manatee population?\n",
    "\n",
    "When you're ready, scroll down to **Part Three**."
   ]
  },
  {
   "cell_type": "code",
   "execution_count": 7,
   "metadata": {
    "colab": {
     "base_uri": "https://localhost:8080/",
     "height": 294
    },
    "colab_type": "code",
    "id": "v2sUNskfO4ob",
    "outputId": "a3807c94-6db4-4eac-da5d-2bdcd1f296c7"
   },
   "outputs": [
    {
     "data": {
      "image/png": "[encoded data removed]",
      "text/plain": [
       "<Figure size 432x288 with 1 Axes>"
      ]
     },
     "metadata": {
      "needs_background": "light"
     },
     "output_type": "display_data"
    }
   ],
   "source": [
    "# Now let's plot all of the East and West data for each year:\n",
    "\n",
    "ax = plt.gca()\n",
    "data.plot(x='Year',y='East',title=\"# of Manatees\",color='black',ax=ax)\n",
    "data.plot(x='Year',y='West',color='red',ax=ax)\n",
    "plt.show()"
   ]
  },
  {
   "cell_type": "markdown",
   "metadata": {
    "colab_type": "text",
    "id": "WbTVyp_9QTVg"
   },
   "source": [
    "##Maybe this image will give you a hint for some of the questions in Part 3 ;)\n",
    "###These are the coastal areas where Florida manatees are spotted \n",
    "![alt text](https://github.com/huntergt116/Jupyter-Notebook-Manatees/blob/master/ManateeRegions.PNG?raw=true)"
   ]
  },
  {
   "cell_type": "markdown",
   "metadata": {
    "colab_type": "text",
    "id": "Vcdo-wWA1dax"
   },
   "source": [
    "## Part Three\n",
    "The last graph shows the number of manatees spotted from years 1991 to 2017.\n",
    "- What do East and West represent?\n",
    "- Do you notice any significant slopes in the graph? Do they trend concurrently or separately?\n",
    "- What could explain the positive and negative changes in manatee population in the East and West lines?\n",
    "\n",
    "---"
   ]
  },
  {
   "cell_type": "markdown",
   "metadata": {
    "colab_type": "text",
    "id": "ZM2jnJjG1da2"
   },
   "source": [
    "## Part Four\n",
    "(If further information is desired, this section could introduce water temperature trends, boating accident reports or algae blooms, potentially explaining why manatees migrate or die off)\n",
    "\n",
    "(When you're ready, scroll down to **Part Four**.)\n",
    "\n",
    "---\n",
    "## Saving Your Work\n",
    "This is running on a Google server on a distant planet and deletes what you've done when you close this tab. To save your work for later use or analysis you have a few options:\n",
    "- File > Download .ipynb to save to your computer (and run with Jupyter software)\n",
    "- File > Download .py to save to your computer (and run with any Python software)\n",
    "- File > Print to ... um ... print.\n",
    "- Save an image to your computer of a graph or chart, right-click on it and select Save Image as ...\n",
    "\n",
    "## Credits\n",
    "The \"Synoptic aerial surveys of manatees, east and west coasts of Florida, 1991 to 2017\" data come from [The Florida Fish and Wildlife Conservation Commission (FWC)](https://myfwc.com/research/manatee/research/population-monitoring/synoptic-surveys/) (Copyright 1999-2019 State of Florida; accessed on 5 February 2019). \n",
    "\n",
    "The first image was taken from the FWC flickr account page: [FWC Fish and Wildlife Research Institute's photostream](https://www.flickr.com/photos/myfwc/31364810537/in/photostream/) (accessed 5 February 2019) -- FWC, Fish and Wildlife Research Institute. “Manatee Sampling Image.” Activities Were Conducted under USFWS Permit # MA773494, FWC Fish and Wildlife Research Institute, 2015, www.flickr.com/photos/myfwc/31364810537/in/photostream/.\n",
    "\n",
    "The second image (Sampling regions of abundance surveys) was taken from [Updated Statewide Abundance Estimates for the Florida Manatee. - Technical Report No. 23 ](https://f50006a.eos-intl.net/ELIBSQL12_F50006A_Documents/FWC-FWRI-TR23-Hostetler.pdf) (accessed 5 February 2019). -- (HOSTETLER, JEFFREY A., et al. “Updated Statewide Abundance Estimates for the Florida Manatee.” FWC-FWRI-TR23-Hostetler.pdf, Florida Fish and Wildlife Conservation Commission - Fish and Wildlife Research Institute, 2018, f50006a.eos-intl.net/ELIBSQL12_F50006A_Documents/FWC-FWRI-TR23-Hostetler.pdf.)\n",
    "\n",
    "UCF undergraduate Hunter T., who started the development of this notebook, was funded by Orange County Schools to help make scientific computing a standard part of every middle school science class. [Adam LaMee](https://adamlamee.github.io/) coordinated its development as the [PhysTEC](https://www.phystec.org/) Teacher-in-residence in the [University of Central Florida's Physics department](https://sciences.ucf.edu/physics/). Finally, thanks to the great folks at [Binder](https://mybinder.org/) and [Google Colaboratory](https://www.google.com/url?sa=t&rct=j&q=&esrc=s&source=web&cd=1&cad=rja&uact=8&ved=0ahUKEwjF96bdrO_bAhXD0FMKHUhAA-kQFggpMAA&url=https%3A%2F%2Fcolab.research.google.com%2F&usg=AOvVaw3A5aPK2kLFzKOzb6sOckVw) for making this notebook interactive without you needing to download it or install Jupyter on your own device. Find more activities and license info at [CODINGinK12.org](http://www.codingink12.org)."
   ]
  }
 ],
 "metadata": {
  "colab": {
   "collapsed_sections": [],
   "name": "Manatees.ipynb",
   "provenance": [],
   "version": "0.3.2"
  },
  "kernelspec": {
   "display_name": "Python 3",
   "language": "python",
   "name": "python3"
  },
  "language_info": {
   "codemirror_mode": {
    "name": "ipython",
    "version": 3
   },
   "file_extension": ".py",
   "mimetype": "text/x-python",
   "name": "python",
   "nbconvert_exporter": "python",
   "pygments_lexer": "ipython3",
   "version": "3.7.1"
  }
 },
 "nbformat": 4,
 "nbformat_minor": 1
}
