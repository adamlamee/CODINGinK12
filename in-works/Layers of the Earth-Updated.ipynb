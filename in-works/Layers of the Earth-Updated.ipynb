{
 "cells": [
  {
   "cell_type": "markdown",
   "metadata": {},
   "source": [
    "# Layers of the Earth"
   ]
  },
  {
   "cell_type": "markdown",
   "metadata": {},
   "source": [
    "Students will analyze the following information and answer questions a long the way in order to learn the different layers of the earth.\n",
    "\n",
    "Through BBC's website (provided below), students can find further information about the topic of Layers of the Earth\n",
    "http://www.bbc.co.uk/schools/gcsebitesize/geography/natural_hazards/tectonic_plates_rev1.shtml"
   ]
  },
  {
   "cell_type": "markdown",
   "metadata": {},
   "source": [
    "## The Different Layers"
   ]
  },
  {
   "cell_type": "markdown",
   "metadata": {},
   "source": [
    "There are four different layers of the earth. Information for this section can be read through Annenberg Learner's website: https://www.learner.org/interactives/dynamicearth/structure.html\n",
    "\n",
    "\n",
    "Use the following image to answer the questions bellow\n",
    "<img src='https://classroom.therefugeecenter.org/wp-content/uploads/2016/04/Pic22.jpg'>"
   ]
  },
  {
   "cell_type": "markdown",
   "metadata": {},
   "source": [
    "#### Questions"
   ]
  },
  {
   "cell_type": "markdown",
   "metadata": {},
   "source": [
    "1. Name the four layers of the Earth in order.\n",
    "2. What are the names of the two regions of the Mantle?\n",
    "3. How deep is the Earth's crust?\n",
    "4. What materials make up the inner core?"
   ]
  },
  {
   "cell_type": "markdown",
   "metadata": {},
   "source": [
    "## Composition and Density"
   ]
  },
  {
   "cell_type": "markdown",
   "metadata": {
    "collapsed": true
   },
   "source": [
    "The following link contains information written by Eugene C. Robertson from USGS.gov, which will help you understand this concept some more https://pubs.usgs.gov/gip/interior/\n",
    "\n",
    "Use the following table to answer the questions below.\n",
    "\n",
    "<img src='https://apionline.sodapdf.com/Public/widgets/convertmyimage/download/density.jpg'>"
   ]
  },
  {
   "cell_type": "markdown",
   "metadata": {},
   "source": [
    "#### Questions"
   ]
  },
  {
   "cell_type": "markdown",
   "metadata": {},
   "source": [
    "1. What is the approximate density in grams per cubic centimeter of the earth at 1600km below sea level?\n",
    "2. Why do you think the density of the earth increases as we go further down?\n",
    "3. What kind of rocks are found in the thickest layer of the Earth?\n",
    "4. Name the first internal structural element to be identified."
   ]
  },
  {
   "cell_type": "markdown",
   "metadata": {},
   "source": [
    "## Earthquakes"
   ]
  },
  {
   "cell_type": "markdown",
   "metadata": {},
   "source": [
    "The Crust layer of the Earth may be broken into pieces identified as plates. When such plates move,they can produce an earthquake and/or volcano.\n",
    "\n",
    "To learn the abriviations used for this chart, visit USGS at https://earthquake.usgs.gov/earthquakes/feed/v1.0/csv.php"
   ]
  },
  {
   "cell_type": "code",
   "execution_count": 1,
   "metadata": {
    "collapsed": false
   },
   "outputs": [],
   "source": [
    "import pandas as pd\n",
    "import numpy as np\n",
    "%matplotlib inline\n",
    "import matplotlib as mpl\n",
    "import matplotlib.pyplot as plt"
   ]
  },
  {
   "cell_type": "code",
   "execution_count": 2,
   "metadata": {
    "collapsed": false
   },
   "outputs": [],
   "source": [
    "# Read in data that will be used for answering some of the questions below\n",
    "data = pd.read_csv(\"./significant_month.csv\")"
   ]
  },
  {
   "cell_type": "code",
   "execution_count": 3,
   "metadata": {
    "collapsed": false
   },
   "outputs": [
    {
     "data": {
      "text/html": [
       "<div>\n",
       "<table border=\"1\" class=\"dataframe\">\n",
       "  <thead>\n",
       "    <tr style=\"text-align: right;\">\n",
       "      <th></th>\n",
       "      <th>time</th>\n",
       "      <th>latitude</th>\n",
       "      <th>longitude</th>\n",
       "      <th>depth</th>\n",
       "      <th>mag</th>\n",
       "      <th>magType</th>\n",
       "      <th>nst</th>\n",
       "      <th>gap</th>\n",
       "      <th>dmin</th>\n",
       "      <th>rms</th>\n",
       "      <th>...</th>\n",
       "      <th>updated</th>\n",
       "      <th>place</th>\n",
       "      <th>type</th>\n",
       "      <th>horizontalError</th>\n",
       "      <th>depthError</th>\n",
       "      <th>magError</th>\n",
       "      <th>magNst</th>\n",
       "      <th>status</th>\n",
       "      <th>locationSource</th>\n",
       "      <th>magSource</th>\n",
       "    </tr>\n",
       "  </thead>\n",
       "  <tbody>\n",
       "    <tr>\n",
       "      <th>0</th>\n",
       "      <td>2017-03-14T05:06:54.460Z</td>\n",
       "      <td>34.038833</td>\n",
       "      <td>-117.238667</td>\n",
       "      <td>17.64</td>\n",
       "      <td>3.61</td>\n",
       "      <td>mw</td>\n",
       "      <td>182</td>\n",
       "      <td>15</td>\n",
       "      <td>0.01436</td>\n",
       "      <td>0.20</td>\n",
       "      <td>...</td>\n",
       "      <td>2017-03-25T07:35:59.502Z</td>\n",
       "      <td>2km ESE of Loma Linda, CA</td>\n",
       "      <td>earthquake</td>\n",
       "      <td>0.11</td>\n",
       "      <td>0.22</td>\n",
       "      <td>0</td>\n",
       "      <td>4</td>\n",
       "      <td>reviewed</td>\n",
       "      <td>ci</td>\n",
       "      <td>ci</td>\n",
       "    </tr>\n",
       "    <tr>\n",
       "      <th>1</th>\n",
       "      <td>2017-03-05T22:47:53.310Z</td>\n",
       "      <td>-5.999000</td>\n",
       "      <td>149.353000</td>\n",
       "      <td>31.07</td>\n",
       "      <td>6.30</td>\n",
       "      <td>mww</td>\n",
       "      <td>0</td>\n",
       "      <td>17</td>\n",
       "      <td>3.32600</td>\n",
       "      <td>0.99</td>\n",
       "      <td>...</td>\n",
       "      <td>2017-03-10T18:37:18.734Z</td>\n",
       "      <td>32km NW of Kandrian, Papua New Guinea</td>\n",
       "      <td>earthquake</td>\n",
       "      <td>6.60</td>\n",
       "      <td>3.20</td>\n",
       "      <td>0</td>\n",
       "      <td>0</td>\n",
       "      <td>reviewed</td>\n",
       "      <td>us</td>\n",
       "      <td>us</td>\n",
       "    </tr>\n",
       "    <tr>\n",
       "      <th>2</th>\n",
       "      <td>2017-03-02T02:11:30.682Z</td>\n",
       "      <td>59.578500</td>\n",
       "      <td>-152.654600</td>\n",
       "      <td>78.00</td>\n",
       "      <td>5.50</td>\n",
       "      <td>ml</td>\n",
       "      <td>0</td>\n",
       "      <td>0</td>\n",
       "      <td>0.00000</td>\n",
       "      <td>0.92</td>\n",
       "      <td>...</td>\n",
       "      <td>2017-03-13T23:55:23.379Z</td>\n",
       "      <td>42km WSW of Anchor Point, Alaska</td>\n",
       "      <td>earthquake</td>\n",
       "      <td>0.00</td>\n",
       "      <td>0.20</td>\n",
       "      <td>0</td>\n",
       "      <td>0</td>\n",
       "      <td>reviewed</td>\n",
       "      <td>ak</td>\n",
       "      <td>ak</td>\n",
       "    </tr>\n",
       "    <tr>\n",
       "      <th>3</th>\n",
       "      <td>2017-02-24T17:28:44.870Z</td>\n",
       "      <td>-23.260100</td>\n",
       "      <td>-178.803300</td>\n",
       "      <td>414.89</td>\n",
       "      <td>6.90</td>\n",
       "      <td>mww</td>\n",
       "      <td>0</td>\n",
       "      <td>19</td>\n",
       "      <td>6.01100</td>\n",
       "      <td>0.96</td>\n",
       "      <td>...</td>\n",
       "      <td>2017-03-08T18:38:16.565Z</td>\n",
       "      <td>289km S of Ndoi Island, Fiji</td>\n",
       "      <td>earthquake</td>\n",
       "      <td>8.60</td>\n",
       "      <td>3.50</td>\n",
       "      <td>0</td>\n",
       "      <td>0</td>\n",
       "      <td>reviewed</td>\n",
       "      <td>us</td>\n",
       "      <td>us</td>\n",
       "    </tr>\n",
       "  </tbody>\n",
       "</table>\n",
       "<p>4 rows × 22 columns</p>\n",
       "</div>"
      ],
      "text/plain": [
       "                       time   latitude   longitude   depth   mag magType  nst  \\\n",
       "0  2017-03-14T05:06:54.460Z  34.038833 -117.238667   17.64  3.61      mw  182   \n",
       "1  2017-03-05T22:47:53.310Z  -5.999000  149.353000   31.07  6.30     mww    0   \n",
       "2  2017-03-02T02:11:30.682Z  59.578500 -152.654600   78.00  5.50      ml    0   \n",
       "3  2017-02-24T17:28:44.870Z -23.260100 -178.803300  414.89  6.90     mww    0   \n",
       "\n",
       "   gap     dmin   rms    ...                      updated  \\\n",
       "0   15  0.01436  0.20    ...     2017-03-25T07:35:59.502Z   \n",
       "1   17  3.32600  0.99    ...     2017-03-10T18:37:18.734Z   \n",
       "2    0  0.00000  0.92    ...     2017-03-13T23:55:23.379Z   \n",
       "3   19  6.01100  0.96    ...     2017-03-08T18:38:16.565Z   \n",
       "\n",
       "                                   place        type horizontalError  \\\n",
       "0              2km ESE of Loma Linda, CA  earthquake            0.11   \n",
       "1  32km NW of Kandrian, Papua New Guinea  earthquake            6.60   \n",
       "2       42km WSW of Anchor Point, Alaska  earthquake            0.00   \n",
       "3           289km S of Ndoi Island, Fiji  earthquake            8.60   \n",
       "\n",
       "  depthError  magError  magNst    status  locationSource magSource  \n",
       "0       0.22         0       4  reviewed              ci        ci  \n",
       "1       3.20         0       0  reviewed              us        us  \n",
       "2       0.20         0       0  reviewed              ak        ak  \n",
       "3       3.50         0       0  reviewed              us        us  \n",
       "\n",
       "[4 rows x 22 columns]"
      ]
     },
     "execution_count": 3,
     "metadata": {},
     "output_type": "execute_result"
    }
   ],
   "source": [
    "# Observe the first 5 rows of the data provided below\n",
    "data.head(4)"
   ]
  },
  {
   "cell_type": "markdown",
   "metadata": {},
   "source": [
    "#### Questions"
   ]
  },
  {
   "cell_type": "markdown",
   "metadata": {},
   "source": [
    "1. Where are earthquakes most likely to occur?\n",
    "2. What is the name for movements between plates?\n",
    "3. Using the data above, which earthquake caused had a stronger impact?\n",
    "4. Using the link provided above, analyze the table given and identify each locations magnitude type along with its range."
   ]
  },
  {
   "cell_type": "markdown",
   "metadata": {},
   "source": [
    "## Temperature and Pressure"
   ]
  },
  {
   "cell_type": "markdown",
   "metadata": {},
   "source": [
    "Earth's internal temperature increases with depth.  This increase rate is not linear, though. As shown in the data below, the temperature increases quickly through the crust at about 20°C per kilometer. The temperature then increases more slowly as we descend through the mantle, sharply increases at the base of the mantle, and then increases slowly through the core. The temperature is around 1000°C at the base of the crust, around 3500°C at the base of the mantle, and around 5,000°C at Earth’s center."
   ]
  },
  {
   "cell_type": "code",
   "execution_count": 4,
   "metadata": {
    "collapsed": true
   },
   "outputs": [],
   "source": [
    "# Read the data that will be used for answering the questions below.\n",
    "data = pd.read_csv(\"./temp.csv\")"
   ]
  },
  {
   "cell_type": "code",
   "execution_count": 5,
   "metadata": {
    "collapsed": false
   },
   "outputs": [
    {
     "data": {
      "text/html": [
       "<div>\n",
       "<table border=\"1\" class=\"dataframe\">\n",
       "  <thead>\n",
       "    <tr style=\"text-align: right;\">\n",
       "      <th></th>\n",
       "      <th>Depth in km</th>\n",
       "      <th>Temperature in C</th>\n",
       "    </tr>\n",
       "  </thead>\n",
       "  <tbody>\n",
       "    <tr>\n",
       "      <th>0</th>\n",
       "      <td>0</td>\n",
       "      <td>0</td>\n",
       "    </tr>\n",
       "    <tr>\n",
       "      <th>1</th>\n",
       "      <td>100</td>\n",
       "      <td>1100</td>\n",
       "    </tr>\n",
       "    <tr>\n",
       "      <th>2</th>\n",
       "      <td>200</td>\n",
       "      <td>1600</td>\n",
       "    </tr>\n",
       "    <tr>\n",
       "      <th>3</th>\n",
       "      <td>300</td>\n",
       "      <td>1780</td>\n",
       "    </tr>\n",
       "    <tr>\n",
       "      <th>4</th>\n",
       "      <td>400</td>\n",
       "      <td>1900</td>\n",
       "    </tr>\n",
       "    <tr>\n",
       "      <th>5</th>\n",
       "      <td>500</td>\n",
       "      <td>1980</td>\n",
       "    </tr>\n",
       "    <tr>\n",
       "      <th>6</th>\n",
       "      <td>600</td>\n",
       "      <td>2060</td>\n",
       "    </tr>\n",
       "    <tr>\n",
       "      <th>7</th>\n",
       "      <td>700</td>\n",
       "      <td>2140</td>\n",
       "    </tr>\n",
       "    <tr>\n",
       "      <th>8</th>\n",
       "      <td>800</td>\n",
       "      <td>2180</td>\n",
       "    </tr>\n",
       "    <tr>\n",
       "      <th>9</th>\n",
       "      <td>900</td>\n",
       "      <td>2280</td>\n",
       "    </tr>\n",
       "    <tr>\n",
       "      <th>10</th>\n",
       "      <td>1000</td>\n",
       "      <td>2340</td>\n",
       "    </tr>\n",
       "    <tr>\n",
       "      <th>11</th>\n",
       "      <td>1100</td>\n",
       "      <td>2400</td>\n",
       "    </tr>\n",
       "    <tr>\n",
       "      <th>12</th>\n",
       "      <td>1200</td>\n",
       "      <td>2440</td>\n",
       "    </tr>\n",
       "    <tr>\n",
       "      <th>13</th>\n",
       "      <td>1300</td>\n",
       "      <td>2520</td>\n",
       "    </tr>\n",
       "    <tr>\n",
       "      <th>14</th>\n",
       "      <td>1400</td>\n",
       "      <td>2560</td>\n",
       "    </tr>\n",
       "    <tr>\n",
       "      <th>15</th>\n",
       "      <td>1500</td>\n",
       "      <td>2620</td>\n",
       "    </tr>\n",
       "    <tr>\n",
       "      <th>16</th>\n",
       "      <td>1600</td>\n",
       "      <td>2660</td>\n",
       "    </tr>\n",
       "    <tr>\n",
       "      <th>17</th>\n",
       "      <td>1700</td>\n",
       "      <td>2700</td>\n",
       "    </tr>\n",
       "    <tr>\n",
       "      <th>18</th>\n",
       "      <td>1800</td>\n",
       "      <td>2740</td>\n",
       "    </tr>\n",
       "    <tr>\n",
       "      <th>19</th>\n",
       "      <td>1900</td>\n",
       "      <td>2800</td>\n",
       "    </tr>\n",
       "  </tbody>\n",
       "</table>\n",
       "</div>"
      ],
      "text/plain": [
       "    Depth in km  Temperature in C\n",
       "0             0                 0\n",
       "1           100              1100\n",
       "2           200              1600\n",
       "3           300              1780\n",
       "4           400              1900\n",
       "5           500              1980\n",
       "6           600              2060\n",
       "7           700              2140\n",
       "8           800              2180\n",
       "9           900              2280\n",
       "10         1000              2340\n",
       "11         1100              2400\n",
       "12         1200              2440\n",
       "13         1300              2520\n",
       "14         1400              2560\n",
       "15         1500              2620\n",
       "16         1600              2660\n",
       "17         1700              2700\n",
       "18         1800              2740\n",
       "19         1900              2800"
      ]
     },
     "execution_count": 5,
     "metadata": {},
     "output_type": "execute_result"
    }
   ],
   "source": [
    "# Observe the first 20 rows and plot provided for you below.\n",
    "data.head(20)"
   ]
  },
  {
   "cell_type": "code",
   "execution_count": 6,
   "metadata": {
    "collapsed": false
   },
   "outputs": [
    {
     "data": {
      "text/plain": [
       "<matplotlib.text.Annotation at 0x212500e57b8>"
      ]
     },
     "execution_count": 6,
     "metadata": {},
     "output_type": "execute_result"
    },
    {
     "data": {
      "image/png": "[encoded data removed]",
      "text/plain": [
       "<matplotlib.figure.Figure at 0x2124fcff780>"
      ]
     },
     "metadata": {},
     "output_type": "display_data"
    }
   ],
   "source": [
    "fig = plt.figure(figsize=(10,3))\n",
    "plt.plot(data['Depth in km'],data['Temperature in C'])\n",
    "plt.ylabel('Temperature in C')\n",
    "plt.xlabel('Depth in km')\n",
    "\n",
    "plt.annotate('Lithosphere', xy=(0,0), xytext=(90,0))\n",
    "plt.annotate('Asthenosphere', xy=(100,1100), xytext=(500,1100),\n",
    "            arrowprops=dict(facecolor='yellow', shrink=0.02))\n",
    "plt.annotate('Mantle', xy=(400,1900), xytext=(1000,1900),\n",
    "             arrowprops=dict(facecolor='green',shrink=0.1))\n",
    "plt.annotate('Outer Core', xy=(2800,3840), xytext=(3200,3840),\n",
    "            arrowprops=dict(facecolor='orange'))\n",
    "plt.annotate('Inner Core', xy=(5100,5400), xytext=(5100,4300),\n",
    "            arrowprops=dict(facecolor='red'))\n",
    "\n",
    "# Note: the arrows on the graph point out where the specific layer begins"
   ]
  },
  {
   "cell_type": "code",
   "execution_count": 8,
   "metadata": {
    "collapsed": false
   },
   "outputs": [
    {
     "data": {
      "text/plain": [
       "<matplotlib.text.Annotation at 0x21250259e10>"
      ]
     },
     "execution_count": 8,
     "metadata": {},
     "output_type": "execute_result"
    },
    {
     "data": {
      "image/png": "[encoded data removed]",
      "text/plain": [
       "<matplotlib.figure.Figure at 0x212501f24a8>"
      ]
     },
     "metadata": {},
     "output_type": "display_data"
    }
   ],
   "source": [
    "# Observe the following graph, it will also be needed to answer the questions below.\n",
    "data = pd.read_csv(\"./Pressure_Data.csv\")\n",
    "\n",
    "# Note: 1 on the y-axis is equal to 1 x 10^6.\n",
    "fig = plt.figure(figsize=(10,3))\n",
    "plt.plot(data['Depth in km'],data['Pressure in bar'], 'r--')\n",
    "plt.ylabel('Pressure [10^6bar]')\n",
    "plt.xlabel('Depth [km]')\n",
    "\n",
    "plt.annotate('Mantle', xy=(1500,1.5))\n",
    "plt.annotate('Core', xy=(4800,1.0))"
   ]
  },
  {
   "cell_type": "markdown",
   "metadata": {},
   "source": [
    "#### Questions"
   ]
  },
  {
   "cell_type": "markdown",
   "metadata": {},
   "source": [
    "1. How do you think the pressure at different depths of the eath affects the density?\n",
    "2. Even though it is almost 6000 C at Earth's center, it is not molten. The center of the Earth is solid. Why might this be?\n",
    "3. Given what you now know about the pressure inside Earth, how can you relate this to volcanic eruptions?\n",
    "4. The air pressure outside is about 1 bar. About how many atmospheres worth of pressure are there at 2000km below sea level? (10^6 km = 1000000km)"
   ]
  },
  {
   "cell_type": "markdown",
   "metadata": {},
   "source": [
    "# References"
   ]
  },
  {
   "cell_type": "markdown",
   "metadata": {},
   "source": [
    "Annenberg Foundation. (2016). Earth's Structure.  Retrieved from https://www.learner.org/interactives/dynamicearth/structure.html \n",
    "\n",
    "Earth's Layers [Image]. Retrieved from https://classroom.therefugeecenter.org/wp-content/uploads/2016/04/Pic22.jpg \n",
    "\n",
    "USGS.gov.. Spreadsheet Format. Retrieved from https://earthquake.usgs.gov/earthquakes/feed/v1.0/csv.php \n",
    "\n",
    "Robertson, E. C. (2011, January 14). The Interior of the Earth. Retrieved from https://pubs.usgs.gov/gip/interior/\n",
    "\n",
    "USGS.gov. (2011, January 14). Data on Earth's Interior [Image]. Retrieved from \n",
    "     https://apionline.sodapdf.com/Public/widgets/convertmyimage/download/density.jpg \n",
    "     \n",
    "Earle, S. (n.d.). The Temperature of the Earths Interior. Retrieved from https://opentextbc.ca/geology/chapter/9-2-the-temperature-of-earths-interior/\n",
    "\n",
    "De Aquino, F. (2013, October). The Pressure at Different Depths in the Earth's Interior [Image]. \n",
    "     Retrieved from https://www.researchgate.net/figure/228377528_fig12_Fig-12-The-pressure-at-different-depths-in-the-Earth%27s-interior "
   ]
  },
  {
   "cell_type": "markdown",
   "metadata": {},
   "source": [
    "###### Contributors"
   ]
  },
  {
   "cell_type": "markdown",
   "metadata": {},
   "source": [
    "Programmer: Paola Santiago-Crespo  Forensic Science Major  \n",
    "\n",
    "Editor: James D. Rivers  Biochemistry Major"
   ]
  }
 ],
 "metadata": {
  "kernelspec": {
   "display_name": "Python 3",
   "language": "python",
   "name": "python3"
  },
  "language_info": {
   "codemirror_mode": {
    "name": "ipython",
    "version": 3
   },
   "file_extension": ".py",
   "mimetype": "text/x-python",
   "name": "python",
   "nbconvert_exporter": "python",
   "pygments_lexer": "ipython3",
   "version": "3.6.0"
  }
 },
 "nbformat": 4,
 "nbformat_minor": 2
}
