{
 "cells": [
  {
   "cell_type": "markdown",
   "metadata": {},
   "source": [
    "# Tides\n",
    "This activity let's you intestigate long-term patterns in tidal height. \n",
    "\n",
    "To get started,\n",
    "- You won't hurt anything by experimenting. If you break it, close the tab and open the activity again to start over.\n",
    "- Is this your first time? Need a refresher? Try the 5-minute [Intro to Jupyter activity](./Intro_to_Jupyter.ipynb) and come back here. \n",
    "\n",
    "When you're ready, run each code cell until you get down to **Part One**."
   ]
  },
  {
   "cell_type": "code",
   "execution_count": null,
   "metadata": {},
   "outputs": [],
   "source": [
    "# The first pieces of code we need to start with are called 'modules'\n",
    "import numpy as np\n",
    "import pandas as pd\n",
    "%matplotlib inline\n",
    "import matplotlib.pyplot as plt"
   ]
  },
  {
   "cell_type": "code",
   "execution_count": null,
   "metadata": {},
   "outputs": [],
   "source": [
    "# We need to read some data. Let's use our tool \".read_csv\" located in the \"pd\" module.\n",
    "data = pd.read_csv(\"https://github.com/adamlamee/CODINGinK12/raw/master/data/tides.csv\", names = [\"rawData\"])\n",
    "\n",
    "data['height'] = data.rawData.str[13:].astype(float)\n",
    "data['rawTime'] = data.rawData.str[:12]\n",
    "dates = pd.to_datetime(data.rawTime.tolist(), format='%d%m%Y%H%M')\n",
    "tides = pd.Series(data.iloc[:,1].tolist(), dates)"
   ]
  },
  {
   "cell_type": "code",
   "execution_count": null,
   "metadata": {},
   "outputs": [],
   "source": [
    "# displays the first several entries of the data set\n",
    "tides.head(5)"
   ]
  },
  {
   "cell_type": "code",
   "execution_count": null,
   "metadata": {},
   "outputs": [],
   "source": [
    "# The .shape command displays the (number of rows , number of columns) in a file.\n",
    "data.shape"
   ]
  },
  {
   "cell_type": "markdown",
   "metadata": {},
   "source": [
    "## Part One\n",
    "This sea level height data was collected from 2011-2015 off the coast of Mornington Island, Australia. Look at the cells above to find the answers to the following questions:\n",
    "- In the table above, what do you think each column represents?\n",
    "- How often were the measurements taken?\n",
    "- How many measurements are included in this data set?\n",
    "\n",
    "When you're ready, scroll down to **Part Two**."
   ]
  },
  {
   "cell_type": "code",
   "execution_count": null,
   "metadata": {},
   "outputs": [],
   "source": [
    "# this plots one day of data\n",
    "tides['June 1 2014'].plot(title=\"Sea level height (m)\")"
   ]
  },
  {
   "cell_type": "markdown",
   "metadata": {},
   "source": [
    "## Part Two\n",
    "The graph above shows the sea level height for June 1, 2014.\n",
    "- What pattern do you see in the graph?\n",
    "- Choose another day to plot. How does that graph differ?\n",
    "- What could explain the change of sea level height in a day?\n",
    "\n",
    "When you're ready, scroll down to **Part Three**."
   ]
  },
  {
   "cell_type": "code",
   "execution_count": null,
   "metadata": {},
   "outputs": [],
   "source": [
    "# plots a range of dates\n",
    "tides['Jun 1 2012':'Jun 7 2012'].plot(title=\"Sea level height (m)\")"
   ]
  },
  {
   "cell_type": "markdown",
   "metadata": {},
   "source": [
    "## Part Three\n",
    "You can use the code above to graph data for a range of dates.\n",
    "- Which dates are plotted in the graph?\n",
    "- How many high tides happened in that week?\n",
    "- Describe the pattern of the high and low tides. Does that continue for the rest of that month?\n",
    "- What might explain this pattern?\n",
    "\n",
    "## Part Four\n",
    "You've seen how the rise and fall of sea level height repeats over about one day.\n",
    "- Are there other repeating patterns in the data? What might cause that?\n",
    "- This data was collected in Australia. How would data from Florida be similar? How would it be different?\n",
    "- What do you think happened in June 2011?\n",
    "- How can neap tides be identified in a graph?\n",
    "\n",
    "---\n",
    "## Saving Your Work\n",
    "This is running on a Google server on a distant planet and deletes what you've done when you close this tab. To save your work for later use or analysis you have a few options:\n",
    "- File > Download .ipynb to save to your computer (and run with Jupyter software)\n",
    "- File > Download .py to save to your computer (and run with any Python software)\n",
    "- File > Print to ... um ... print.\n",
    "- Save an image to your computer of a graph or chart, right-click on it and select Save Image as ...\n",
    "\n",
    "## Credits\n",
    "The data come from the Department of Transport and Main Roads, Queensland Government, [2011-2015—Mornington Island tide gauge](https://data.qld.gov.au/dataset/mornington-island-tide-gauge-archived-interval-recordings/resource/ef6dd15e-64b7-430c-9f97-371c4965414d) archived interval recordings API, licensed under Creative Commons Attribution 3.0 sourced on 29 March 2017.\n",
    "\n",
    "UCF undergraduates Lissa Galguera, who found the data, and Hunter T., who started the development of this notebook, were funded by Seminole County Schools to make scientific computing a standard part of every middle school science class. This notebook was designed by [Adam LaMee](https://adamlamee.github.io/), who coordinated its development as the [PhysTEC](https://www.phystec.org/) Teacher-in-residence in the [University of Central Florida's Physics department](https://sciences.ucf.edu/physics/). Finally, thanks to the great folks at [Binder](https://mybinder.org/) and [Google Colaboratory](https://www.google.com/url?sa=t&rct=j&q=&esrc=s&source=web&cd=1&cad=rja&uact=8&ved=0ahUKEwjF96bdrO_bAhXD0FMKHUhAA-kQFggpMAA&url=https%3A%2F%2Fcolab.research.google.com%2F&usg=AOvVaw3A5aPK2kLFzKOzb6sOckVw) for making this notebook interactive without you needing to download it or install Jupyter on your own device. Find more activities and license info at [CODINGinK12.org](http://www.codingink12.org)."
   ]
  }
 ],
 "metadata": {
  "anaconda-cloud": {},
  "kernelspec": {
   "display_name": "Python 3",
   "language": "python",
   "name": "python3"
  },
  "language_info": {
   "codemirror_mode": {
    "name": "ipython",
    "version": 3
   },
   "file_extension": ".py",
   "mimetype": "text/x-python",
   "name": "python",
   "nbconvert_exporter": "python",
   "pygments_lexer": "ipython3",
   "version": "3.5.2"
  }
 },
 "nbformat": 4,
 "nbformat_minor": 1
}
