{
 "cells": [
  {
   "cell_type": "markdown",
   "metadata": {},
   "source": [
    "# Position Graph Matching\n",
    "In this activity, you'll use the *position function* to model different types of motion.\n",
    "\n",
    "To get started,\n",
    "- You won't hurt anything by experimenting. If you break it, close the tab and open the activity again to start over.\n",
    "- Is this your first time? Need a refresher? Try the 5-minute [Intro to Jupyter activity](./Intro_to_Jupyter.ipynb) and come back here. \n",
    "\n",
    "When you're ready, run each code cell until you get down to **Part One**."
   ]
  },
  {
   "cell_type": "code",
   "execution_count": null,
   "metadata": {},
   "outputs": [],
   "source": [
    "# this cell only needs to be run once, but re-exectuing it doesn't hurt anything either\n",
    "# imports software packages (not too exciting)\n",
    "import pandas as pd\n",
    "import numpy as np\n",
    "%matplotlib inline\n",
    "import matplotlib as mpl\n",
    "import matplotlib.pyplot as plt\n",
    "mpl.rcdefaults()"
   ]
  },
  {
   "cell_type": "code",
   "execution_count": null,
   "metadata": {},
   "outputs": [],
   "source": [
    "# this sets the coefficients\n",
    "xi = 0\n",
    "vi = 0\n",
    "a = 0\n",
    "\n",
    "# this creates the data table\n",
    "time_list = []\n",
    "position_list = []\n",
    "t = 0\n",
    "\n",
    "while (t < 11):\n",
    "    xf = xi + vi*t + .5*a*t**2\n",
    "    time_list.append(t)\n",
    "    position_list.append(xf)\n",
    "    t = t + 1\n",
    "\n",
    "data = pd.DataFrame()\n",
    "data['time'] = time_list\n",
    "data['position'] = position_list\n",
    "del time_list, position_list\n",
    "\n",
    "# this creates a scatterplot\n",
    "plt.scatter(data['time'], data['position'])\n",
    "plt.title(\"this could use a better title\")\n",
    "plt.xlabel(\"labels are important, too\")\n",
    "plt.ylabel(\"I'm so lonely\");"
   ]
  },
  {
   "cell_type": "markdown",
   "metadata": {},
   "source": [
    "## Part One\n",
    "The code above makes a graph of a *position function*. The position function is a quadratic equation that predicts the position of an object:  \n",
    "$$x_f=x_i+v_i t+\\frac{1}{2}at^2$$\n",
    "The variables are:  \n",
    "- final position, $x_f$\n",
    "- initial position, $x_i$\n",
    "- initial velocity, $v_i$\n",
    "- time, $t$\n",
    "- acceleration, $a$\n",
    "\n",
    "Edit the coefficients to values you think will match your graph, then re-excecute each cell to tell the program about the new values. Keep going until your group is satisfied with how well they match."
   ]
  },
  {
   "cell_type": "markdown",
   "metadata": {},
   "source": [
    "## Extras"
   ]
  },
  {
   "cell_type": "code",
   "execution_count": null,
   "metadata": {},
   "outputs": [],
   "source": [
    "# Uncomment the next line to make your graphs look like they're from xkcd.com\n",
    "#plt.xkcd();"
   ]
  },
  {
   "cell_type": "code",
   "execution_count": null,
   "metadata": {},
   "outputs": [],
   "source": [
    "# to make normal-looking plots again uncomment the next line and execute this cell\n",
    "#mpl.rcdefaults()"
   ]
  },
  {
   "cell_type": "markdown",
   "metadata": {},
   "source": [
    "---\n",
    "## Saving Your Work\n",
    "This is running on a Google server on a distant planet and deletes what you've done when you close this tab. To save your work for later use or analysis you have a few options:\n",
    "- File > Download .ipynb to save to your computer (and run with Jupyter software)\n",
    "- File > Download .py to save to your computer (and run with any Python software)\n",
    "- File > Print to ... um ... print.\n",
    "- Save an image to your computer of a graph or chart, right-click on it and select Save Image as ...\n",
    "\n",
    "## Credits\n",
    "This notebook was designed by [Adam LaMee](https://adamlamee.github.io/), who coordinated its development as the [PhysTEC](https://www.phystec.org/) Teacher-in-residence in the [University of Central Florida's Physics department](https://sciences.ucf.edu/physics/). Finally, thanks to the great folks at [Binder](https://mybinder.org/) and [Google Colaboratory](https://www.google.com/url?sa=t&rct=j&q=&esrc=s&source=web&cd=1&cad=rja&uact=8&ved=0ahUKEwjF96bdrO_bAhXD0FMKHUhAA-kQFggpMAA&url=https%3A%2F%2Fcolab.research.google.com%2F&usg=AOvVaw3A5aPK2kLFzKOzb6sOckVw) for making this notebook interactive without you needing to download it or install Jupyter on your own device. Find more activities and license info at [CODINGinK12.org](http://www.codingink12.org)."
   ]
  }
 ],
 "metadata": {
  "kernelspec": {
   "display_name": "Python 3",
   "language": "python",
   "name": "python3"
  },
  "language_info": {
   "codemirror_mode": {
    "name": "ipython",
    "version": 3
   },
   "file_extension": ".py",
   "mimetype": "text/x-python",
   "name": "python",
   "nbconvert_exporter": "python",
   "pygments_lexer": "ipython3",
   "version": "3.5.2"
  }
 },
 "nbformat": 4,
 "nbformat_minor": 1
}
