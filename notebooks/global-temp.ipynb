{
 "cells": [
  {
   "cell_type": "markdown",
   "metadata": {},
   "source": [
    "# Global Surface Temperature\n",
    "This activity analyzes historical data on global temperature changes from [NASA's GISS Surface Temperature Analysis (GISTEMP)](http://data.giss.nasa.gov/gistemp/).\n",
    "\n",
    "To get started,\n",
    "- You won't hurt anything by experimenting. If you break it, close the tab and open the activity again to start over.\n",
    "- Is this your first time? Need a refresher? Try the 5-minute [Intro to Coding activity](https://colab.research.google.com/github/adamlamee/CODINGinK12/blob/master/notebooks/intro.ipynb) and come back here. \n",
    "\n",
    "When you're ready, run each code cell until you get down to **Part One**."
   ]
  },
  {
   "cell_type": "code",
   "execution_count": null,
   "metadata": {},
   "outputs": [],
   "source": [
    "# import the software packages needed\n",
    "import pandas as pd\n",
    "import numpy as np\n",
    "%matplotlib inline\n",
    "import matplotlib as mpl\n",
    "import matplotlib.pyplot as plt"
   ]
  },
  {
   "cell_type": "code",
   "execution_count": null,
   "metadata": {},
   "outputs": [],
   "source": [
    "# Only land temperature averages\n",
    "data1 = pd.read_csv('http://github.com/adamlamee/CODINGinK12/raw/master/data/LAND.csv', header=1).replace(to_replace=\"***\", value=np.NaN)\n",
    "data_LAND_AVG = data1.apply(lambda x: pd.to_numeric(x, errors='ignore'))\n",
    "\n",
    "# Combined land and ocean temperature averages (LOTI: Land Ocean Temperature Index)\n",
    "data2 = pd.read_csv('http://github.com/adamlamee/CODINGinK12/raw/master/data/LOTI.csv', header=1).replace(to_replace=\"***\", value=np.NaN)\n",
    "data_LAND_OCEAN_AVG = data2.apply(lambda x: pd.to_numeric(x, errors='ignore'))"
   ]
  },
  {
   "cell_type": "code",
   "execution_count": null,
   "metadata": {},
   "outputs": [],
   "source": [
    "# The .head(n) command displays the first n rows of the file.\n",
    "data_LAND_AVG.head(5)"
   ]
  },
  {
   "cell_type": "code",
   "execution_count": null,
   "metadata": {},
   "outputs": [],
   "source": [
    "# The .shape command displays the (number of rows , number of columns) in a file.\n",
    "data_LAND_AVG.shape"
   ]
  },
  {
   "cell_type": "markdown",
   "metadata": {},
   "source": [
    "## Part One\n",
    "Let's get acquainted with this data set. Look at the cells above to find the answers to the following questions:\n",
    "- In the table above, what do you think each of the column headings represent?\n",
    "- How many years are included in this data set?\n",
    "\n",
    "When you're ready, scroll down to **Part Two**."
   ]
  },
  {
   "cell_type": "code",
   "execution_count": null,
   "metadata": {},
   "outputs": [],
   "source": [
    "x = data_LAND_AVG['Year']\n",
    "y = data_LAND_AVG['JanDec']\n",
    "\n",
    "# plt.plot() makes a line graph\n",
    "fig = plt.figure(figsize=(10, 5))\n",
    "plt.plot(x, y)\n",
    "plt.axhline(0, color='gray')   # try chaning the color. It only knows some color names, though.\n",
    "plt.title('Title me!')\n",
    "plt.xlabel('I need a label')\n",
    "plt.ylabel('I probably need one, too');"
   ]
  },
  {
   "cell_type": "markdown",
   "metadata": {},
   "source": [
    "## Part Two  \n",
    "The code above generates a graph of average land temperature readings each year, in percent temperature change from past 5-year average.  \n",
    "- The title and axis labels on the graph could use some work. Try editing the code above the graph, then run the code again to see the changes.  \n",
    "- Which years had higher temperatures than the previous 5-year average? When was it cooler than the past 5-year average?  \n",
    "\n",
    "When you're ready, scroll down to Part Three."
   ]
  },
  {
   "cell_type": "code",
   "execution_count": null,
   "metadata": {},
   "outputs": [],
   "source": [
    "# Wow, this needs a title and axis labels!\n",
    "fig = plt.figure(figsize=(10, 5))\n",
    "plt.plot(data_LAND_AVG['Year'], data_LAND_AVG['JanDec'], label=\"Land average\")\n",
    "plt.plot(data_LAND_OCEAN_AVG['Year'], data_LAND_OCEAN_AVG['JanDec'], label=\"Land + Ocean average\")\n",
    "plt.axhline(0, color='gray')\n",
    "plt.title('Title me!')\n",
    "plt.xlabel('I need a label')\n",
    "plt.ylabel('I probably need one, too')\n",
    "plt.legend()\n",
    "plt.show()"
   ]
  },
  {
   "cell_type": "markdown",
   "metadata": {
    "collapsed": true
   },
   "source": [
    "## Part Three\n",
    "NASA also measured ocean temperatures. The graph above also shows *combined average temperature for ocean and land* for the same time range.\n",
    "- What differences can you see between the two data sets?  \n",
    "- When is the combined land and ocean average warmer than just the land temperature? When is it cooler?\n",
    "- Which is more likely to show a smaller temperature change, land or land+ocean? Why is that?  \n",
    "- Describe the overall trend of the data.  \n",
    "\n",
    "---  \n",
    "## Saving Your Work  \n",
    "This is running on a Google server on a distant planet and deletes what you've done when you close this tab. To save your work for later use or analysis you have a few options:  \n",
    "- File > \"Save a copy in Drive\" will save it to you Google Drive in a folder called \"Collaboratory\". You can run it later from there.  \n",
    "- File > \"Download .ipynb\" to save to your computer (and run with Jupyter software later)  \n",
    "- File > Print to ... um ... print.  \n",
    "- To save an image of a graph or chart, right-click on it and select Save Image as ...  \n",
    "\n",
    "## Credits\n",
    "The data came from [NASA's GISS Surface Temperature Analysis (GISTEMP)](http://data.giss.nasa.gov/gistemp/) ([original file](http://data.giss.nasa.gov/gistemp/tabledata_v3/GLB.Ts+dSST.csv) pulled 3/28/2017). This notebook was designed by [Adam LaMee](https://adamlamee.github.io/). Thanks to the great folks at [Binder](https://mybinder.org/) and [Google Colaboratory](https://colab.research.google.com/notebooks/intro.ipynb) for making this notebook interactive without you needing to download it or install [Jupyter](https://jupyter.org/) on your own device. Find more activities and license info at [CODINGinK12.org](http://www.codingink12.org).  \n",
    "- GISTEMP Team, 2017: GISS Surface Temperature Analysis (GISTEMP). NASA Goddard Institute for Space Studies. Dataset accessed 20YY-MM-DD at [https://data.giss.nasa.gov/gistemp/](https://data.giss.nasa.gov/gistemp/).\n",
    "- Hansen, J., R. Ruedy, M. Sato, and K. Lo, 2010: [Global surface temperature change](https://pubs.giss.nasa.gov/abs/ha00510u.html), Rev. Geophys., 48, RG4004, doi:10.1029/2010RG000345."
   ]
  }
 ],
 "metadata": {
  "kernelspec": {
   "display_name": "Python 3",
   "language": "python",
   "name": "python3"
  },
  "language_info": {
   "codemirror_mode": {
    "name": "ipython",
    "version": 3
   },
   "file_extension": ".py",
   "mimetype": "text/x-python",
   "name": "python",
   "nbconvert_exporter": "python",
   "pygments_lexer": "ipython3",
   "version": "3.7.4"
  }
 },
 "nbformat": 4,
 "nbformat_minor": 1
}
