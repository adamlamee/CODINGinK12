{
 "cells": [
  {
   "cell_type": "markdown",
   "metadata": {},
   "source": [
    "# Velocity Graph Matching\n",
    "In this activity, you'll use the *velocity function* to model different types of motion.\n",
    "\n",
    "To get started,\n",
    "- You won't hurt anything by experimenting. If you break it, close the tab and open the activity again to start over.\n",
    "- Is this your first time? Need a refresher? Try the 5-minute [Intro to Coding activity](https://colab.research.google.com/github/adamlamee/CODINGinK12/blob/master/notebooks/intro.ipynb) and come back here. \n",
    "\n",
    "When you're ready, run each code cell until you get down to **Part One**."
   ]
  },
  {
   "cell_type": "code",
   "execution_count": null,
   "metadata": {},
   "outputs": [],
   "source": [
    "# this cell only needs to be run once, but re-exectuing it doesn't hurt anything either\n",
    "# imports software packages (not too exciting)\n",
    "import pandas as pd\n",
    "import numpy as np\n",
    "%matplotlib inline\n",
    "import matplotlib as mpl\n",
    "import matplotlib.pyplot as plt"
   ]
  },
  {
   "cell_type": "code",
   "execution_count": null,
   "metadata": {},
   "outputs": [],
   "source": [
    "# this sets the coefficients\n",
    "vi = 0\n",
    "a = .5\n",
    "print(\"initial velocity =\", vi, \"[some units]\")\n",
    "print(\"acceleration =\", a, \"[some units]\")"
   ]
  },
  {
   "cell_type": "markdown",
   "metadata": {},
   "source": [
    "## Part One\n",
    "The code above sets values for some parameters of motion.  \n",
    "- What is the initial velocity? What's the name of the variable stores that value?  \n",
    "- Edit the code above with the proper SI units for each quantity. Re-run the code to make sure your like your edits.  \n",
    "\n",
    "These coefficients can be used to predict the motion using the *velocity function*. It's a linear equation that predicts the velocity of an object:  \n",
    "$$v_f=v_i +at$$\n",
    "The variables are:  \n",
    "- final velocity, $v_f$\n",
    "- initial velocity, $v_i$\n",
    "- acceleration, $a$\n",
    "- time, $t$\n",
    "\n",
    "When you're ready, scroll down to **Part Two**."
   ]
  },
  {
   "cell_type": "code",
   "execution_count": null,
   "metadata": {},
   "outputs": [],
   "source": [
    "# makes an empty position/time data set\n",
    "time_list = []  \n",
    "velocity_list = []\n",
    "t = 0               # sets a starting value for time\n",
    "\n",
    "while (t < 11):                  # runs the 4 lines below until time is not < 11\n",
    "    time_list.append(t)          # saves the time value\n",
    "    vf = vi + a*t                # calculates vf\n",
    "    velocity_list.append(vf)     # saves vf as the position value\n",
    "    t = t + 1                    # increases the time value for the next loop\n",
    "\n",
    "#   this creates a scatterplot: plt.scatter(x-variable, y-variable)\n",
    "plt.scatter(time_list, velocity_list)\n",
    "plt.title(\"this could use a better title\")\n",
    "plt.xlabel(\"labels are important\")\n",
    "plt.ylabel(\"I'm lonely\");"
   ]
  },
  {
   "cell_type": "markdown",
   "metadata": {},
   "source": [
    "## Part Two  \n",
    "The code above makes a graph of a *velocity function*.  \n",
    "- How does the shape of the graph indicate the object is accelerating?  \n",
    "- Edit the coefficients in **Part One** to model the different types of motion below. You'll need to re-run that code to store the new values in your coefficients. Then, re-run the graph code to see the new graph.  \n",
    "    - Model constant speed motion at 5 m/s.  \n",
    "    - Model the motion of an object moving backwards.  \n",
    "    - Model an object slowing down.  \n",
    "    - Model the motion of a projectiole on Earth, like a basketball, thrown straight up.  \n",
    "    \n",
    "## Coding Challenge  \n",
    "- Try making a graph that plots motion every 0.5 seconds.\n",
    "- Try plotting 20 seconds of data. \n",
    "\n",
    "## Extras"
   ]
  },
  {
   "cell_type": "code",
   "execution_count": null,
   "metadata": {},
   "outputs": [],
   "source": [
    "# Uncomment the next line to make your graphs look like they're from xkcd.com\n",
    "#plt.xkcd();"
   ]
  },
  {
   "cell_type": "code",
   "execution_count": null,
   "metadata": {},
   "outputs": [],
   "source": [
    "# to make normal-looking plots again uncomment the next line and execute this cell\n",
    "#mpl.rcdefaults()"
   ]
  },
  {
   "cell_type": "markdown",
   "metadata": {},
   "source": [
    "---  \n",
    "## Saving Your Work  \n",
    "This is running on a Google server on a distant planet and deletes what you've done when you close this tab. To save your work for later use or analysis you have a few options:  \n",
    "- File > \"Save a copy in Drive\" will save it to you Google Drive in a folder called \"Collaboratory\". You can run it later from there.  \n",
    "- File > \"Download .ipynb\" to save to your computer (and run with Jupyter software later)  \n",
    "- File > Print to ... um ... print.  \n",
    "- To save an image of a graph or chart, right-click on it and select Save Image as ...  \n",
    "\n",
    "## Credits\n",
    "This notebook was designed by [Adam LaMee](https://adamlamee.github.io/), who coordinated its development as the [PhysTEC](https://www.phystec.org/) Teacher-in-residence in the [University of Central Florida's Physics department](https://sciences.ucf.edu/physics/). Thanks to the great folks at [Binder](https://mybinder.org/) and [Google Colaboratory](https://colab.research.google.com/notebooks/intro.ipynb) for making this notebook interactive without you needing to download it or install [Jupyter](https://jupyter.org/) on your own device. Find more activities and license info at [CODINGinK12.org](http://www.codingink12.org)."
   ]
  }
 ],
 "metadata": {
  "kernelspec": {
   "display_name": "Python 3",
   "language": "python",
   "name": "python3"
  },
  "language_info": {
   "codemirror_mode": {
    "name": "ipython",
    "version": 3
   },
   "file_extension": ".py",
   "mimetype": "text/x-python",
   "name": "python",
   "nbconvert_exporter": "python",
   "pygments_lexer": "ipython3",
   "version": "3.7.4"
  }
 },
 "nbformat": 4,
 "nbformat_minor": 1
}
