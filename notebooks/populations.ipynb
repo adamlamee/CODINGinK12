{
 "cells": [
  {
   "cell_type": "markdown",
   "metadata": {},
   "source": [
    "# Populations of Predators and Prey\n",
    "\n",
    "This activity will guide you in creating a double line graph using data below for Everglades Burmese Python and White-tailed Deer Populations.  \n",
    "\n",
    "To get started,\n",
    "- You won't hurt anything by experimenting. If you break it, close the tab and open the activity again to start over.\n",
    "- Is this your first time? Need a refresher? Try the 5-minute [Intro to Coding activity](https://colab.research.google.com/github/adamlamee/CODINGinK12/blob/master/notebooks/intro.ipynb) and come back here. \n",
    "\n",
    "When you're ready, run each code box until you get down to **Part One**."
   ]
  },
  {
   "cell_type": "code",
   "execution_count": null,
   "metadata": {},
   "outputs": [],
   "source": [
    "# We first have to import the software we'll need, called 'modules'\n",
    "import numpy as np\n",
    "import pandas as pd\n",
    "%matplotlib inline\n",
    "import matplotlib.pyplot as plt"
   ]
  },
  {
   "cell_type": "code",
   "execution_count": null,
   "metadata": {},
   "outputs": [],
   "source": [
    "# We now need to read the data of Python and Deer populations over a number of years. \n",
    "# Let's use the method \".read_csv\" located in the \"pd\" module.\n",
    "\n",
    "data = pd.read_csv(\"https://github.com/adamlamee/CODINGinK12/raw/master/data/populations.csv\")\n",
    "\n",
    "# This diplays the variable 'data'. It's the whole data table.\n",
    "data "
   ]
  },
  {
   "cell_type": "markdown",
   "metadata": {},
   "source": [
    "# Part One  \n",
    "Look at the table of data above.  \n",
    "- How many years of data are shown?  \n",
    "- How many deer were present in the first year of the study?  \n",
    "- When did the python population outnumber the deer?  \n",
    "  \n",
    "When you're ready, scroll down to **Part Two**."
   ]
  },
  {
   "cell_type": "code",
   "execution_count": null,
   "metadata": {},
   "outputs": [],
   "source": [
    "plt.plot(data['Year'], data['Pythons'], label='pythons', color='red', marker='o')\n",
    "plt.plot(data['Year'], data['Deer'], label='deer', color='blue', marker='+')\n",
    "plt.title('I could use a better title')\n",
    "plt.xlabel('label me!')\n",
    "plt.ylabel('label me, too!')\n",
    "plt.xlim(2000,2015)\n",
    "plt.ylim(100,1000)\n",
    "plt.legend()\n",
    "plt.show()"
   ]
  },
  {
   "cell_type": "markdown",
   "metadata": {},
   "source": [
    "# Part Two  \n",
    "The graph above shows how the animal populations in the Everglades changed.  \n",
    "- The title and axis labels on the graph could use some work. Try editing the code above the graph, then run the code again to see the changes.  \n",
    "- It's a good practice to have the y-axis begin at zero. Try fixing that.\n",
    "- Also, the x-axis is too wide. Edit the code above to make the x-axis fot the years covered by the data.  \n",
    "- If the study continued, what might happen to the deer population? Why is that?  \n",
    "- Describe the shape of the python population's line. What happens near the end? Why do you think that?  \n",
    "  \n",
    "---  \n",
    "## Saving Your Work  \n",
    "This is running on a Google server on a distant planet and deletes what you've done when you close this tab. To save your work for later use or analysis you have a few options:  \n",
    "- File > \"Save a copy in Drive\" will save it to you Google Drive in a folder called \"Collaboratory\". You can run it later from there.  \n",
    "- File > \"Download .ipynb\" to save to your computer (and run with Jupyter software later)  \n",
    "- File > Print to ... um ... print.  \n",
    "- To save an image of a graph or chart, right-click on it and select Save Image as ...  \n",
    "\n",
    "## Credits\n",
    "The data came from the [Florida Fish and Wildlife Conservation Commission](https://myfwc.com/). UCF undergraduate Hunter T., who started the development of this notebook, was funded by Orange County Schools to make scientific computing a standard part of every middle school science class. This notebook was designed by [Adam LaMee](https://adamlamee.github.io/), who coordinated its development as the [PhysTEC](https://www.phystec.org/) Teacher-in-residence in the [University of Central Florida's Physics department](https://sciences.ucf.edu/physics/). Thanks to the great folks at [Binder](https://mybinder.org/) and [Google Colaboratory](https://colab.research.google.com/notebooks/intro.ipynb) for making this notebook interactive without you needing to download it or install [Jupyter](https://jupyter.org/) on your own device. Find more activities and license info at [CODINGinK12.org](http://www.codingink12.org)."
   ]
  }
 ],
 "metadata": {
  "kernelspec": {
   "display_name": "Python 3",
   "language": "python",
   "name": "python3"
  },
  "language_info": {
   "codemirror_mode": {
    "name": "ipython",
    "version": 3
   },
   "file_extension": ".py",
   "mimetype": "text/x-python",
   "name": "python",
   "nbconvert_exporter": "python",
   "pygments_lexer": "ipython3",
   "version": "3.7.4"
  }
 },
 "nbformat": 4,
 "nbformat_minor": 2
}
