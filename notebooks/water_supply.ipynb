{
 "cells": [
  {
   "cell_type": "markdown",
   "metadata": {},
   "source": [
    "# Water Use and Supply\n",
    "\n",
    "\n",
    "This activity looks for relationships in water supply and usage across Florida.\n",
    "\n",
    "To get started,\n",
    "- You won't hurt anything by experimenting. If you break it, close the tab and open the activity again to start over.\n",
    "- Is this your first time? Need a refresher? Try the 5-minute [Intro to Jupyter activity](./Intro_to_Jupyter.ipynb) and come back here. \n",
    "\n",
    "When you're ready, run each code cell until you get down to **Part One**."
   ]
  },
  {
   "cell_type": "code",
   "execution_count": null,
   "metadata": {},
   "outputs": [],
   "source": [
    "# Import modules that contain functions we need\n",
    "import pandas as pd\n",
    "import numpy as np\n",
    "%matplotlib inline\n",
    "import matplotlib.pyplot as plt\n",
    "pd.options.display.max_rows = 100"
   ]
  },
  {
   "cell_type": "markdown",
   "metadata": {},
   "source": [
    "## Use of Water by Florida Counties in 2010  \n",
    "\n",
    "The data include  \n",
    "- **Population**: number of individuals living in that area\n",
    "- **Public_supply**: millions of gallons of fresh water per day supplied by the area's water system\n",
    "- **Water_use**: millions of gallons of fresh water per day for all public and private uses"
   ]
  },
  {
   "cell_type": "code",
   "execution_count": null,
   "metadata": {},
   "outputs": [],
   "source": [
    "# Our data is a table and is defined as the word 'data'.\n",
    "data = pd.read_csv(\"https://github.com/adamlamee/CODINGinK12/raw/master/publicwatersupplyflorida2010.csv\")\n",
    "\n",
    "# displays the first few rows of the table\n",
    "data.head(3)"
   ]
  },
  {
   "cell_type": "markdown",
   "metadata": {},
   "source": [
    "# Part One\n",
    "- Which of the three counties used the most water?\n",
    "- Can you edit and re-run the code above to view 10 counties. Does that change your answer to the previous question?  \n",
    "\n",
    "The last column shows total water use. Where did that water go? \n",
    "- What are some residential uses?\n",
    "- What are some commercial uses?\n",
    "- What are some municipal or governmental uses?\n",
    "\n",
    "When you're ready, run each cell unitl you get to **Part Two**."
   ]
  },
  {
   "cell_type": "code",
   "execution_count": null,
   "metadata": {},
   "outputs": [],
   "source": [
    "# this sorts the data table by a column, but the column name nees to be an exact match\n",
    "data.sort_values(by=\"Population\", ascending=True)"
   ]
  },
  {
   "cell_type": "markdown",
   "metadata": {},
   "source": [
    "# Part Two\n",
    "Edit and re-run the code above to help answer the following questions:\n",
    "- Which county do you think would have the greatest daily supply of fresh water?\n",
    "- Which one might have the largest daily consuption?\n",
    "\n",
    "When you're ready, run each cell unitl you get to **Part Three**."
   ]
  },
  {
   "cell_type": "code",
   "execution_count": null,
   "metadata": {},
   "outputs": [],
   "source": [
    "# You can specify a column by data['column name']\n",
    "# This makes a new column called \"column\" and fills it with the population + 2 (which isn't really helpful)\n",
    "data['column'] = data['Population'] + 2\n",
    "data.head(3)"
   ]
  },
  {
   "cell_type": "markdown",
   "metadata": {},
   "source": [
    "# Part Three\n",
    "Edit and re-run the code above to help answer the following questions:\n",
    "- Which county has the largest *per capita* water use?\n",
    "- Which one has the lowest?\n",
    "- Which county has the smallest *per capita* supply of fresh water?"
   ]
  },
  {
   "cell_type": "markdown",
   "metadata": {},
   "source": [
    "---\n",
    "## Saving Your Work\n",
    "This is running on a Google server on a distant planet and deletes what you've done when you close this tab. To save your work for later use or analysis you have a few options:\n",
    "- File > Download .ipynb to save to your computer (and run with Jupyter software)\n",
    "- File > Download .py to save to your computer (and run with any Python software)\n",
    "- File > Print to ... um ... print.\n",
    "- Save an image to your computer of a graph or chart, right-click on it and select Save Image as ...\n",
    "\n",
    "## Credits\n",
    "The data come from the [US Geological Service](https://pubs.er.usgs.gov/publication/sir20145088), [more data](http://waterdata.usgs.gov/fl/nwis/current/?type=precip), and the [St. Johns River Water Management District](http://www.sjrwmd.com).  \n",
    "\n",
    "This notebook was drafted by UCF Physics undergrad Megan Cox and Forensic Science undergrad Abryana Fergus along with further development by [Adam LaMee](https://adamlamee.github.io/). Finally, thanks to the great folks at [Binder](https://mybinder.org/) and [Google Colaboratory](https://www.google.com/url?sa=t&rct=j&q=&esrc=s&source=web&cd=1&cad=rja&uact=8&ved=0ahUKEwjF96bdrO_bAhXD0FMKHUhAA-kQFggpMAA&url=https%3A%2F%2Fcolab.research.google.com%2F&usg=AOvVaw3A5aPK2kLFzKOzb6sOckVw) for making this notebook interactive without you needing to download it or install Jupyter on your own device. Find more activities and license info at [CODINGinK12.org](http://www.codingink12.org)."
   ]
  },
  {
   "cell_type": "code",
   "execution_count": null,
   "metadata": {},
   "outputs": [],
   "source": []
  }
 ],
 "metadata": {
  "kernelspec": {
   "display_name": "Python 3",
   "language": "python",
   "name": "python3"
  },
  "language_info": {
   "codemirror_mode": {
    "name": "ipython",
    "version": 3
   },
   "file_extension": ".py",
   "mimetype": "text/x-python",
   "name": "python",
   "nbconvert_exporter": "python",
   "pygments_lexer": "ipython3",
   "version": "3.7.1"
  }
 },
 "nbformat": 4,
 "nbformat_minor": 2
}
