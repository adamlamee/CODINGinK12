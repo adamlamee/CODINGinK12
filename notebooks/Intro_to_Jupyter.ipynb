{
 "cells": [
  {
   "cell_type": "markdown",
   "metadata": {},
   "source": [
    "# Intro to coding with a Jupyter notebook\n",
    "This is a Jupyter notebook. It allows you to type text, format it with headings and links, insert images, and have separate cells for code. You can press shift+ENTER to execute a cell and go on to the next one. You can also edit the code and run it again to see how the output changes.\n",
    "\n",
    "Next, try running the following cells by pressing shift+ENTER for each one.\n",
    "\n",
    "*You won't hurt anything by experimenting. If you break it, close the tab and open the activity again to start over.*"
   ]
  },
  {
   "cell_type": "code",
   "execution_count": null,
   "metadata": {},
   "outputs": [],
   "source": [
    "# This is how to add.\n",
    "2+2"
   ]
  },
  {
   "cell_type": "code",
   "execution_count": null,
   "metadata": {},
   "outputs": [],
   "source": [
    "# This is a \"comment\"\n",
    "# Starting with # tells the program not to read this line\n",
    "5-4"
   ]
  },
  {
   "cell_type": "code",
   "execution_count": null,
   "metadata": {},
   "outputs": [],
   "source": [
    "# the following lines \"define variables\"\n",
    "a = 4\n",
    "b = 3\n",
    "\n",
    "# If you're used to other languages, Python doesn't need the \"print\" command\n",
    "# the next line displays the result\n",
    "a+b"
   ]
  },
  {
   "cell_type": "code",
   "execution_count": null,
   "metadata": {},
   "outputs": [],
   "source": [
    "c = a*a\n",
    "c"
   ]
  },
  {
   "cell_type": "code",
   "execution_count": null,
   "metadata": {},
   "outputs": [],
   "source": [
    "# Can you figure out what this operation is?\n",
    "d = b**a\n",
    "d"
   ]
  },
  {
   "cell_type": "markdown",
   "metadata": {
    "collapsed": true
   },
   "source": [
    "You can re-execute a cell by pressing shift+ENTER. Try editing some of the code above.\n",
    "- Edit some code to do a different calculation\n",
    "- Add a comment in a code cell to explain what the code does\n",
    "- Figure out what that last calculation does"
   ]
  },
  {
   "cell_type": "markdown",
   "metadata": {},
   "source": [
    "# Markdown\n",
    "This is a *markdown cell* which contains markdown text. That's text that isn't read as Python code. Instead, you can format markdown text to look nice. It's pretty simple. \n",
    "- here's a bullet point\n",
    "- and another list item in *italics* and **bold**.\n",
    "- this one has a hyperlink to this [treasure of the internet](https://www.youtube.com/watch?v=dQw4w9WgXcQ)\n",
    "- You can even embed images  \n",
    "![title](https://imgs.xkcd.com/comics/mu.png)\n",
    "\n",
    "## Try this\n",
    "Double-click on this cell to see the code that formats this text. Make a few edits and press shift+ENTER to see the changes.\n",
    "\n",
    "Read more about [formatting the markdown text](https://help.github.com/articles/basic-writing-and-formatting-syntax/) in a cell, like this one, or go to Help > Markdown > Basic Writing and Formatting Text."
   ]
  },
  {
   "cell_type": "markdown",
   "metadata": {},
   "source": [
    "---\n",
    "## Saving Your Work\n",
    "This is running on a Google server on a distant planet and deletes what you've done when you close this tab. To save your work for later use or analysis you have a few options:\n",
    "- File > Download .ipynb to save to your computer (and run with Jupyter software)\n",
    "- File > Download .py to save to your computer (and run with any Python software)\n",
    "- File > Print to ... um ... print.\n",
    "- Save an image to your computer of a graph or chart, right-click on it and select Save Image as ...\n",
    "\n",
    "## Credits\n",
    "This notebook was designed by [Adam LaMee](https://adamlamee.github.io/). Thanks to the great folks at [Binder](https://mybinder.org/) and [Google Colaboratory](https://www.google.com/url?sa=t&rct=j&q=&esrc=s&source=web&cd=1&cad=rja&uact=8&ved=0ahUKEwjF96bdrO_bAhXD0FMKHUhAA-kQFggpMAA&url=https%3A%2F%2Fcolab.research.google.com%2F&usg=AOvVaw3A5aPK2kLFzKOzb6sOckVw) for making this notebook interactive without you needing to download it or install Jupyter on your own device. Find more activities and license info at [CODINGinK12.org](http://www.codingink12.org)."
   ]
  }
 ],
 "metadata": {
  "kernelspec": {
   "display_name": "Python 3",
   "language": "python",
   "name": "python3"
  },
  "language_info": {
   "codemirror_mode": {
    "name": "ipython",
    "version": 3
   },
   "file_extension": ".py",
   "mimetype": "text/x-python",
   "name": "python",
   "nbconvert_exporter": "python",
   "pygments_lexer": "ipython3",
   "version": "3.5.2"
  }
 },
 "nbformat": 4,
 "nbformat_minor": 1
}
