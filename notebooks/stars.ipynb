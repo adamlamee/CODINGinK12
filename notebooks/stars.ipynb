{
 "cells": [
  {
   "cell_type": "markdown",
   "metadata": {},
   "source": [
    "# Star catalogue analysis\n",
    "This activity analyzes properties of over 100,000 stars. \n",
    "\n",
    "To get started,\n",
    "- You won't hurt anything by experimenting. If you break it, close the tab and open the activity again to start over.\n",
    "- Is this your first time? Need a refresher? Try the 5-minute [Intro to Coding activity](https://colab.research.google.com/github/adamlamee/CODINGinK12/blob/master/notebooks/intro.ipynb) and come back here. \n",
    "\n",
    "When you're ready, run each code cell until you get down to **Part One**."
   ]
  },
  {
   "cell_type": "code",
   "execution_count": null,
   "metadata": {},
   "outputs": [],
   "source": [
    "# Import modules that contain functions we need\n",
    "import pandas as pd\n",
    "import numpy as np\n",
    "%matplotlib inline\n",
    "import matplotlib.pyplot as plt"
   ]
  },
  {
   "cell_type": "code",
   "execution_count": null,
   "metadata": {},
   "outputs": [],
   "source": [
    "# Read in data that will be used for the calculations.\n",
    "data = pd.read_csv(\"https://github.com/adamlamee/CODINGinK12/raw/master/data/stars.csv\")"
   ]
  },
  {
   "cell_type": "code",
   "execution_count": null,
   "metadata": {},
   "outputs": [],
   "source": [
    "# We wish to look at the first 5 rows of our data set\n",
    "data.head(5)"
   ]
  },
  {
   "cell_type": "code",
   "execution_count": null,
   "metadata": {},
   "outputs": [],
   "source": [
    "# The .shape command displays the (number of rows , number of columns) in a file.\n",
    "data.shape"
   ]
  },
  {
   "cell_type": "markdown",
   "metadata": {},
   "source": [
    "## Part One\n",
    "Let's get acquainted with this data set. Look at the cells above to find the answers to the following questions:\n",
    "- In the table above, what do you think each of the column headings represent?\n",
    "- How many stars are included in this data set?\n",
    "\n",
    "When you're ready, scroll down to **Part Two**."
   ]
  },
  {
   "cell_type": "code",
   "execution_count": null,
   "metadata": {},
   "outputs": [],
   "source": [
    "fig = plt.figure(figsize=(15, 4))\n",
    "plt.scatter(data['ra'],data['dec'], s=0.01)\n",
    "plt.xlim(24, 0)\n",
    "plt.title(\"title?\")\n",
    "plt.xlabel(\"Label me!\")\n",
    "plt.ylabel(\"Me, too!\");"
   ]
  },
  {
   "cell_type": "markdown",
   "metadata": {},
   "source": [
    "## Part Two\n",
    "The code above generates a graph of declination vs. right ascension for each star in the data table.\n",
    "- The title and axis labels on the graph could use some work. Try editing the code above the graph, then run the code again to see the changes.\n",
    "- What pattern do you see in the graph? What might explain that pattern?\n",
    "\n",
    "When you're ready, scroll down to **Part Three**."
   ]
  },
  {
   "cell_type": "code",
   "execution_count": null,
   "metadata": {},
   "outputs": [],
   "source": [
    "# format the points on the graph\n",
    "transparency = 0.2\n",
    "size = 1\n",
    "\n",
    "# draws a scatter plot\n",
    "plt.scatter(data.temp, data.absmag, s=size, edgecolors='none', alpha=transparency)\n",
    "plt.xlim(2000,15000)\n",
    "plt.ylim(20,-15)\n",
    "plt.title(\"Any idea for a title?\")\n",
    "plt.ylabel(\"Absolute Magnitude\")\n",
    "plt.xlabel(\"Temperature (K)\");"
   ]
  },
  {
   "cell_type": "markdown",
   "metadata": {},
   "source": [
    "## Part Three\n",
    "Use the graph above to answer the following questions:\n",
    "- What patterns do you see in the graph?\n",
    "- The y-axis shows brighter stars at the top and dimmer stars toward the bottom. What's strange about the **absolute magnitude** scale?\n",
    "- Some stars aren't very hot, but they're very bright because they're so big (called *giants* and *super giants*). Where are those on the graph?\n",
    "- Other stars are really bright, even though they're small (called *white dwarfs*). How could that happen? Where might you find them on the graph?\n",
    "\n",
    "When you're ready, scroll down to **Part Four**."
   ]
  },
  {
   "cell_type": "code",
   "execution_count": null,
   "metadata": {},
   "outputs": [],
   "source": [
    "# These are the abbreviations for all the constellations\n",
    "data['con'].sort_values().unique()"
   ]
  },
  {
   "cell_type": "code",
   "execution_count": null,
   "metadata": {},
   "outputs": [],
   "source": [
    "# This picks a constellation to plot\n",
    "constellation = data.query('con == \"Vir\"') # Vir is short for Virgo\n",
    "\n",
    "plt.close('all')\n",
    "fig = plt.figure(figsize=(12, 5))\n",
    "plt.subplot(1, 2, 1)\n",
    "\n",
    "# This plots where the constellation's 10 brightest stars are in the sky\n",
    "constellation = constellation.sort_values('mag').head(10)\n",
    "plt.scatter(constellation['ra'],constellation['dec'])\n",
    "plt.gca().invert_xaxis()\n",
    "plt.title(\"A constellation in the sky\")\n",
    "plt.xlabel(\"right ascension\")\n",
    "plt.ylabel(\"declination\")\n",
    "\n",
    "plt.subplot(1, 2, 2)\n",
    "# format the points on the graph\n",
    "transparency = 0.2\n",
    "size = 1\n",
    "\n",
    "# plots the constellation's stars in red over the big graph of all stars\n",
    "plt.scatter(data['temp'], data['absmag'], s=size, edgecolors='none', alpha=transparency)\n",
    "plt.scatter(constellation['temp'], constellation['absmag'], color='red', edgecolors='none')\n",
    "plt.xlim(2000,15000)\n",
    "plt.ylim(20,-15)\n",
    "plt.title(\"Types of stars in a constellation\")\n",
    "plt.ylabel(\"Absolute Magnitude\")\n",
    "plt.xlabel(\"Temperature (K)\")\n",
    "plt.show()"
   ]
  },
  {
   "cell_type": "markdown",
   "metadata": {},
   "source": [
    "## Part Four\n",
    "The left graph above shows what the constellation **Virgo** looks like in the sky. The graph on the right shows those same stars (as red points) on the same absolute magnitude vs. temperature graph in part two.\n",
    "- Using the graphic below, which types of stars are in Virgo?\n",
    "- The code above shows the abbreviation for each constellation, then lets you filter the data set for just the stars in that constellation (called a *query*). Try plotting a different constellation, like Orion. Is it made of different types of stars?\n",
    "\n",
    "![HR diagram](https://raw.githubusercontent.com/adamlamee/CODINGinK12/master/data/H-R-diagram.jpeg)  \n",
    "\n",
    "---  \n",
    "## Saving Your Work  \n",
    "This is running on a Google server on a distant planet and deletes what you've done when you close this tab. To save your work for later use or analysis you have a few options:  \n",
    "- File > \"Save a copy in Drive\" will save it to you Google Drive in a folder called \"Collaboratory\". You can run it later from there.  \n",
    "- File > \"Download .ipynb\" to save to your computer (and run with Jupyter software later)  \n",
    "- File > Print to ... um ... print.  \n",
    "- To save an image of a graph or chart, right-click on it and select Save Image as ...  \n",
    "\n",
    "## Credits\n",
    "The data came from [The Astronomy Nexus](http://www.astronexus.com/hyg) and their collection of the Hipparcos, Yale Bright Star, and Gliese catalogues ([huge zip file here](http://www.astronexus.com/files/downloads/hygdata_v3.csv.gz)). The handy reversed H-R diagram is from [The Electric Universe](http://www.holoscience.com/wp/twinkle-twinkle-electric-star/).\n",
    "\n",
    "UCF physics undergraduate Tyler Townsend, who located the data and began the analysis, was funded by Seminole County Schools to make scientific computing a standard part of every middle school science class. The Mily Way scatterplot was added by [Quarknet](https://quarknet.i2u2.org/) Fellow and high school teacher Jeremy Smith, Baltimore, MD. This notebook was designed by [Adam LaMee](https://adamlamee.github.io/), who coordinated its development as the [PhysTEC](https://www.phystec.org/) Teacher-in-residence in the [University of Central Florida's Physics department](https://sciences.ucf.edu/physics/). Thanks to the great folks at [Binder](https://mybinder.org/) and [Google Colaboratory](https://colab.research.google.com/notebooks/intro.ipynb) for making this notebook interactive without you needing to download it or install [Jupyter](https://jupyter.org/) on your own device. Find more activities and license info at [CODINGinK12.org](http://www.codingink12.org)."
   ]
  }
 ],
 "metadata": {
  "anaconda-cloud": {},
  "kernelspec": {
   "display_name": "Python 3",
   "language": "python",
   "name": "python3"
  },
  "language_info": {
   "codemirror_mode": {
    "name": "ipython",
    "version": 3
   },
   "file_extension": ".py",
   "mimetype": "text/x-python",
   "name": "python",
   "nbconvert_exporter": "python",
   "pygments_lexer": "ipython3",
   "version": "3.7.4"
  }
 },
 "nbformat": 4,
 "nbformat_minor": 1
}
