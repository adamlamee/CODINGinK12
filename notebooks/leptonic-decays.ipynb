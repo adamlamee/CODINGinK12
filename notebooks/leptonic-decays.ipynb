{
 "cells": [
  {
   "cell_type": "markdown",
   "metadata": {},
   "source": [
    "# Leptonic Decays @ CMS\n",
    "\n",
    "This activity uses data from the [CMS detector](https://cms.cern/detector) at CERN in Geneva, Switzerland. We've used this in [Quarknet's Data Camp at Fermilab](https://quarknet.org/page/data-camp-description) for several years to help teachers learn about particle physics.  \n",
    "\n",
    "To get started,\n",
    "- You won't hurt anything by experimenting. If you break it, close the tab and open the activity again to start over.\n",
    "- Is this your first time? Need a refresher? Try the 5-minute [Intro to Coding activity](https://colab.research.google.com/github/adamlamee/CODINGinK12/blob/master/notebooks/intro.ipynb) and come back here. \n",
    "\n",
    "When you're ready, run each code cell until you get down to **Part One**."
   ]
  },
  {
   "cell_type": "code",
   "execution_count": null,
   "metadata": {},
   "outputs": [],
   "source": [
    "# imports some software packages we'll use\n",
    "import pandas as pd\n",
    "import numpy as np\n",
    "%matplotlib inline\n",
    "import matplotlib as mpl\n",
    "import matplotlib.pyplot as plt"
   ]
  },
  {
   "cell_type": "code",
   "execution_count": null,
   "metadata": {},
   "outputs": [],
   "source": [
    "# a hashtag tells the program \"don't read the rest of the line\"\n",
    "# That way we can write \"comments\" to humans trying to figure out what the code does\n",
    "\n",
    "two_u = pd.read_csv('https://github.com/adamlamee/HEP-data/raw/master/Double_Muon_Run2011A.csv')\n",
    "# two_e = pd.read_csv('https://github.com/adamlamee/HEP-data/raw/master/Double_Electron_Run2011A.csv')\n",
    "# one_u = pd.read_csv('https://github.com/adamlamee/HEP-data/raw/master/Single_Muon_Run2011A.csv')\n",
    "# one_e = pd.read_csv('https://github.com/adamlamee/HEP-data/raw/master/Single_Electron_Run2011A.csv')\n",
    "# units in these files are energy, E, in [GeV] and momentum, p, in [GeV/c]\n",
    "\n",
    "data = two_u"
   ]
  },
  {
   "cell_type": "code",
   "execution_count": null,
   "metadata": {},
   "outputs": [],
   "source": [
    "# The .head(n) command displays the first n rows of a file.\n",
    "data.head(3)"
   ]
  },
  {
   "cell_type": "code",
   "execution_count": null,
   "metadata": {},
   "outputs": [],
   "source": [
    "# The .shape command displays the (number of rows , number of columns) in a file.\n",
    "data.shape"
   ]
  },
  {
   "cell_type": "markdown",
   "metadata": {},
   "source": [
    "## Part One\n",
    "Let's get acquainted with this dimuon data set. Look at the cells above to find the answers to the following questions:\n",
    "- In the table above, what do you think each of the column headings represent?\n",
    "- How many events does this data set contain?"
   ]
  },
  {
   "cell_type": "code",
   "execution_count": null,
   "metadata": {},
   "outputs": [],
   "source": [
    "# You can specify a column by dataset['columnName']\n",
    "# This makes a new column called \"totalE\" and fills it with (E1 + E2) for each event\n",
    "data['totalE'] = data['E1'] + data['E2']"
   ]
  },
  {
   "cell_type": "code",
   "execution_count": null,
   "metadata": {},
   "outputs": [],
   "source": [
    "# This makes a new column called \"Esquared\" and fills it with E1^2 for each event\n",
    "data['Esquared'] = data['E1']**2"
   ]
  },
  {
   "cell_type": "code",
   "execution_count": null,
   "metadata": {},
   "outputs": [],
   "source": [
    "# makes the histogram\n",
    "plt.hist(data['totalE'], bins=10, range=[0,120], log=False)\n",
    "plt.title(\"title me!\")\n",
    "plt.xlabel(\"x-axis label (GeV/c^2)\")\n",
    "plt.ylabel(\"number of events\")"
   ]
  },
  {
   "cell_type": "markdown",
   "metadata": {},
   "source": [
    "## Part Two  \n",
    "The code above may take a few moments to run since it's grabbing a pretty big data set (>400,000 events!?). When it's finished, you'll see a histogram above.  \n",
    "- What do you think the histogram above is showing? Try looking in the cell just before the graph to see the code that made it.  \n",
    "- The title and axis labels could use some work. Try typing a better label in the code before the graph. Then, run the cell by pressing shift+enter or clicking the \"run\" icon in the toolbar.  \n",
    "- It's also customary to plot this type of data on a log scale. Try that out.  \n",
    "- The [Z boson](https://en.wikipedia.org/wiki/W_and_Z_bosons) has a mass of around 90 GeV and can decay into two muons. Does your data incidate Z production? Tinkering with the histogram's range and number of bins might help your search.  "
   ]
  },
  {
   "cell_type": "markdown",
   "metadata": {},
   "source": [
    "## Part Three  \n",
    "The previous plot isn't really the one we need. The invariant mass of the parent particle isn't just equal to the toal energy of its decay products. You'll need to use E<sup>2</sup> = m<sup>2</sup> + p<sup>2</sup>. See the activity on [Invariant Mass](./invariant-mass.ipynb) for how to caluculate that. When you're ready,  \n",
    "- Create a histogram to show the production of one of the [J/$\\Psi$](https://en.wikipedia.org/wiki/J/psi_meson) or [Upsilon](https://en.wikipedia.org/wiki/Upsilon_meson) ($\\Upsilon$).  \n",
    "- Look at a different decay channel. The second code cell in this activity gives you some options.  "
   ]
  },
  {
   "cell_type": "markdown",
   "metadata": {},
   "source": [
    "## More tools\n",
    "The cells below show some sillier or more advanced tehniques."
   ]
  },
  {
   "cell_type": "code",
   "execution_count": null,
   "metadata": {},
   "outputs": [],
   "source": [
    "# run this command to make your plots look like they're from xkcd.com\n",
    "plt.xkcd()\n",
    "# then re-execute your code to make a plot and see it xkcd-ified."
   ]
  },
  {
   "cell_type": "code",
   "execution_count": null,
   "metadata": {},
   "outputs": [],
   "source": [
    "# run this cell to make normal-looking plots again\n",
    "mpl.rcdefaults()"
   ]
  },
  {
   "cell_type": "code",
   "execution_count": null,
   "metadata": {},
   "outputs": [],
   "source": [
    "# calculates descriptive statistics\n",
    "data.describe()"
   ]
  },
  {
   "cell_type": "code",
   "execution_count": null,
   "metadata": {},
   "outputs": [],
   "source": [
    "# Making cuts on your data (i.e., filtering your data set)\n",
    "eta_cut = data.query('eta1 > 2 & eta2 > 2')\n",
    "eta_cut.head()"
   ]
  },
  {
   "cell_type": "code",
   "execution_count": null,
   "metadata": {},
   "outputs": [],
   "source": [
    "# here's another example\n",
    "type_cut = data.query('Type1 == \"G\" & Type2 == \"T\"')\n",
    "type_cut.head()"
   ]
  },
  {
   "cell_type": "markdown",
   "metadata": {},
   "source": [
    "A professional physicist would usually fit a theoretical curve to the histogram to identify the particle's mass. This is called a [relativistic Breit-Wigner](https://en.wikipedia.org/wiki/Relativistic_Breit%E2%80%93Wigner_distribution) curve.  \n",
    "- First, choose some parameters for the curve based on where the peak is on your histogram and how wide it looks.  \n",
    "- Then, run the code and keep adjusting the parameters until the curve tightly fits the peak."
   ]
  },
  {
   "cell_type": "code",
   "execution_count": null,
   "metadata": {},
   "outputs": [],
   "source": [
    "# set the Breit-Wigner parameters\n",
    "xmin = 0  # lower bound for your plot\n",
    "xmax = 1  # upper bound for your plot\n",
    "particle_mass = .5 # the x-value of the peak\n",
    "width = .02 # width of the peak halfway up; a.k.a. \"full width at half max\" or FWHM\n",
    "K = 15  # a constant that affects the height of the curve, you'll need to tinker with this some\n",
    "\n",
    "# calculate the Breit-Wigner curve\n",
    "x = np.arange(xmin, xmax, (xmax-xmin)/200) # makes a series of equally spaced x-values\n",
    "y = K / ((x - particle_mass)**2 + (particle_mass*width)**2) # calculates the y-values for the B-W curve\n",
    "\n",
    "# make the plot\n",
    "fig, ax = plt.subplots(1,1, figsize=(6,4))\n",
    "ax.hist(data['totalE'], bins=10, range=[xmin,xmax], log=False)  # plots the histogram\n",
    "ax.plot(x, y, color='r')  # plots the curve\n",
    "plt.title(\"title me!\")\n",
    "plt.xlabel(\"x-axis label (in GeV/c^2)\")\n",
    "plt.ylabel(\"number of events\")\n",
    "plt.grid(True);"
   ]
  },
  {
   "cell_type": "markdown",
   "metadata": {},
   "source": [
    "If you finally have a curve that pretty closely fits the peak in your histogram, take a look at the parameters you set. The mass of the particle is your *particle_mass*. The particle's mean lifetime is h-bar/width.  \n",
    "- How do the values below compare with the accepted values for mass and lifetime of your particle?  \n",
    "- Which one is a better measure? Why do you think that?"
   ]
  },
  {
   "cell_type": "code",
   "execution_count": null,
   "metadata": {},
   "outputs": [],
   "source": [
    "print(\"mass = \", np.round(particle_mass*1000,6), \" MeV/c^2\")\n",
    "hbar = 6.6e-22      # in MeV*s\n",
    "print(\"mean lifetime = \", np.format_float_scientific(hbar/width,6), \" seconds\")"
   ]
  },
  {
   "cell_type": "markdown",
   "metadata": {
    "collapsed": true
   },
   "source": [
    "---\n",
    "## Saving Your Work\n",
    "This is running on a Google server on a distant planet and deletes what you've done when you close this tab. To save your work for later use or analysis you have a few options:\n",
    "- File > Download .ipynb to save to your computer (and run with Jupyter software)\n",
    "- File > Download .py to save to your computer (and run with any Python software)\n",
    "- File > Print to ... um ... print.\n",
    "- Save an image to your computer of a graph or chart, right-click on it and select Save Image as ...\n",
    "\n",
    "## Credits\n",
    "This notebook was designed by [Quarknet](https://quarknet.org/) Teaching and Learning Fellow [Adam LaMee](https://adamlamee.github.io/). The handy csv files were created from the CMS Run2011A primary datasets and converted from ROOT format by the masterful [Tom McCauley](https://github.com/tpmccauley). More can be found on the [CERN OpenData](http://opendata.cern.ch/?ln=en) site, like [here](http://opendata.cern.ch/record/545). The 3D vector image can be found on [WikiMedia Commons](https://commons.wikimedia.org/wiki/File:Coord_XYZ.svg). Finally, thanks to the great folks at [Binder](https://mybinder.org/) and [Google Colaboratory](https://colab.research.google.com/notebooks/intro.ipynb) for making this notebook interactive without you needing to download it or install [Jupyter](https://jupyter.org/) on your own device. Find more activities and license info at [CODINGinK12.org](http://www.codingink12.org)."
   ]
  }
 ],
 "metadata": {
  "kernelspec": {
   "display_name": "Python 3",
   "language": "python",
   "name": "python3"
  },
  "language_info": {
   "codemirror_mode": {
    "name": "ipython",
    "version": 3
   },
   "file_extension": ".py",
   "mimetype": "text/x-python",
   "name": "python",
   "nbconvert_exporter": "python",
   "pygments_lexer": "ipython3",
   "version": "3.7.4"
  }
 },
 "nbformat": 4,
 "nbformat_minor": 1
}
