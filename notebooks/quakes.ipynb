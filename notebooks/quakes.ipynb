{
  "nbformat": 4,
  "nbformat_minor": 0,
  "metadata": {
    "anaconda-cloud": {},
    "kernelspec": {
      "display_name": "Python 3",
      "language": "python",
      "name": "python3"
    },
    "language_info": {
      "codemirror_mode": {
        "name": "ipython",
        "version": 3
      },
      "file_extension": ".py",
      "mimetype": "text/x-python",
      "name": "python",
      "nbconvert_exporter": "python",
      "pygments_lexer": "ipython3",
      "version": "3.7.3"
    },
    "colab": {
      "name": "quakes_v2.ipynb",
      "provenance": [],
      "collapsed_sections": []
    }
  },
  "cells": [
    {
      "cell_type": "markdown",
      "metadata": {
        "id": "ZdqLN_A4I7D1"
      },
      "source": [
        "#  Plotting Earthquake Locations\n",
        "This activity looks for patterns in data from the U.S. Geological Survey (USGS) on earthquakes and other seismic events around the world.  \n",
        "\n",
        "To get started,\n",
        "- You won't hurt anything by experimenting. If you break it, close the tab and open the activity again to start over.\n",
        "- Is this your first time? Need a refresher? Try the 5-minute [Intro to Coding activity](./intro.ipynb) and come back here. \n",
        "\n",
        "When you're ready, run each code cell until you get down to **Part One**."
      ]
    },
    {
      "cell_type": "code",
      "metadata": {
        "id": "PfIVlWtpI7D6"
      },
      "source": [
        "!apt-get install libproj-dev proj-data proj-bin\n",
        "!apt-get install libgeos-dev\n",
        "!pip install cython\n",
        "!pip install cartopy\n",
        "#!apt-get -qq install python-cartopy python3-cartopy\n",
        "!pip uninstall -y shapely    # cartopy and shapely aren't friends (early 2020)\n",
        "!pip install shapely --no-binary shapely\n",
        "\n",
        "import warnings\n",
        "warnings.filterwarnings('ignore')\n",
        "import matplotlib.pyplot as plt\n",
        "from matplotlib import cm\n",
        "\n",
        "import numpy as np\n",
        "import pandas as pd\n",
        "import matplotlib.pyplot as plt\n",
        "pd.options.display.max_columns = 25\n",
        "\n",
        "import cartopy\n",
        "import cartopy.crs as ccrs                   # for projections\n",
        "import cartopy.feature as cfeature           # for features\n",
        "import cartopy.io.shapereader as shapereader\n",
        "from cartopy.mpl.ticker import LongitudeFormatter, LatitudeFormatter\n",
        "from cartopy.feature.nightshade import Nightshade"
      ],
      "execution_count": null,
      "outputs": []
    },
    {
      "cell_type": "code",
      "metadata": {
        "id": "iQBK9GSsPtiy"
      },
      "source": [
        "# one month of seismic data from early 2019\n",
        "data = pd.read_csv(\"https://github.com/adamlamee/CODINGinK12/raw/master/data/quakes.csv\")\n",
        "\n",
        "# uncomment the line below instead to use live data updated every 15 minutes\n",
        "#data = pd.read_csv(\"http://earthquake.usgs.gov/earthquakes/feed/v1.0/summary/all_month.csv\")\n",
        "\n",
        "data.head(5) # choose to show the first (how many) lines of the file"
      ],
      "execution_count": null,
      "outputs": []
    },
    {
      "cell_type": "code",
      "metadata": {
        "id": "FPsqyTvZPtcD"
      },
      "source": [
        "# The .shape command displays the (number of rows , number of columns) in a file.\n",
        "data.shape"
      ],
      "execution_count": null,
      "outputs": []
    },
    {
      "cell_type": "markdown",
      "metadata": {
        "id": "kGADRkTzTM8C"
      },
      "source": [
        "## Part One\n",
        "The table above shows seismic reading (vibrations in the Earth) detected any time in the past month.\n",
        "- What do you think each of the column headings represent?\n",
        "- How many seismic events are included in this data set?\n",
        "\n",
        "When you're ready, run each code cell until you get down to **Part Two**."
      ]
    },
    {
      "cell_type": "code",
      "metadata": {
        "id": "rhv4NALbPtRg"
      },
      "source": [
        "# makes the map\n",
        "fig, ax = plt.subplots(figsize=(12,7))\n",
        "ax = plt.axes(projection=ccrs.PlateCarree(central_longitude=180)) # try centering the map somewhere else\n",
        "ax.set_global()\n",
        "#ax.add_feature(cfeature.OCEAN)\n",
        "ax.set_xticks([0, 60, 120, 180, 240, 300, 360], crs=ccrs.PlateCarree())\n",
        "ax.set_yticks([-90, -60, -30, 0, 30, 60, 90], crs=ccrs.PlateCarree())\n",
        "lon_formatter = LongitudeFormatter(zero_direction_label=True)\n",
        "lat_formatter = LatitudeFormatter()\n",
        "ax.xaxis.set_major_formatter(lon_formatter)\n",
        "ax.yaxis.set_major_formatter(lat_formatter)\n",
        "\n",
        "# makes the scatterplot\n",
        "plotdata = data.query('depth > 0') #depth is in km\n",
        "x = plotdata['longitude']\n",
        "y = plotdata['latitude']\n",
        "ax.scatter(x,y,s=2, zorder=10, color='black',transform=ccrs.PlateCarree())\n",
        "ax.set_title('Title!')\n",
        "ax.set_xlabel('label me')\n",
        "ax.set_ylabel('me, too!')\n",
        "plt.show()"
      ],
      "execution_count": null,
      "outputs": []
    },
    {
      "cell_type": "markdown",
      "metadata": {
        "id": "CX-YRpBaTF09"
      },
      "source": [
        "## Part Two  \n",
        "The code above make a scatterplot with a point for each seismic event in the data table.  \n",
        "- Do you notice a pattern in the graph? Are any shapes familiar? \n",
        "    - Hint: uncomment the line that colors in the oceans  \n",
        "- Where do seismic readings tend to occur?  \n",
        "- The title and axis labels on the graph could use some work. Try editing the code above the graph, then run the code again to see the changes.  \n",
        "  \n",
        "## Part Three  \n",
        "Now it's time to conduct your own investigation. Seismic events can be shallow (a few km) or more than 600 km deep. The code above lets you filter the data set by depth (it's called a \"query\").  \n",
        "- Find the line that does a query on \"depth\".  \n",
        "- Try filtering the data for only seismic events deeper than 100 km, then make a plot.  \n",
        "- Do you see any pattern in where the deepest earthquakes are?  \n",
        "- Where do the shallowest earthquakes occur?  \n",
        "- Grab the latest data instead by editing the 2nd code cell. Are most of the seismic events in the same places?  \n",
        "  \n",
        "---  \n",
        "## Saving Your Work  \n",
        "This is running on a Google server on a distant planet and deletes what you've done when you close this tab. To save your work for later use or analysis you have a few options:  \n",
        "- File > \"Save a copy in Drive\" will save it to you Google Drive in a folder called \"Collaboratory\". You can run it later from there.  \n",
        "- File > \"Download .ipynb\" to save to your computer (and run with Jupyter software later)  \n",
        "- File > Print to ... um ... print.  \n",
        "- To save an image of a graph or chart, right-click on it and select Save Image as ...  \n",
        "\n",
        "## Credits\n",
        "The data come from the [USGS earthquakes page](http://earthquake.usgs.gov/earthquakes/feed/v1.0/csv.php). This notebook was created by Physics teacher and Quarknet member Peter Apps, York Middle/High School, Retsof, NY, and further developed by [Adam LaMee](https://adamlamee.github.io/). Thanks to the great folks at [Binder](https://mybinder.org/) and [Google Colaboratory](https://colab.research.google.com/notebooks/intro.ipynb) for making this notebook interactive without you needing to download it or install [Jupyter](https://jupyter.org/) on your own device. Find more activities and license info at [CODINGinK12.org](http://www.codingink12.org)."
      ]
    }
  ]
}
