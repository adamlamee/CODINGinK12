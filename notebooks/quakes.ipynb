{
 "cells": [
  {
   "cell_type": "markdown",
   "metadata": {},
   "source": [
    "#  Plotting Earthquake Locations\n",
    "This activity analyzes data from the U.S. Geological Survey (USGS) on earthquakes and other seismic events around the world.  \n",
    "\n",
    "To get started,\n",
    "- You won't hurt anything by experimenting. If you break it, close the tab and open the activity again to start over.\n",
    "- Is this your first time? Need a refresher? Try the 5-minute [Intro to Jupyter activity](./Intro_to_Jupyter.ipynb) and come back here. \n",
    "\n",
    "When you're ready, run each code cell until you get down to **Part One**."
   ]
  },
  {
   "cell_type": "markdown",
   "metadata": {},
   "source": [
    "## Code Box 1"
   ]
  },
  {
   "cell_type": "code",
   "execution_count": null,
   "metadata": {},
   "outputs": [],
   "source": [
    "#importing what we'll need\n",
    "import numpy as np\n",
    "import pandas as pd\n",
    "%matplotlib inline\n",
    "import matplotlib.pyplot as plt\n",
    "pd.options.display.max_columns = 25"
   ]
  },
  {
   "cell_type": "markdown",
   "metadata": {},
   "source": [
    "## Code Box 2"
   ]
  },
  {
   "cell_type": "code",
   "execution_count": null,
   "metadata": {},
   "outputs": [],
   "source": [
    "# one month of earthquake data from early 2019\n",
    "data = pd.read_csv(\"https://github.com/adamlamee/CODINGinK12/data/raw/master/quakes.csv\")\n",
    "\n",
    "# if you want to see events in the last month; updated every 15 minutes\n",
    "#data = pd.read_csv(\"http://earthquake.usgs.gov/earthquakes/feed/v1.0/summary/all_month.csv\")\n",
    "\n",
    "data.head(5) # choose to show the first (how many) lines of the file"
   ]
  },
  {
   "cell_type": "markdown",
   "metadata": {},
   "source": [
    "## Code Box 3"
   ]
  },
  {
   "cell_type": "code",
   "execution_count": null,
   "metadata": {},
   "outputs": [],
   "source": [
    "# The .shape command displays the (number of rows , number of columns) in a file.\n",
    "data.shape"
   ]
  },
  {
   "cell_type": "markdown",
   "metadata": {},
   "source": [
    "## Part One\n",
    "The table above shows seismic reading (vibrations in the Earth) detected any time in the past month.\n",
    "- What do you think each of the column headings represent?\n",
    "- How many tremors were recorded in this past month?\n",
    "\n",
    "When you're ready, run each code cell until you get down to **Part Two**."
   ]
  },
  {
   "cell_type": "markdown",
   "metadata": {},
   "source": [
    "## Code Box 4"
   ]
  },
  {
   "cell_type": "code",
   "execution_count": null,
   "metadata": {},
   "outputs": [],
   "source": [
    "# a query will filter the original data\n",
    "data_filtered = data.query('depth > 0') #depth is in km\n",
    "\n",
    "# Select data for scatter plot\n",
    "x = data_filtered.longitude\n",
    "y = data_filtered.latitude\n",
    "\n",
    "# make a graph\n",
    "plt.figure(figsize=(10,5))\n",
    "plt.scatter(x,y, s=2, color='black')\n",
    "plt.title('Title me!')\n",
    "plt.xlabel('I need a label')\n",
    "plt.ylabel('I could use one, too')\n",
    "plt.xlim(-180,180)\n",
    "plt.ylim(-90,90)\n",
    "plt.show()"
   ]
  },
  {
   "cell_type": "markdown",
   "metadata": {},
   "source": [
    "## Part Two\n",
    "The Cod eBox 4 generates a scatterplot with a point for each tremor in the data table.\n",
    "- The title and axis labels on the graph could use some work. Try editing the code above the graph, then run the code again to see the changes.\n",
    "- Do you notice a pattern in the graph? Are any shapes familiar?\n",
    "- Where do seismic readings tend to occur?\n",
    "\n",
    "## Part Three\n",
    "Now it's time to conduct your own investigation. Seismic events can be shallow (a few km) or more than 600 km deep. The code above lets you filter the data set by depth (it's called a \"query\").\n",
    "- Try filtering the data for only deep events, then make a plot.\n",
    "- Do you see any pattern in where the deepest earthquakes are?\n",
    "- Where do the shallowest earthquakes occur?\n",
    "\n",
    "---\n",
    "## Saving Your Work\n",
    "This is running on a Google server on a distant planet and deletes what you've done when you close this tab. To save your work for later use or analysis you have a few options:\n",
    "- File > Download .ipynb to save to your computer (and run with Jupyter software)\n",
    "- File > Download .py to save to your computer (and run with any Python software)\n",
    "- File > Print to ... um ... print.\n",
    "- Save an image to your computer of a graph or chart, right-click on it and select Save Image as ...\n",
    "\n",
    "## Credits\n",
    "The data come from the [USGS earthquakes page](http://earthquake.usgs.gov/earthquakes/feed/v1.0/csv.php).  \n",
    "\n",
    "This notebook was created by Physics teacher and Quarknet member Peter Apps, York Middle/High School, Retsof, NY, and further developed by [Adam LaMee](https://adamlamee.github.io/). Finally, thanks to the great folks at [Binder](https://mybinder.org/) and [Google Colaboratory](https://www.google.com/url?sa=t&rct=j&q=&esrc=s&source=web&cd=1&cad=rja&uact=8&ved=0ahUKEwjF96bdrO_bAhXD0FMKHUhAA-kQFggpMAA&url=https%3A%2F%2Fcolab.research.google.com%2F&usg=AOvVaw3A5aPK2kLFzKOzb6sOckVw) for making this notebook interactive without you needing to download it or install Jupyter on your own device. Find more activities and license info at [CODINGinK12.org](http://www.codingink12.org)."
   ]
  }
 ],
 "metadata": {
  "anaconda-cloud": {},
  "kernelspec": {
   "display_name": "Python 3",
   "language": "python",
   "name": "python3"
  },
  "language_info": {
   "codemirror_mode": {
    "name": "ipython",
    "version": 3
   },
   "file_extension": ".py",
   "mimetype": "text/x-python",
   "name": "python",
   "nbconvert_exporter": "python",
   "pygments_lexer": "ipython3",
   "version": "3.7.1"
  }
 },
 "nbformat": 4,
 "nbformat_minor": 1
}
