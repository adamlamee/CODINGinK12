{
 "cells": [
  {
   "cell_type": "markdown",
   "metadata": {},
   "source": [
    "# Example of reading data from a Google Sheet into a Jupyter notebook\n",
    "\n",
    "This example uses audio data I collected with the PhyPhox app to investigate the relationship between frequency and loudness for recorded sound. This notebook intentionally doesn't get into much analysis or coding tutorials, but you can find more of that at [CODINGinK12.org](http://codingink12.org)."
   ]
  },
  {
   "cell_type": "code",
   "execution_count": null,
   "metadata": {},
   "outputs": [],
   "source": [
    "import pandas as pd\n",
    "import matplotlib.pyplot as plt\n",
    "import numpy as np"
   ]
  },
  {
   "cell_type": "markdown",
   "metadata": {},
   "source": [
    "Reading data from a Google Sheet:\n",
    "\n",
    "1.   Get the view-only link to the sheet. Here's what mine looks like:\n",
    "\n",
    "  https://docs.google.com/spreadsheets/d/19ICJSg5nAHz6wzEENT2EnRaxRulgeK1D8LhSZldF5fY/edit?usp=sharing\n",
    "2.   Replace the last part with \"export\", like this:\n",
    "\n",
    "  https://docs.google.com/spreadsheets/d/19ICJSg5nAHz6wzEENT2EnRaxRulgeK1D8LhSZldF5fY/export"
   ]
  },
  {
   "cell_type": "code",
   "execution_count": null,
   "metadata": {},
   "outputs": [],
   "source": [
    "# read in the file with pandas\n",
    "data = pd.read_excel(\"https://docs.google.com/spreadsheets/d/19ICJSg5nAHz6wzEENT2EnRaxRulgeK1D8LhSZldF5fY/export\")\n",
    "data.head(3)     # show the first few rows"
   ]
  },
  {
   "cell_type": "code",
   "execution_count": null,
   "metadata": {},
   "outputs": [],
   "source": [
    "# (rows, columns) of the source data\n",
    "data.shape"
   ]
  },
  {
   "cell_type": "code",
   "execution_count": null,
   "metadata": {},
   "outputs": [],
   "source": [
    "# a quick visualization\n",
    "data.plot('Frequency(Hz)', 'FFT Mag(a.u.)');"
   ]
  },
  {
   "cell_type": "code",
   "execution_count": null,
   "metadata": {},
   "outputs": [],
   "source": [
    "# dig a little deeper\n",
    "fig, ax = plt.subplots()\n",
    "ax.scatter(data['Frequency(Hz)'], data['FFT Mag(a.u.)'])\n",
    "ax.set_xlim(0,1200)\n",
    "ax.set_ylim(0, 45)\n",
    "ax.set_title(\"title me?\")\n",
    "ax.set_xlabel(\"title me?\")\n",
    "ax.set_ylabel(\"title me?\")\n",
    "ax.annotate(\"f0 ~ 175 Hz\", (175, 18), xytext=(10,25), arrowprops={'arrowstyle':'->'})\n",
    "ax.annotate(\"f1 ~ 2xf0\", (2*175, 23), xytext=(200,35), arrowprops={'arrowstyle':'->'})\n",
    "ax.annotate(\"f2 ~ 3xf0\", (3*175, 33), xytext=(400,40), arrowprops={'arrowstyle':'->'})\n",
    "ax.annotate(\"f3 ~ 4xf0\", (4*175, 42), xytext=(800,43), arrowprops={'arrowstyle':'->'})\n",
    "ax.annotate(\"f4 ~ 5xf0\", (5*175, 8), xytext=(800,35), arrowprops={'arrowstyle':'->'})\n",
    "ax.annotate(\"f5 ~ 6xf0\", (6*175, 25), xytext=(1000,30), arrowprops={'arrowstyle':'->'})\n",
    "plt.show()"
   ]
  },
  {
   "cell_type": "markdown",
   "metadata": {},
   "source": [
    "## Credits\n",
    "\n",
    "The data were collected using the [PhyPhox app](https://phyphox.org/).\n",
    "\n",
    "This notebook was designed by Adam LaMee. Thanks to the great folks at Binder and Google Colaboratory for making this notebook interactive without you needing to download it or install Jupyter on your own device. Find more activities and license info at [CODINGinK12.org](http://codingink12.org/)."
   ]
  }
 ],
 "metadata": {
  "kernelspec": {
   "display_name": "Python 3 (ipykernel)",
   "language": "python",
   "name": "python3"
  },
  "language_info": {
   "codemirror_mode": {
    "name": "ipython",
    "version": 3
   },
   "file_extension": ".py",
   "mimetype": "text/x-python",
   "name": "python",
   "nbconvert_exporter": "python",
   "pygments_lexer": "ipython3",
   "version": "3.9.15"
  }
 },
 "nbformat": 4,
 "nbformat_minor": 4
}
