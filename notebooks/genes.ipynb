{
 "cells": [
  {
   "cell_type": "markdown",
   "metadata": {
    "colab_type": "text",
    "id": "7DIwQmBcebog"
   },
   "source": [
    "# Genetics and Inheritance\n",
    "In this activity, you'll use a punnett square to discover the likelihood of children inheriting certain genotypes based on the genotypes of their parents.\n",
    "\n",
    "To get started,\n",
    "- You won't hurt anything by experimenting. If you break it, close the tab and open the activity again to start over.\n",
    "- Is this your first time? Need a refresher? Try the 5-minute [Intro to Jupyter activity](./Intro_to_Jupyter.ipynb) and come back here. \n",
    "\n",
    "When you're ready, run each **code box** until you get down to **Questions**.\n",
    "\n",
    "## Code Box 1"
   ]
  },
  {
   "cell_type": "code",
   "execution_count": null,
   "metadata": {
    "colab": {},
    "colab_type": "code",
    "id": "4KZ3j-aKQZeq"
   },
   "outputs": [],
   "source": [
    "# We first have to import all the software packages that we'll need.\n",
    "import pandas as pd\n",
    "import numpy as np\n",
    "%matplotlib inline\n",
    "import matplotlib as mpl\n",
    "import matplotlib.pyplot as plt"
   ]
  },
  {
   "cell_type": "markdown",
   "metadata": {},
   "source": [
    "## Code Box 2"
   ]
  },
  {
   "cell_type": "code",
   "execution_count": null,
   "metadata": {},
   "outputs": [],
   "source": [
    "# Information for each parent\n",
    "parent_one = \"Aa\"\n",
    "parent_two = \"aa\"\n",
    "\n",
    "color_1 = 'brown'\n",
    "color_2 = 'blue'\n",
    "\n",
    "# This will allow us to check if the genotype is reccesive or dominant\n",
    "def checker(gene):\n",
    "  checker = False\n",
    "  if len(gene) == 2:\n",
    "    if gene[0].isupper() or gene[1].isupper():\n",
    "      color = color_1\n",
    "      return 'color: %s' % color\n",
    "    else:\n",
    "      color = color_2\n",
    "      return 'color: %s' % color\n",
    "  else:\n",
    "    return gene\n",
    "\n",
    "def fix(gene):\n",
    "  if gene[1].isupper() and gene[0].islower():\n",
    "    gene = gene.lower().capitalize()\n",
    "    return gene\n",
    "  else:\n",
    "    return gene\n",
    "\n",
    "# This will pair the genes together into their possible combinations\n",
    "combo_one = fix(parent_one[0]+parent_two[0])\n",
    "combo_two = fix(parent_one[1] + parent_two[0])\n",
    "combo_three = fix(parent_one[0]+parent_two[1])\n",
    "combo_four = fix(parent_one[1]+parent_two[1]) "
   ]
  },
  {
   "cell_type": "markdown",
   "metadata": {
    "colab_type": "text",
    "id": "ZT2ll0mgFVsT"
   },
   "source": [
    "## Code Box 3"
   ]
  },
  {
   "cell_type": "code",
   "execution_count": null,
   "metadata": {
    "colab": {
     "base_uri": "https://localhost:8080/",
     "height": 146
    },
    "colab_type": "code",
    "id": "ben8GE8Ud2vl",
    "outputId": "2e92f4f1-8f0c-400f-eb4f-ba38788c5a61"
   },
   "outputs": [],
   "source": [
    "# Now we'll assemble a Punnett square with these values.\n",
    "data =  {1 : [\" \", parent_one[0], parent_one[1]],\n",
    "         2 : [parent_two[0],combo_one,combo_two],\n",
    "         3 : [parent_two[1], combo_three,combo_four]}\n",
    "index = [1,2,3]\n",
    "columns = [1,2,3]\n",
    "frame = pd.DataFrame(data,index=index, columns=columns)\n",
    "\n",
    "# Now let's format the Punnett square a little more to make it so \n",
    "# the color of our genotypes reveal something about the genotypes.\n",
    "styles = [dict(selector=\"th\", props=[(\"color\", \"white\"), (\"font-size\", \"0%\")])]\n",
    "frame.style\\\n",
    "      .applymap(checker, subset=[2, 3])\\\n",
    "      .set_properties(**{'font-size': '20pt', 'text-align': 'center'})\\\n",
    "      .set_table_styles(styles)\\\n",
    "      .set_caption(\"I'm a title\")"
   ]
  },
  {
   "cell_type": "markdown",
   "metadata": {},
   "source": [
    "# Questions\n",
    "Take a look at the parents' information in **code box 2** above.\n",
    "\n",
    "*   What do the combination of numbers after the words parent_one and parent_two represent? What do the individual letters represent?\n",
    "*   Everything with 0 in the brackets is the first letter of that parent and the ones with 1 mean the second letter of that parent. Knowing this, what is happening on the lines that say combo?"
   ]
  },
  {
   "cell_type": "markdown",
   "metadata": {
    "colab_type": "text",
    "id": "p-8PbR7vjRQZ"
   },
   "source": [
    "---\n",
    "## Saving Your Work\n",
    "This is running on a Google server on a distant planet and deletes what you've done when you close this tab. To save your work for later use or analysis you have a few options:\n",
    "- File > Download .ipynb to save to your computer (and run with Jupyter software)\n",
    "- File > Download .py to save to your computer (and run with any Python software)\n",
    "- File > Print to ... um ... print.\n",
    "- Save an image to your computer of a graph or chart, right-click on it and select Save Image as ...\n",
    "\n",
    "## Credits\n",
    "UCF undergraduate Dylan Skelly, who started the development of this notebook, was funded by Orange County Public Schools to make scientific computing a standard part of every middle school science class. This notebook was designed by Adam LaMee, who coordinated its development as the PhysTEC Teacher-in-residence in the University of Central Florida's Physics department.Thanks to the great folks at [Binder](https://mybinder.org/) and [Google Colaboratory](https://www.google.com/url?sa=t&rct=j&q=&esrc=s&source=web&cd=1&cad=rja&uact=8&ved=0ahUKEwjF96bdrO_bAhXD0FMKHUhAA-kQFggpMAA&url=https%3A%2F%2Fcolab.research.google.com%2F&usg=AOvVaw3A5aPK2kLFzKOzb6sOckVw) for making this notebook interactive without you needing to download it or install Jupyter on your own device. Find more activities and license info at [CODINGinK12.org](http://www.codingink12.org)."
   ]
  }
 ],
 "metadata": {
  "colab": {
   "collapsed_sections": [],
   "name": "Punnett Square",
   "provenance": [],
   "version": "0.3.2"
  },
  "kernelspec": {
   "display_name": "Python 3",
   "language": "python",
   "name": "python3"
  },
  "language_info": {
   "codemirror_mode": {
    "name": "ipython",
    "version": 3
   },
   "file_extension": ".py",
   "mimetype": "text/x-python",
   "name": "python",
   "nbconvert_exporter": "python",
   "pygments_lexer": "ipython3",
   "version": "3.7.1"
  }
 },
 "nbformat": 4,
 "nbformat_minor": 1
}
