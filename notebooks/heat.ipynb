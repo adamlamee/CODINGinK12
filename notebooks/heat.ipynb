{
 "cells": [
  {
   "cell_type": "markdown",
   "metadata": {},
   "source": [
    "# Heat and Temperature\n",
    "\n",
    "This activity investigates data from two experiments trying to melt chocolate with different heat sources.\n",
    "\n",
    "To get started,\n",
    "- You won't hurt anything by experimenting. If you break it, close the tab and open the activity again to start over.\n",
    "- Is this your first time? Need a refresher? Try the 5-minute [Intro to Jupyter activity](./Intro_to_Jupyter.ipynb) and come back here. \n",
    "\n",
    "When you're ready, run each code box until you get down to **Questions**.\n",
    "\n",
    "## Code Box 1"
   ]
  },
  {
   "cell_type": "code",
   "execution_count": null,
   "metadata": {},
   "outputs": [],
   "source": [
    "# We first have to import the software we'll need, called 'modules'\n",
    "import numpy as np\n",
    "import pandas as pd\n",
    "%matplotlib inline\n",
    "import matplotlib.pyplot as plt"
   ]
  },
  {
   "cell_type": "markdown",
   "metadata": {},
   "source": [
    "## Code Box 2"
   ]
  },
  {
   "cell_type": "code",
   "execution_count": null,
   "metadata": {},
   "outputs": [],
   "source": [
    "# We use the method \".read_csv\" located in the \"pd\" module to get the data.\n",
    "heat = pd.read_csv(\"https://github.com/adamlamee/CODINGinK12/raw/master/data/heat.csv\")\n",
    "\n",
    "# This diplays the data (time in minutes, temperature in degrees C)\n",
    "heat"
   ]
  },
  {
   "cell_type": "markdown",
   "metadata": {},
   "source": [
    "## Code Box 3"
   ]
  },
  {
   "cell_type": "code",
   "execution_count": null,
   "metadata": {},
   "outputs": [],
   "source": [
    "plt.plot('time', 'heat lamp temp', data=heat, color='red', marker='o')\n",
    "plt.plot('time', 'hair dryer temp', data=heat, color='blue', marker='o')\n",
    "plt.title('Type title here')\n",
    "plt.xlabel('Type x-axis label here')\n",
    "plt.ylabel('Type y-axis label here')\n",
    "plt.legend()\n",
    "plt.show()"
   ]
  },
  {
   "cell_type": "markdown",
   "metadata": {},
   "source": [
    "---\n",
    "\n",
    "## Saving Your Beautiful Graph\n",
    "\n",
    "Screenshot your graph and insert it into your assignment.\n",
    " \n",
    "### If you want to save all of your work in this notebook...  \n",
    "This is running on a Google server on a distant planet and deletes what you've done when you close this tab. To save your work for later use or analysis you have a few options:\n",
    "- File > Download .ipynb to save to your computer (and run with Jupyter software)\n",
    "- File > Download .py to save to your computer (and run with any Python software)\n",
    "- File > Print to ... um ... print.\n",
    "- Save an image to your computer of a graph or chart, right-click on it and select Save Image as ...\n",
    "\n",
    "## Credits\n",
    "UCF undergraduate Michael Antia, who started the development of this notebook, was funded by Orange County Schools to make scientific computing a standard part of every middle school science class. This notebook was designed by [Adam LaMee](https://adamlamee.github.io/), who coordinated its development as the [PhysTEC](https://www.phystec.org/) Teacher-in-residence in the [University of Central Florida's Physics department](https://sciences.ucf.edu/physics/). Finally, thanks to the great folks at [Binder](https://mybinder.org/) and [Google Colaboratory](https://www.google.com/url?sa=t&rct=j&q=&esrc=s&source=web&cd=1&cad=rja&uact=8&ved=0ahUKEwjF96bdrO_bAhXD0FMKHUhAA-kQFggpMAA&url=https%3A%2F%2Fcolab.research.google.com%2F&usg=AOvVaw3A5aPK2kLFzKOzb6sOckVw) for making this notebook interactive without you needing to download it or install Jupyter on your own device. Find more activities and license info at [CODINGinK12.org](http://www.codingink12.org)."
   ]
  }
 ],
 "metadata": {
  "kernelspec": {
   "display_name": "Python 3",
   "language": "python",
   "name": "python3"
  },
  "language_info": {
   "codemirror_mode": {
    "name": "ipython",
    "version": 3
   },
   "file_extension": ".py",
   "mimetype": "text/x-python",
   "name": "python",
   "nbconvert_exporter": "python",
   "pygments_lexer": "ipython3",
   "version": "3.7.1"
  }
 },
 "nbformat": 4,
 "nbformat_minor": 2
}
