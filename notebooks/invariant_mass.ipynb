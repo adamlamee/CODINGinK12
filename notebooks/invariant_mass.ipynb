{
 "cells": [
  {
   "cell_type": "markdown",
   "metadata": {},
   "source": [
    "# CMS Calculating Invariant Mass \n",
    "\n",
    "This activity uses data from the CMS detector at CERN's LHC. It's actually the same activity we've used in [Quarknet's Data Camp at Fermilab](https://quarknet.i2u2.org/content/quarknet-data-camp) for several years, but using Python to pick it apart instead of a spreadsheet. The files contain collision events. You'll begin by looking at the events which included two muons in the decay products. \n",
    "\n",
    "To get started,\n",
    "- You won't hurt anything by experimenting. If you break it, close the tab and open the activity again to start over.\n",
    "- Is this your first time? Need a refresher? Try the 5-minute [Intro to Jupyter activity](./Intro_to_Jupyter.ipynb) and come back here. \n",
    "\n",
    "When you're ready, run each code cell until you get down to **Part One**."
   ]
  },
  {
   "cell_type": "code",
   "execution_count": null,
   "metadata": {},
   "outputs": [],
   "source": [
    "# imports some software packages we'll use\n",
    "import pandas as pd\n",
    "import numpy as np\n",
    "%matplotlib inline\n",
    "import matplotlib as mpl\n",
    "import matplotlib.pyplot as plt\n",
    "mpl.rcdefaults()"
   ]
  },
  {
   "cell_type": "code",
   "execution_count": null,
   "metadata": {},
   "outputs": [],
   "source": [
    "# a hashtag tells the program \"don't read the rest of the line\"\n",
    "# That way we can write \"comments\" to humans trying to figure out what the code does\n",
    "\n",
    "two_u = pd.read_csv('https://github.com/adamlamee/HEP-data/raw/master/Double_Muon_Run2011A.csv')\n",
    "# two_e = pd.read_csv('https://github.com/adamlamee/HEP-data/raw/master/Double_Electron_Run2011A.csv')\n",
    "\n",
    "data = two_u"
   ]
  },
  {
   "cell_type": "code",
   "execution_count": null,
   "metadata": {},
   "outputs": [],
   "source": [
    "# The .head(n) command displays the first n rows of a file.\n",
    "data.head(3)"
   ]
  },
  {
   "cell_type": "code",
   "execution_count": null,
   "metadata": {},
   "outputs": [],
   "source": [
    "# The .shape command displays the (number of rows , number of columns) in a file.\n",
    "data.shape"
   ]
  },
  {
   "cell_type": "markdown",
   "metadata": {},
   "source": [
    "## Part One\n",
    "Let's get acquainted with this data set. It represents a particle decaying (called an *event*) into two muons. Look at the cells above to find the answers to the following questions:\n",
    "- In the table above, what do you think each of the column headings represent?\n",
    "- How many events does this data set contain?\n",
    "\n",
    "When you're ready, scroll down to **Part 2**."
   ]
  },
  {
   "cell_type": "code",
   "execution_count": null,
   "metadata": {},
   "outputs": [],
   "source": [
    "# You can specify a column by dataset.columnName (e.g., two_u.p1)\n",
    "# This makes a new column called \"p1Total\" and fills it with sqrt(px1^2 + py1^2) for each event\n",
    "data['p1Total'] = (data.px1**2 + data.py1**2)**.5\n",
    "data.head(3)"
   ]
  },
  {
   "cell_type": "markdown",
   "metadata": {},
   "source": [
    "## Part Two\n",
    "Each muon has momentum. Since they travel in 3 dimensions, the momentum has three componenets. For 2D motion, you can calculate the total momentum with the Pythogorean Theorem: pTotal<sup>2</sup> = px<sup>2</sup> + py<sup>2</sup>. In 3 dimensions, it looks like pTotal<sup>2</sup> = px<sup>2</sup> + py<sup>2</sup> + pz<sup>2</sup>.  \n",
    "- Try editing the code in the cell above to use all 3 components of momentum to calculate muon 1's total momentum?  \n",
    "\n",
    "When you're ready, scroll down to **Part 3**.\n",
    "<img src=\"https://upload.wikimedia.org/wikipedia/commons/thumb/6/64/Coord_XYZ.svg/2000px-Coord_XYZ.svg.png\" alt=\"Drawing\" style=\"width: 200px;\"/>"
   ]
  },
  {
   "cell_type": "code",
   "execution_count": null,
   "metadata": {},
   "outputs": [],
   "source": [
    "#To calulate invariant mass, we take E^2 - p^2 \n",
    "#This makes a new column called \"m1\" and fills it with E1 + p1 for each event\n",
    "data['m1'] = (data.E1 + data.p1Total)\n",
    "data.head(3)"
   ]
  },
  {
   "cell_type": "markdown",
   "metadata": {},
   "source": [
    "## Part Three\n",
    "Here's where relativity comes in. A particle's **energy** is due to it's **mass** and **momentum**. This equation is also similar to the Pythagoream theorem: energy<sup>2</sup> = mass<sup>2</sup> + momentum<sup>2</sup>\n",
    "\n",
    "- The code above creates a column for the mass of muon 1, but the equation isn't quite right. Try editing the code in the cell above to *really* calculate moun 1's mass.  \n",
    "\n",
    "When you're ready, scroll down to **Part 4**."
   ]
  },
  {
   "cell_type": "code",
   "execution_count": null,
   "metadata": {},
   "outputs": [],
   "source": [
    "# makes the histogram\n",
    "plt.hist(data.m1, bins=5, range=[0,50], log=False)\n",
    "plt.title(\"Dimuon Events\")\n",
    "plt.xlabel(\"x-axis label\")\n",
    "plt.ylabel(\"number of events\")\n",
    "plt.grid(True);"
   ]
  },
  {
   "cell_type": "markdown",
   "metadata": {},
   "source": [
    "## Part Four\n",
    "The code above may take a few moments to run since it's grabbing a pretty big data set (>400,000 events!?). When it's finished, you'll see a histogram of the mass values you calucalted for muon 1 in each event.\n",
    "- You'll probably need to adjust the hstogram's range or number of bins. Try editing those values until you see a sharp peak in a the larger *hill* in the distribution.\n",
    "- Based on your histogram, what value does the average muon mass seem to be?\n",
    "- It seems like the x-axis label needs a little work. Try replacing it with something better.  \n",
    "\n",
    "Now that you've analyzed your own huge set of particle collision events, here are some follow-up questions:\n",
    "- How do the values you calculated compare to the actual values of the [electron](https://en.wikipedia.org/wiki/Electron) and the [muon](https://en.wikipedia.org/wiki/Muon). Are they very different, if so why might that be?\n",
    "- Why doesn't energy have x, y, and z components like momentum?\n",
    "- How does E<sup>2</sup> - p<sup>2</sup> give you a unit of mass?\n",
    "- Try calculating m2 above by changing the existing values.\n",
    "- Try calculating the electron's invariant mass using a different data set. The second code cell in this activity (probably labeled \"ln[2]\") gives you some options "
   ]
  },
  {
   "cell_type": "markdown",
   "metadata": {},
   "source": [
    "## More tools\n",
    "The cells below show some sillier or more advanced tehniques."
   ]
  },
  {
   "cell_type": "code",
   "execution_count": null,
   "metadata": {},
   "outputs": [],
   "source": [
    "# run this command to make your plots look like they're from xkcd.com\n",
    "plt.xkcd()\n",
    "# then re-execute your code to make a plot and see it xkcd-ified."
   ]
  },
  {
   "cell_type": "code",
   "execution_count": null,
   "metadata": {},
   "outputs": [],
   "source": [
    "# run this cell to make normal-looking plots again\n",
    "mpl.rcdefaults()"
   ]
  },
  {
   "cell_type": "markdown",
   "metadata": {
    "collapsed": true
   },
   "source": [
    "---\n",
    "## Saving Your Work\n",
    "This is running on a Google server on a distant planet and deletes what you've done when you close this tab. To save your work for later use or analysis you have a few options:\n",
    "- File > Download .ipynb to save to your computer (and run with Jupyter software)\n",
    "- File > Download .py to save to your computer (and run with any Python software)\n",
    "- File > Print to ... um ... print.\n",
    "- Save an image to your computer of a graph or chart, right-click on it and select Save Image as ...\n",
    "\n",
    "## Credits\n",
    "This notebook was designed by [Quarknet](https://quarknet.i2u2.org/) Teaching and Learning Fellow [Adam LaMee](https://adamlamee.github.io/) and UCF Physics undergrad Brooke Emison. The handy csv files were created from run2011A primary datasets and converted from ROOT format by the masterful [Tom McCauley](https://github.com/tpmccauley). More can be found on the [CERN OpenData](http://opendata.cern.ch/?ln=en) site, like [here](http://opendata.cern.ch/record/545). Finally, thanks to the great folks at [Binder](https://mybinder.org/) and [Google Colaboratory](https://www.google.com/url?sa=t&rct=j&q=&esrc=s&source=web&cd=1&cad=rja&uact=8&ved=0ahUKEwjF96bdrO_bAhXD0FMKHUhAA-kQFggpMAA&url=https%3A%2F%2Fcolab.research.google.com%2F&usg=AOvVaw3A5aPK2kLFzKOzb6sOckVw) for making this notebook interactive without you needing to download it or install Jupyter on your own device. Find more activities and license info at [CODINGinK12.org](http://www.codingink12.org)."
   ]
  }
 ],
 "metadata": {
  "anaconda-cloud": {},
  "kernelspec": {
   "display_name": "Python 3",
   "language": "python",
   "name": "python3"
  },
  "language_info": {
   "codemirror_mode": {
    "name": "ipython",
    "version": 3
   },
   "file_extension": ".py",
   "mimetype": "text/x-python",
   "name": "python",
   "nbconvert_exporter": "python",
   "pygments_lexer": "ipython3",
   "version": "3.5.2"
  }
 },
 "nbformat": 4,
 "nbformat_minor": 1
}
